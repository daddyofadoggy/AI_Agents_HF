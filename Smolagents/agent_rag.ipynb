{
  "cells": [
    {
      "cell_type": "markdown",
      "metadata": {
        "id": "nHLZAm9Qi1mS"
      },
      "source": [
        "# Agentic RAG: turbocharge your RAG with query reformulation and self-query! 🚀\n",
        "_Authored by: [Aymeric Roucher](https://huggingface.co/m-ric)_\n",
        "\n",
        "> This tutorial is advanced. You should have notions from [this other cookbook](advanced_rag) first!\n",
        "\n",
        "> Reminder: Retrieval-Augmented-Generation (RAG) is “using an LLM to answer a user query, but basing the answer on information retrieved from a knowledge base”. It has many advantages over using a vanilla or fine-tuned LLM: to name a few, it allows to ground the answer on true facts and reduce confabulations, it allows to provide the LLM with domain-specific knowledge, and it allows fine-grained control of access to information from the knowledge base.\n",
        "\n",
        "But vanilla RAG has limitations, most importantly these two:\n",
        "- It **performs only one retrieval step**: if the results are bad, the generation in turn will be bad.\n",
        "- __Semantic similarity is computed with the *user query* as a reference__, which might be suboptimal: for instance, the user query will often be a question and the document containing the true answer will be in affirmative voice, so its similarity score will be downgraded compared to other source documents in the interrogative form, leading to a risk of missing the relevant information.\n",
        "\n",
        "But we can alleviate these problems by making a **RAG agent: very simply, an agent armed with a retriever tool!**\n",
        "\n",
        "This agent will: ✅ Formulate the query itself and ✅ Critique to re-retrieve if needed.\n",
        "\n",
        "So it should naively recover some advanced RAG techniques!\n",
        "- Instead of directly using the user query as the reference in semantic search, the agent formulates itself a reference sentence that can be closer to the targeted documents, as in [HyDE](https://huggingface.co/papers/2212.10496)\n",
        "- The agent can the generated snippets and re-retrieve if needed, as in [Self-Query](https://docs.llamaindex.ai/en/stable/examples/evaluation/RetryQuery/)\n",
        "\n",
        "Let's build this system. 🛠️\n",
        "\n",
        "Run the line below to install required dependencies:"
      ]
    },
    {
      "cell_type": "code",
      "source": [
        "from google.colab import userdata\n",
        "userdata.get('HF_TOKEN')"
      ],
      "metadata": {
        "id": "PuPdj7BKi35g"
      },
      "execution_count": null,
      "outputs": []
    },
    {
      "cell_type": "code",
      "execution_count": null,
      "metadata": {
        "id": "gJA8IW10i1mU"
      },
      "outputs": [],
      "source": [
        "!pip install pandas langchain langchain-community sentence-transformers faiss-cpu smolagents --upgrade -q"
      ]
    },
    {
      "cell_type": "markdown",
      "metadata": {
        "id": "sOZUdUqYi1mU"
      },
      "source": [
        "Let's login in order to call the HF Inference API:"
      ]
    },
    {
      "cell_type": "code",
      "execution_count": null,
      "metadata": {
        "id": "WRWlL9qFi1mU"
      },
      "outputs": [],
      "source": [
        "from huggingface_hub import notebook_login\n",
        "\n",
        "notebook_login()"
      ]
    },
    {
      "cell_type": "code",
      "source": [
        "!rm -rf ~/.cache/huggingface/datasets/nielsr___huggingface-hub-docs*"
      ],
      "metadata": {
        "id": "9WXJg6mpp8u_"
      },
      "execution_count": null,
      "outputs": []
    },
    {
      "cell_type": "markdown",
      "metadata": {
        "id": "o6le5Ixci1mV"
      },
      "source": [
        "We first load a knowledge base on which we want to perform RAG: this dataset is a compilation of the documentation pages for many `huggingface` packages, stored as markdown."
      ]
    },
    {
      "cell_type": "code",
      "source": [
        "#import pandas as pd\n",
        "\n",
        "#url = \"https://huggingface.co/datasets/nielsr/huggingface-hub-docs/resolve/main/data/train-00000-of-00001.parquet\"\n",
        "\n",
        "#df = pd.read_parquet(url)\n",
        "\n",
        "#print(df.head())\n"
      ],
      "metadata": {
        "id": "IzcMQ99ZluV4"
      },
      "execution_count": null,
      "outputs": []
    },
    {
      "cell_type": "code",
      "source": [
        "#df.shape"
      ],
      "metadata": {
        "id": "TB36eNZOxf-4"
      },
      "execution_count": null,
      "outputs": []
    },
    {
      "cell_type": "code",
      "source": [
        "import pandas as pd\n",
        "\n",
        "\n",
        "# Load into pandas DataFrame locally\n",
        "df = pd.read_csv('/content/huggingface_doc.csv')\n",
        "\n",
        "# Preview\n",
        "print(df.shape)\n",
        "print(df.head())"
      ],
      "metadata": {
        "id": "lu2f0gSnQR5Y"
      },
      "execution_count": null,
      "outputs": []
    },
    {
      "cell_type": "code",
      "source": [
        "df"
      ],
      "metadata": {
        "id": "iGKrFubjlCNI"
      },
      "execution_count": null,
      "outputs": []
    },
    {
      "cell_type": "code",
      "source": [
        "#from datasets import get_dataset_split_names, load_dataset_builder\n",
        "\n",
        "#print(get_dataset_split_names(\"nielsr/huggingface-hub-docs\"))\n",
        "#builder = load_dataset_builder(\"nielsr/huggingface-hub-docs\")\n",
        "#print(builder.info.features)\n"
      ],
      "metadata": {
        "id": "zupy-J6qqXzD"
      },
      "execution_count": null,
      "outputs": []
    },
    {
      "cell_type": "code",
      "execution_count": null,
      "metadata": {
        "id": "r0SA5Odji1mV"
      },
      "outputs": [],
      "source": [
        "import datasets\n",
        "from datasets import Dataset\n",
        "\n",
        "knowledge_base = Dataset.from_pandas(df)\n"
      ]
    },
    {
      "cell_type": "code",
      "source": [
        "knowledge_base"
      ],
      "metadata": {
        "id": "0HCADn9trmbY"
      },
      "execution_count": null,
      "outputs": []
    },
    {
      "cell_type": "code",
      "source": [
        "knowledge_base[0]"
      ],
      "metadata": {
        "id": "GYrxW-murmM0"
      },
      "execution_count": null,
      "outputs": []
    },
    {
      "cell_type": "markdown",
      "metadata": {
        "id": "Ds12xK9Bi1mV"
      },
      "source": [
        "Now we prepare the knowledge base by processing the dataset and storing it into a vector database to be used by the retriever.\n",
        "\n",
        "We use [LangChain](https://python.langchain.com/) for its excellent vector database utilities.\n",
        "For the embedding model, we use [thenlper/gte-small](https://huggingface.co/thenlper/gte-small) since it performed well in our `RAG_evaluation` cookbook."
      ]
    },
    {
      "cell_type": "code",
      "execution_count": null,
      "metadata": {
        "id": "SWf58dTUi1mV"
      },
      "outputs": [],
      "source": [
        "from tqdm import tqdm\n",
        "from transformers import AutoTokenizer\n",
        "from langchain.docstore.document import Document\n",
        "from langchain.text_splitter import RecursiveCharacterTextSplitter\n",
        "from langchain.vectorstores import FAISS\n",
        "from langchain_community.embeddings import HuggingFaceEmbeddings\n",
        "from langchain_community.vectorstores.utils import DistanceStrategy\n",
        "\n",
        "source_docs = [\n",
        "    Document(page_content=doc[\"text\"], metadata={\"source\": doc[\"source\"].split(\"/\")[1]})\n",
        "    for doc in knowledge_base\n",
        "]\n",
        "\n",
        "text_splitter = RecursiveCharacterTextSplitter.from_huggingface_tokenizer(\n",
        "    AutoTokenizer.from_pretrained(\"thenlper/gte-small\"),\n",
        "    chunk_size=200,\n",
        "    chunk_overlap=20,\n",
        "    add_start_index=True,\n",
        "    strip_whitespace=True,\n",
        "    separators=[\"\\n\\n\", \"\\n\", \".\", \" \", \"\"],\n",
        ")\n",
        "\n",
        "# Split docs and keep only unique ones\n",
        "print(\"Splitting documents...\")\n",
        "docs_processed = []\n",
        "unique_texts = {}\n",
        "for doc in tqdm(source_docs):\n",
        "    new_docs = text_splitter.split_documents([doc])\n",
        "    for new_doc in new_docs:\n",
        "        if new_doc.page_content not in unique_texts:\n",
        "            unique_texts[new_doc.page_content] = True\n",
        "            docs_processed.append(new_doc)\n",
        "\n",
        "print(\n",
        "    \"Embedding documents... This should take a few minutes (5 minutes on MacBook with M1 Pro)\"\n",
        ")\n",
        "embedding_model = HuggingFaceEmbeddings(model_name=\"thenlper/gte-small\")\n",
        "vectordb = FAISS.from_documents(\n",
        "    documents=docs_processed,\n",
        "    embedding=embedding_model,\n",
        "    distance_strategy=DistanceStrategy.COSINE,\n",
        ")"
      ]
    },
    {
      "cell_type": "code",
      "source": [
        "len(source_docs)"
      ],
      "metadata": {
        "id": "8g_7jrHixmfz"
      },
      "execution_count": null,
      "outputs": []
    },
    {
      "cell_type": "code",
      "source": [
        "source_docs[1]"
      ],
      "metadata": {
        "id": "PiRI-lRkuzzU"
      },
      "execution_count": null,
      "outputs": []
    },
    {
      "cell_type": "code",
      "source": [
        "len(docs_processed)"
      ],
      "metadata": {
        "id": "JcxLaPOYwFXX"
      },
      "execution_count": null,
      "outputs": []
    },
    {
      "cell_type": "code",
      "source": [
        "docs_processed[0]"
      ],
      "metadata": {
        "id": "5uYgVwX5w3Vk"
      },
      "execution_count": null,
      "outputs": []
    },
    {
      "cell_type": "code",
      "source": [
        "docs_processed[0].metadata"
      ],
      "metadata": {
        "id": "kzY5AkAC6Hhp"
      },
      "execution_count": null,
      "outputs": []
    },
    {
      "cell_type": "code",
      "source": [
        "docs_processed[1].page_content"
      ],
      "metadata": {
        "id": "4-Q3RQNt6Mnc"
      },
      "execution_count": null,
      "outputs": []
    },
    {
      "cell_type": "code",
      "source": [
        "docs_processed[1]"
      ],
      "metadata": {
        "id": "qLTgNNhaxHa_"
      },
      "execution_count": null,
      "outputs": []
    },
    {
      "cell_type": "code",
      "source": [
        "vectordb"
      ],
      "metadata": {
        "id": "ufBYUhTMx4XA"
      },
      "execution_count": null,
      "outputs": []
    },
    {
      "cell_type": "code",
      "source": [
        "import numpy as np\n",
        "\n",
        "# Access internal document store\n",
        "docstore = vectordb.docstore._dict  # {uuid: Document}\n",
        "\n",
        "# Access FAISS index (vectors)\n",
        "index = vectordb.index\n",
        "\n",
        "# Loop through top 5 documents\n",
        "for i, (doc_id, doc) in enumerate(docstore.items()):\n",
        "    if i >= 5:\n",
        "        break\n",
        "\n",
        "    print(f\"\\n🔹 Document {i+1} — ID: {doc_id}\")\n",
        "    print(\"📄 Content:\", doc.page_content[:300], \"...\" if len(doc.page_content) > 300 else \"\")\n",
        "\n",
        "    # Get embedding vector by position\n",
        "    embedding_vector = index.reconstruct(i)\n",
        "    print(len(embedding_vector))\n",
        "    print(\"📊 Embedding vector (first 10 dims):\", np.round(embedding_vector[:10], 4), \"...\")\n"
      ],
      "metadata": {
        "id": "rtbV35pZ61AY"
      },
      "execution_count": null,
      "outputs": []
    },
    {
      "cell_type": "code",
      "source": [
        "len(docstore.items())"
      ],
      "metadata": {
        "id": "gd9TgVA9lgOf"
      },
      "execution_count": null,
      "outputs": []
    },
    {
      "cell_type": "markdown",
      "metadata": {
        "id": "DVVssBdxi1mV"
      },
      "source": [
        "Now the database is ready: let’s build our agentic RAG system!\n",
        "\n",
        "👉 We only need a `RetrieverTool` that our agent can leverage to retrieve information from the knowledge base.\n",
        "\n",
        "Since we need to add a vectordb as an attribute of the tool, we cannot simply use the [simple tool constructor](https://huggingface.co/docs/transformers/main/en/agents#create-a-new-tool) with a `@tool` decorator: so we will follow the advanced setup highlighted in the [advanced agents documentation](https://huggingface.co/docs/transformers/main/en/agents_advanced#directly-define-a-tool-by-subclassing-tool-and-share-it-to-the-hub)."
      ]
    },
    {
      "cell_type": "code",
      "execution_count": null,
      "metadata": {
        "id": "vUmtCjGii1mV"
      },
      "outputs": [],
      "source": [
        "from smolagents import Tool\n",
        "from langchain_core.vectorstores import VectorStore\n",
        "\n",
        "\n",
        "class RetrieverTool(Tool):\n",
        "    name = \"retriever\"\n",
        "    description = \"Using semantic similarity, retrieves some documents from the knowledge base that have the closest embeddings to the input query.\"\n",
        "    inputs = {\n",
        "        \"query\": {\n",
        "            \"type\": \"string\",\n",
        "            \"description\": \"The query to perform. This should be semantically close to your target documents. Use the affirmative form rather than a question.\",\n",
        "        }\n",
        "    }\n",
        "    output_type = \"string\"\n",
        "\n",
        "    def __init__(self, vectordb: VectorStore, **kwargs):\n",
        "        super().__init__(**kwargs)\n",
        "        self.vectordb = vectordb\n",
        "\n",
        "    def forward(self, query: str) -> str:\n",
        "        assert isinstance(query, str), \"Your search query must be a string\"\n",
        "\n",
        "        docs = self.vectordb.similarity_search(\n",
        "            query,\n",
        "            k=7,\n",
        "        )\n",
        "\n",
        "        return \"\\nRetrieved documents:\\n\" + \"\".join(\n",
        "            [\n",
        "                f\"===== Document {str(i)} =====\\n\" + doc.page_content\n",
        "                for i, doc in enumerate(docs)\n",
        "            ]\n",
        "        )"
      ]
    },
    {
      "cell_type": "markdown",
      "metadata": {
        "id": "sPXm7yFzi1mV"
      },
      "source": [
        "Now it’s straightforward to create an agent that leverages this tool!\n",
        "\n",
        "The agent will need these arguments upon initialization:\n",
        "- *`tools`*: a list of tools that the agent will be able to call.\n",
        "- *`model`*: the LLM that powers the agent.\n",
        "\n",
        "Our `model` must be a callable that takes as input a list of [messages](https://huggingface.co/docs/transformers/main/chat_templating) and returns text. It also needs to accept a `stop_sequences` argument that indicates when to stop its generation. For convenience, we directly use the `InferenceClientModel` class provided in the package to get a LLM engine that calls our [Inference API](https://huggingface.co/docs/api-inference/en/index).\n",
        "\n",
        "And we use [meta-llama/Llama-3.1-70B-Instruct](https://huggingface.co/meta-llama/Llama-3.1-70B-Instruct), served for free on Hugging Face's Inference API!\n",
        "\n",
        "_Note:_ The Inference API hosts models based on various criteria, and deployed models may be updated or replaced without prior notice. Learn more about it [here](https://huggingface.co/docs/api-inference/supported-models)."
      ]
    },
    {
      "cell_type": "code",
      "execution_count": null,
      "metadata": {
        "id": "p79NxaDHi1mW"
      },
      "outputs": [],
      "source": [
        "from smolagents import InferenceClientModel, ToolCallingAgent\n",
        "\n",
        "model = InferenceClientModel(\"meta-llama/Llama-3.1-70B-Instruct\")\n",
        "\n",
        "retriever_tool = RetrieverTool(vectordb)\n",
        "agent = ToolCallingAgent(\n",
        "    tools=[retriever_tool], model=model\n",
        ")"
      ]
    },
    {
      "cell_type": "markdown",
      "metadata": {
        "id": "OVibK4Y8i1mW"
      },
      "source": [
        "Since we initialized the agent as a `ReactJsonAgent`, it has been automatically given a default system prompt that tells the LLM engine to process step-by-step and generate tool calls as JSON blobs (you could replace this prompt template with your own as needed).\n",
        "\n",
        "Then when its `.run()` method is launched, the agent takes care of calling the LLM engine, parsing the tool call JSON blobs and executing these tool calls, all in a loop that ends only when the final answer is provided."
      ]
    },
    {
      "cell_type": "code",
      "execution_count": null,
      "metadata": {
        "id": "j2_6nv__i1mW"
      },
      "outputs": [],
      "source": [
        "agent_output = agent.run(\"How can I push a model to the Hub?\")\n",
        "\n",
        "print(\"Final output:\")\n",
        "print(agent_output)"
      ]
    },
    {
      "cell_type": "markdown",
      "metadata": {
        "id": "8Xe1k59Li1mW"
      },
      "source": [
        "## Agentic RAG vs. standard RAG\n",
        "\n",
        "Does the agent setup make a better RAG system? Well, let's compare it to a standard RAG system using LLM Judge!\n",
        "\n",
        "We will use [meta-llama/Meta-Llama-3-70B-Instruct](https://huggingface.co/meta-llama/Meta-Llama-3-70B-Instruct) for evaluation since it's one of the strongest OS models we tested for LLM judge use cases."
      ]
    },
    {
      "cell_type": "code",
      "source": [
        "url = \"https://huggingface.co/datasets/m-ric/huggingface_doc_qa_eval/resolve/main/data/train-00000-of-00001.parquet\"\n",
        "\n",
        "# Load into pandas DataFrame\n",
        "df2 = pd.read_parquet(url)\n",
        "df2.head()"
      ],
      "metadata": {
        "id": "8wO87YlE_HDV"
      },
      "execution_count": null,
      "outputs": []
    },
    {
      "cell_type": "code",
      "execution_count": null,
      "metadata": {
        "id": "0cBk7uFpi1mW"
      },
      "outputs": [],
      "source": [
        "from datasets import Dataset\n",
        "\n",
        "# Convert to Hugging Face Dataset\n",
        "eval_dataset = Dataset.from_pandas(df2)"
      ]
    },
    {
      "cell_type": "code",
      "source": [
        "eval_dataset[0]"
      ],
      "metadata": {
        "id": "_KTAVzmt_ajx"
      },
      "execution_count": null,
      "outputs": []
    },
    {
      "cell_type": "code",
      "source": [
        "eval_dataset"
      ],
      "metadata": {
        "id": "kP3EeyI7AZWA"
      },
      "execution_count": null,
      "outputs": []
    },
    {
      "cell_type": "markdown",
      "metadata": {
        "id": "tlEEc0RUi1mW"
      },
      "source": [
        "Before running the test let's make the agent less verbose."
      ]
    },
    {
      "cell_type": "code",
      "execution_count": null,
      "metadata": {
        "id": "9lFtOSnji1mW"
      },
      "outputs": [],
      "source": [
        "#import logging\n",
        "\n",
        "#agent.logger.setLevel(logging.WARNING) # Let's reduce the agent's verbosity level\n",
        "\n",
        "#eval_dataset = datasets.load_dataset(\"m-ric/huggingface_doc_qa_eval\", split=\"train\")"
      ]
    },
    {
      "cell_type": "code",
      "execution_count": null,
      "metadata": {
        "id": "ES22d1Bei1mW"
      },
      "outputs": [],
      "source": [
        "outputs_agentic_rag = []\n",
        "\n",
        "for example in tqdm(eval_dataset):\n",
        "    question = example[\"question\"]\n",
        "\n",
        "    enhanced_question = f\"\"\"Using the information contained in your knowledge base, which you can access with the 'retriever' tool,\n",
        "give a comprehensive answer to the question below.\n",
        "Respond only to the question asked, response should be concise and relevant to the question.\n",
        "If you cannot find information, do not give up and try calling your retriever again with different arguments!\n",
        "Make sure to have covered the question completely by calling the retriever tool several times with semantically different queries.\n",
        "Your queries should not be questions but affirmative form sentences: e.g. rather than \"How do I load a model from the Hub in bf16?\", query should be \"load a model from the Hub bf16 weights\".\n",
        "\n",
        "Question:\n",
        "{question}\"\"\"\n",
        "    answer = agent.run(enhanced_question)\n",
        "    print(\"=======================================================\")\n",
        "    print(f\"Question: {question}\")\n",
        "    print(f\"Answer: {answer}\")\n",
        "    print(f'True answer: {example[\"answer\"]}')\n",
        "\n",
        "    results_agentic = {\n",
        "        \"question\": question,\n",
        "        \"true_answer\": example[\"answer\"],\n",
        "        \"source_doc\": example[\"source_doc\"],\n",
        "        \"generated_answer\": answer,\n",
        "    }\n",
        "    outputs_agentic_rag.append(results_agentic)"
      ]
    },
    {
      "cell_type": "code",
      "execution_count": null,
      "metadata": {
        "id": "6dnPsaQXi1mW"
      },
      "outputs": [],
      "source": [
        "from huggingface_hub import InferenceClient\n",
        "\n",
        "reader_llm = InferenceClient(\"Qwen/Qwen2.5-72B-Instruct\")\n",
        "\n",
        "outputs_standard_rag = []\n",
        "\n",
        "for example in tqdm(eval_dataset):\n",
        "    question = example[\"question\"]\n",
        "    context = retriever_tool(question)\n",
        "\n",
        "    prompt = f\"\"\"Given the question and supporting documents below, give a comprehensive answer to the question.\n",
        "Respond only to the question asked, response should be concise and relevant to the question.\n",
        "Provide the number of the source document when relevant.\n",
        "If you cannot find information, do not give up and try calling your retriever again with different arguments!\n",
        "\n",
        "Question:\n",
        "{question}\n",
        "\n",
        "{context}\n",
        "\"\"\"\n",
        "    messages = [{\"role\": \"user\", \"content\": prompt}]\n",
        "    answer = reader_llm.chat_completion(messages).choices[0].message.content\n",
        "\n",
        "    print(\"=======================================================\")\n",
        "    print(f\"Question: {question}\")\n",
        "    print(f\"Answer: {answer}\")\n",
        "    print(f'True answer: {example[\"answer\"]}')\n",
        "\n",
        "    results_agentic = {\n",
        "        \"question\": question,\n",
        "        \"true_answer\": example[\"answer\"],\n",
        "        \"source_doc\": example[\"source_doc\"],\n",
        "        \"generated_answer\": answer,\n",
        "    }\n",
        "    outputs_standard_rag.append(results_agentic)"
      ]
    },
    {
      "cell_type": "markdown",
      "metadata": {
        "id": "7sw1OISZi1mW"
      },
      "source": [
        "The evaluation prompt follows some of the best principles shown in [our llm_judge cookbook](llm_judge): it follows a small integer Likert scale, has clear criteria, and a description for each score."
      ]
    },
    {
      "cell_type": "code",
      "source": [
        "outputs_agentic_rag[0]"
      ],
      "metadata": {
        "id": "XwwyQKN4Fq9D"
      },
      "execution_count": null,
      "outputs": []
    },
    {
      "cell_type": "code",
      "source": [
        "outputs_standard_rag[0]"
      ],
      "metadata": {
        "id": "pq9mp3PhF-Ey"
      },
      "execution_count": null,
      "outputs": []
    },
    {
      "cell_type": "code",
      "execution_count": null,
      "metadata": {
        "id": "IdxMSDjLi1mX"
      },
      "outputs": [],
      "source": [
        "EVALUATION_PROMPT = \"\"\"You are a fair evaluator language model.\n",
        "\n",
        "You will be given an instruction, a response to evaluate, a reference answer that gets a score of 3, and a score rubric representing a evaluation criteria are given.\n",
        "1. Write a detailed feedback that assess the quality of the response strictly based on the given score rubric, not evaluating in general.\n",
        "2. After writing a feedback, write a score that is an integer between 1 and 3. You should refer to the score rubric.\n",
        "3. The output format should look as follows: \\\"Feedback: {{write a feedback for criteria}} [RESULT] {{an integer number between 1 and 3}}\\\"\n",
        "4. Please do not generate any other opening, closing, and explanations. Be sure to include [RESULT] in your output.\n",
        "5. Do not score conciseness: a correct answer that covers the question should receive max score, even if it contains additional useless information.\n",
        "\n",
        "The instruction to evaluate:\n",
        "{instruction}\n",
        "\n",
        "Response to evaluate:\n",
        "{response}\n",
        "\n",
        "Reference Answer (Score 3):\n",
        "{reference_answer}\n",
        "\n",
        "Score Rubrics:\n",
        "[Is the response complete, accurate, and factual based on the reference answer?]\n",
        "Score 1: The response is completely incomplete, inaccurate, and/or not factual.\n",
        "Score 2: The response is somewhat complete, accurate, and/or factual.\n",
        "Score 3: The response is completely complete, accurate, and/or factual. Also\n",
        "\n",
        "Feedback:\"\"\""
      ]
    },
    {
      "cell_type": "code",
      "execution_count": null,
      "metadata": {
        "id": "-KCGQC54i1mX"
      },
      "outputs": [],
      "source": [
        "from huggingface_hub import InferenceClient\n",
        "\n",
        "evaluation_client = InferenceClient(\"meta-llama/Llama-3.1-70B-Instruct\")"
      ]
    },
    {
      "cell_type": "code",
      "execution_count": null,
      "metadata": {
        "id": "eIcObMYLi1mX"
      },
      "outputs": [],
      "source": [
        "from huggingface_hub import InferenceClient\n",
        "from transformers import pipeline\n",
        "\n",
        "evaluation_client = pipeline('text-generation', model = \"gpt2\")\n",
        "import pandas as pd\n",
        "\n",
        "results = {}\n",
        "for system_type, outputs in [\n",
        "    (\"agentic\", outputs_agentic_rag),\n",
        "    (\"standard\", outputs_standard_rag),\n",
        "]:\n",
        "    for experiment in tqdm(outputs):\n",
        "        eval_prompt = EVALUATION_PROMPT.format(\n",
        "            instruction=experiment[\"question\"],\n",
        "            response=experiment[\"generated_answer\"],\n",
        "            reference_answer=experiment[\"true_answer\"],\n",
        "        )\n",
        "        messages = [\n",
        "            {\"role\": \"system\", \"content\": \"You are a fair evaluator language model.\"},\n",
        "            {\"role\": \"user\", \"content\": eval_prompt},\n",
        "        ]\n",
        "\n",
        "        eval_result = evaluation_client.text_generation(\n",
        "            eval_prompt, max_new_tokens=1000\n",
        "        )\n",
        "        try:\n",
        "            feedback, score = [item.strip() for item in eval_result.split(\"[RESULT]\")]\n",
        "            experiment[\"eval_score_LLM_judge\"] = score\n",
        "            experiment[\"eval_feedback_LLM_judge\"] = feedback\n",
        "        except:\n",
        "            print(f\"Parsing failed - output was: {eval_result}\")\n",
        "\n",
        "    results[system_type] = pd.DataFrame.from_dict(outputs)\n",
        "    results[system_type] = results[system_type].loc[~results[system_type][\"generated_answer\"].str.contains(\"Error\")]"
      ]
    },
    {
      "cell_type": "code",
      "source": [
        "from huggingface_hub import InferenceClient\n",
        "import pandas as pd\n",
        "from tqdm import tqdm\n",
        "\n",
        "evaluation_client = InferenceClient(\"meta-llama/Llama-3.1-70B-Instruct\")\n",
        "\n",
        "results = {}\n",
        "for system_type, outputs in [\n",
        "    (\"agentic\", outputs_agentic_rag),\n",
        "    (\"standard\", outputs_standard_rag),\n",
        "]:\n",
        "    for experiment in tqdm(outputs):\n",
        "        eval_prompt = EVALUATION_PROMPT.format(\n",
        "            instruction=experiment[\"question\"],\n",
        "            response=experiment[\"generated_answer\"],\n",
        "            reference_answer=experiment[\"true_answer\"],\n",
        "        )\n",
        "\n",
        "        # Conversational style prompt\n",
        "        messages = [\n",
        "            {\"role\": \"system\", \"content\": \"You are a fair evaluator language model.\"},\n",
        "            {\"role\": \"user\", \"content\": eval_prompt}\n",
        "        ]\n",
        "\n",
        "        response = evaluation_client.chat_completion(messages=messages, max_tokens=1000)\n",
        "\n",
        "        eval_result = response.choices[0].message[\"content\"]\n",
        "\n",
        "        try:\n",
        "            feedback, score = [item.strip() for item in eval_result.split(\"[RESULT]\")]\n",
        "            experiment[\"eval_score_LLM_judge\"] = score\n",
        "            experiment[\"eval_feedback_LLM_judge\"] = feedback\n",
        "        except Exception as e:\n",
        "            print(f\"Parsing failed - output was: {eval_result}\")\n",
        "\n",
        "    results[system_type] = pd.DataFrame.from_dict(outputs)\n",
        "    results[system_type] = results[system_type].loc[\n",
        "        ~results[system_type][\"generated_answer\"].str.contains(\"Error\")\n",
        "    ]\n"
      ],
      "metadata": {
        "id": "huqYBOoHJUvp"
      },
      "execution_count": null,
      "outputs": []
    },
    {
      "cell_type": "code",
      "source": [
        "results['agentic']['generated_answer'][3]"
      ],
      "metadata": {
        "id": "w-3l9zKGpPfg"
      },
      "execution_count": null,
      "outputs": []
    },
    {
      "cell_type": "code",
      "source": [
        "results['standard']['generated_answer'][3]"
      ],
      "metadata": {
        "id": "zvtiCHy1xOfi"
      },
      "execution_count": null,
      "outputs": []
    },
    {
      "cell_type": "code",
      "source": [
        "results['standard']['true_answer'][3]"
      ],
      "metadata": {
        "id": "chmFkpjdxYMZ"
      },
      "execution_count": null,
      "outputs": []
    },
    {
      "cell_type": "code",
      "source": [
        "df_agentic = pd.DataFrame(results['agentic'])\n",
        "df_agentic.head()"
      ],
      "metadata": {
        "id": "1gA8yn0bu5yi"
      },
      "execution_count": null,
      "outputs": []
    },
    {
      "cell_type": "code",
      "source": [
        "df_agentic['eval_score_LLM_judge'].astype(int).value_counts()"
      ],
      "metadata": {
        "id": "6YSlKIpivMlb"
      },
      "execution_count": null,
      "outputs": []
    },
    {
      "cell_type": "code",
      "source": [
        "df_std = pd.DataFrame(results['standard'])\n",
        "df_std.head()"
      ],
      "metadata": {
        "id": "XEEESbPPvpS6"
      },
      "execution_count": null,
      "outputs": []
    },
    {
      "cell_type": "code",
      "source": [
        "df_std['eval_score_LLM_judge'].astype(int).value_counts()"
      ],
      "metadata": {
        "id": "RoTWRHbsvpf9"
      },
      "execution_count": null,
      "outputs": []
    },
    {
      "cell_type": "code",
      "execution_count": null,
      "metadata": {
        "id": "Y2MTelQNi1mX"
      },
      "outputs": [],
      "source": [
        "DEFAULT_SCORE = 2 # Give average score whenever scoring fails\n",
        "def fill_score(x):\n",
        "    try:\n",
        "        return int(x)\n",
        "    except:\n",
        "        return DEFAULT_SCORE\n",
        "\n",
        "for system_type, outputs in [\n",
        "    (\"agentic\", outputs_agentic_rag),\n",
        "    (\"standard\", outputs_standard_rag),\n",
        "]:\n",
        "\n",
        "    results[system_type][\"eval_score_LLM_judge_int\"] = (\n",
        "        results[system_type][\"eval_score_LLM_judge\"].fillna(DEFAULT_SCORE).apply(fill_score)\n",
        "    )\n",
        "    results[system_type][\"eval_score_LLM_judge_int\"] = (results[system_type][\"eval_score_LLM_judge_int\"] - 1) / 2\n",
        "\n",
        "    print(\n",
        "        f\"Average score for {system_type} RAG: {results[system_type]['eval_score_LLM_judge_int'].mean()*100:.1f}%\"\n",
        "    )"
      ]
    },
    {
      "cell_type": "markdown",
      "metadata": {
        "id": "o58sflYni1mX"
      },
      "source": [
        "**Let us recap: the Agent setup improves scores by 14% compared to a standard RAG!** (from 73.1% to 86.9%)\n",
        "\n",
        "This is a great improvement, with a very simple setup 🚀\n",
        "\n",
        "(For a baseline, using Llama-3-70B without the knowledge base got 36%)"
      ]
    }
  ],
  "metadata": {
    "kernelspec": {
      "display_name": "test2",
      "language": "python",
      "name": "test2"
    },
    "language_info": {
      "codemirror_mode": {
        "name": "ipython",
        "version": 3
      },
      "file_extension": ".py",
      "mimetype": "text/x-python",
      "name": "python",
      "nbconvert_exporter": "python",
      "pygments_lexer": "ipython3",
      "version": "3.12.0"
    },
    "colab": {
      "provenance": []
    }
  },
  "nbformat": 4,
  "nbformat_minor": 0
}
