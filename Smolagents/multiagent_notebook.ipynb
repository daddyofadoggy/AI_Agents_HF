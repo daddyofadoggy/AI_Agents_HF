{
  "cells": [
    {
      "cell_type": "markdown",
      "metadata": {
        "id": "view-in-github",
        "colab_type": "text"
      },
      "source": [
        "<a href=\"https://colab.research.google.com/github/daddyofadoggy/AI_Agents_HF/blob/main/Smolagents/multiagent_notebook.ipynb\" target=\"_parent\"><img src=\"https://colab.research.google.com/assets/colab-badge.svg\" alt=\"Open In Colab\"/></a>"
      ]
    },
    {
      "cell_type": "markdown",
      "metadata": {
        "id": "22ubrk7navwL"
      },
      "source": [
        "# Solving a complex task with a multi-agent hierarchy\n",
        "\n",
        "This notebook is part of the [Hugging Face Agents Course](https://www.hf.co/learn/agents-course), a free Course from beginner to expert, where you learn to build Agents.\n",
        "\n",
        "![Agents course share](https://huggingface.co/datasets/agents-course/course-images/resolve/main/en/communication/share.png)\n",
        "\n",
        "The reception is approaching! With your help, Alfred is now nearly finished with the preparations.\n",
        "\n",
        "But now there's a problem: the Batmobile has disappeared. Alfred needs to find a replacement, and find it quickly.\n",
        "\n",
        "Fortunately, a few biopics have been done on Bruce Wayne's life, so maybe Alfred could get a car left behind on one of the movie set, and re-engineer it up to modern standards, which certainly would include a full self-driving option.\n",
        "\n",
        "But this could be anywhere in the filming locations around the world - which could be numerous.\n",
        "\n",
        "So Alfred wants your help. Could you build an agent able to solve this task?\n",
        "\n",
        "> 👉 Find all Batman filming locations in the world, calculate the time to transfer via a cargo plane to there, and represent them on a map, with a color varying by a cargo plane transfer time. Also represent some supercar factories with the same cargo plane transfer time.\n",
        "\n",
        "Let's build this!"
      ]
    },
    {
      "cell_type": "code",
      "execution_count": null,
      "metadata": {
        "id": "tdepXvxdavwN"
      },
      "outputs": [],
      "source": [
        "!pip install 'smolagents[litellm]'"
      ]
    },
    {
      "cell_type": "code",
      "source": [
        "!pip install plotly geopandas shapely"
      ],
      "metadata": {
        "id": "dPLbo9SXlDdN"
      },
      "execution_count": null,
      "outputs": []
    },
    {
      "cell_type": "code",
      "source": [
        "from google.colab import userdata\n",
        "userdata.get('HF_TOKEN')"
      ],
      "metadata": {
        "id": "zu9x72BklyzI"
      },
      "execution_count": null,
      "outputs": []
    },
    {
      "cell_type": "code",
      "source": [
        "from google.colab import userdata\n",
        "userdata.get('SERPAPI_API_KEY')"
      ],
      "metadata": {
        "id": "N9BqAEFA2xeT"
      },
      "execution_count": null,
      "outputs": []
    },
    {
      "cell_type": "code",
      "execution_count": null,
      "metadata": {
        "id": "wWayJH4m_A9S"
      },
      "outputs": [],
      "source": [
        "from huggingface_hub import notebook_login\n",
        "\n",
        "notebook_login()"
      ]
    },
    {
      "cell_type": "code",
      "execution_count": null,
      "metadata": {
        "id": "dduWceHAavwO"
      },
      "outputs": [],
      "source": [
        "# We first make a tool to get the cargo plane transfer time.\n",
        "import math\n",
        "from typing import Optional, Tuple\n",
        "\n",
        "from smolagents import tool\n",
        "\n",
        "\n",
        "@tool\n",
        "def calculate_cargo_travel_time(\n",
        "    origin_coords: Tuple[float, float],\n",
        "    destination_coords: Tuple[float, float],\n",
        "    cruising_speed_kmh: Optional[float] = 750.0,  # Average speed for cargo planes\n",
        ") -> float:\n",
        "    \"\"\"\n",
        "    Calculate the travel time for a cargo plane between two points on Earth using great-circle distance.\n",
        "\n",
        "    Args:\n",
        "        origin_coords: Tuple of (latitude, longitude) for the starting point\n",
        "        destination_coords: Tuple of (latitude, longitude) for the destination\n",
        "        cruising_speed_kmh: Optional cruising speed in km/h (defaults to 750 km/h for typical cargo planes)\n",
        "\n",
        "    Returns:\n",
        "        float: The estimated travel time in hours\n",
        "\n",
        "    Example:\n",
        "        >>> # Chicago (41.8781° N, 87.6298° W) to Sydney (33.8688° S, 151.2093° E)\n",
        "        >>> result = calculate_cargo_travel_time((41.8781, -87.6298), (-33.8688, 151.2093))\n",
        "    \"\"\"\n",
        "\n",
        "    def to_radians(degrees: float) -> float:\n",
        "        return degrees * (math.pi / 180)\n",
        "\n",
        "    # Extract coordinates\n",
        "    lat1, lon1 = map(to_radians, origin_coords)\n",
        "    lat2, lon2 = map(to_radians, destination_coords)\n",
        "\n",
        "    # Earth's radius in kilometers\n",
        "    EARTH_RADIUS_KM = 6371.0\n",
        "\n",
        "    # Calculate great-circle distance using the haversine formula\n",
        "    dlon = lon2 - lon1\n",
        "    dlat = lat2 - lat1\n",
        "\n",
        "    a = (\n",
        "        math.sin(dlat / 2) ** 2\n",
        "        + math.cos(lat1) * math.cos(lat2) * math.sin(dlon / 2) ** 2\n",
        "    )\n",
        "    c = 2 * math.asin(math.sqrt(a))\n",
        "    distance = EARTH_RADIUS_KM * c\n",
        "\n",
        "    # Add 10% to account for non-direct routes and air traffic controls\n",
        "    actual_distance = distance * 1.1\n",
        "\n",
        "    # Calculate flight time\n",
        "    # Add 1 hour for takeoff and landing procedures\n",
        "    flight_time = (actual_distance / cruising_speed_kmh) + 1.0\n",
        "\n",
        "    # Format the results\n",
        "    return round(flight_time, 2)\n",
        "\n",
        "\n",
        "print(calculate_cargo_travel_time((41.8781, -87.6298), (-33.8688, 151.2093)))"
      ]
    },
    {
      "cell_type": "markdown",
      "metadata": {
        "id": "UPgyT9FbavwQ"
      },
      "source": [
        "For the model provider, we use Together AI, one of the new [inference providers on the Hub](https://huggingface.co/blog/inference-providers)!\n",
        "\n",
        "Regarding the GoogleSearchTool: this requires either having setup env variable `SERPAPI_API_KEY` and passing `provider=\"serpapi\"` or having `SERPER_API_KEY` and passing `provider=serper`.\n",
        "\n",
        "If you don't have any Serp API provider setup, you can use `DuckDuckGoSearchTool` but beware that it has a rate limit."
      ]
    },
    {
      "cell_type": "code",
      "execution_count": null,
      "metadata": {
        "id": "gw4q7qODavwQ"
      },
      "outputs": [],
      "source": [
        "import os\n",
        "from PIL import Image\n",
        "from smolagents import CodeAgent, GoogleSearchTool, InferenceClientModel, VisitWebpageTool\n",
        "\n",
        "\n",
        "model = InferenceClientModel(model_id=\"Qwen/Qwen2.5-Coder-32B-Instruct\")"
      ]
    },
    {
      "cell_type": "markdown",
      "metadata": {
        "id": "C6ItyGKtavwR"
      },
      "source": [
        "We can start with creating a baseline, simple agent to give us a simple report."
      ]
    },
    {
      "cell_type": "code",
      "execution_count": null,
      "metadata": {
        "id": "42C3gu75avwR"
      },
      "outputs": [],
      "source": [
        "task = \"\"\"Find all Batman filming locations in the world, calculate the time to transfer via cargo plane to here (we're in Gotham, 40.7128° N, 74.0060° W), and return them to me as a pandas dataframe.\n",
        "Also give me some supercar factories with the same cargo plane transfer time.\"\"\""
      ]
    },
    {
      "cell_type": "code",
      "execution_count": null,
      "metadata": {
        "id": "7lvVBlrm_wLn"
      },
      "outputs": [],
      "source": [
        "from google.colab import userdata\n",
        "import os\n",
        "os.environ[\"SERPAPI_API_KEY\"] = userdata.get('SERPAPI_API_KEY')\n",
        "os.environ[\"SERPAPI_API_KEY\"]"
      ]
    },
    {
      "cell_type": "code",
      "execution_count": null,
      "metadata": {
        "id": "X6ZXgdaGavwS"
      },
      "outputs": [],
      "source": [
        "agent = CodeAgent(\n",
        "    model=model,\n",
        "    tools=[GoogleSearchTool(), VisitWebpageTool(), calculate_cargo_travel_time],\n",
        "    additional_authorized_imports=[\"pandas\"],\n",
        "    max_steps=20,\n",
        ")"
      ]
    },
    {
      "cell_type": "code",
      "execution_count": null,
      "metadata": {
        "id": "apTHCYH1avwT"
      },
      "outputs": [],
      "source": [
        "result = agent.run(task)"
      ]
    },
    {
      "cell_type": "code",
      "execution_count": null,
      "metadata": {
        "id": "NlgnI2GnavwT"
      },
      "outputs": [],
      "source": [
        "result"
      ]
    },
    {
      "cell_type": "markdown",
      "metadata": {
        "id": "17_UNQk2avwU"
      },
      "source": [
        "We could already improve this a bit by throwing in some dedicated planning steps, and adding more prompting."
      ]
    },
    {
      "cell_type": "code",
      "execution_count": null,
      "metadata": {
        "id": "lzjuyPydavwU"
      },
      "outputs": [],
      "source": [
        "agent.planning_interval = 4\n",
        "\n",
        "detailed_report = agent.run(f\"\"\"\n",
        "You're an expert analyst. You make comprehensive reports after visiting many websites.\n",
        "Don't hesitate to search for many queries at once in a for loop.\n",
        "For each data point that you find, visit the source url to confirm numbers.\n",
        "\n",
        "{task}\n",
        "\"\"\")\n",
        "\n",
        "print(detailed_report)"
      ]
    },
    {
      "cell_type": "code",
      "execution_count": null,
      "metadata": {
        "id": "YUAi3P3havwU"
      },
      "outputs": [],
      "source": [
        "detailed_report"
      ]
    },
    {
      "cell_type": "markdown",
      "metadata": {
        "id": "5mYGtUn4avwV"
      },
      "source": [
        "Thanks to these quick changes, we obtained a much more concise report by simply providing our agent a detailed prompt, and giving it planning capabilities!\n",
        "\n",
        "💸 But as you can see, the context window is quickly filling up. So **if we ask our agent to combine the results of detailed search with another, it will be slower and quickly ramp up tokens and costs**.\n",
        "\n",
        "➡️ We need to improve the structure of our system."
      ]
    },
    {
      "cell_type": "markdown",
      "metadata": {
        "id": "_u0StDb0avwV"
      },
      "source": [
        "## ✌️ Splitting the task between two agents\n",
        "\n",
        "Multi-agent structures allow to separate memories between different sub-tasks, with two great benefits:\n",
        "- Each agent is more focused on its core task, thus more performant\n",
        "- Separating memories reduces the count of input tokens at each step, thus reducing latency and cost.\n",
        "\n",
        "Let's create a team with a dedicated web search agent, managed by another agent.\n",
        "\n",
        "The manager agent should have plotting capabilities to redact its final report: so let us give it access to additional imports, including `plotly`, and `geopandas` + `shapely` for spatial plotting."
      ]
    },
    {
      "cell_type": "code",
      "execution_count": null,
      "metadata": {
        "id": "ojS5iARCavwV"
      },
      "outputs": [],
      "source": [
        "model = InferenceClientModel(\n",
        "    \"Qwen/Qwen2.5-Coder-32B-Instruct\", max_tokens=8096\n",
        ")\n",
        "\n",
        "web_agent = CodeAgent(\n",
        "    model=model,\n",
        "    tools=[\n",
        "        GoogleSearchTool(),\n",
        "        VisitWebpageTool(),\n",
        "        calculate_cargo_travel_time,\n",
        "    ],\n",
        "    name=\"web_agent\",\n",
        "    description=\"Browses the web to find information\",\n",
        "    verbosity_level=0,\n",
        "    max_steps=10,\n",
        ")"
      ]
    },
    {
      "cell_type": "markdown",
      "metadata": {
        "id": "HAmzCRmkavwV"
      },
      "source": [
        "The manager agent will need to do some mental heavy lifting.\n",
        "\n",
        "So we give it the stronger model [DeepSeek-R1](https://huggingface.co/deepseek-ai/DeepSeek-R1), and add a `planning_interval` to the mix."
      ]
    },
    {
      "cell_type": "code",
      "execution_count": null,
      "metadata": {
        "id": "8xLzy0vSCT3W"
      },
      "outputs": [],
      "source": [
        "from google.colab import userdata\n",
        "import os\n",
        "os.environ[\"OPENAI_API_KEY\"] = userdata.get('OPENAI_API_KEY')"
      ]
    },
    {
      "cell_type": "code",
      "execution_count": null,
      "metadata": {
        "id": "OqOV5mfuavwW"
      },
      "outputs": [],
      "source": [
        "from smolagents.utils import encode_image_base64, make_image_url\n",
        "from smolagents import OpenAIServerModel\n",
        "\n",
        "\n",
        "def check_reasoning_and_plot(final_answer, agent_memory):\n",
        "    multimodal_model = OpenAIServerModel(\"gpt-4o\", max_tokens=8096)\n",
        "    filepath = \"saved_map.png\"\n",
        "    assert os.path.exists(filepath), \"Make sure to save the plot under saved_map.png!\"\n",
        "    image = Image.open(filepath)\n",
        "    prompt = (\n",
        "        f\"Here is a user-given task and the agent steps: {agent_memory.get_succinct_steps()}. Now here is the plot that was made.\"\n",
        "        \"Please check that the reasoning process and plot are correct: do they correctly answer the given task?\"\n",
        "        \"First list reasons why yes/no, then write your final decision: PASS in caps lock if it is satisfactory, FAIL if it is not.\"\n",
        "        \"Don't be harsh: if the plot mostly solves the task, it should pass.\"\n",
        "        \"To pass, a plot should be made using px.scatter_map and not any other method (scatter_map looks nicer).\"\n",
        "    )\n",
        "    messages = [\n",
        "        {\n",
        "            \"role\": \"user\",\n",
        "            \"content\": [\n",
        "                {\n",
        "                    \"type\": \"text\",\n",
        "                    \"text\": prompt,\n",
        "                },\n",
        "                {\n",
        "                    \"type\": \"image_url\",\n",
        "                    \"image_url\": {\"url\": make_image_url(encode_image_base64(image))},\n",
        "                },\n",
        "            ],\n",
        "        }\n",
        "    ]\n",
        "    output = multimodal_model(messages).content\n",
        "    print(\"Feedback: \", output)\n",
        "    if \"FAIL\" in output:\n",
        "        raise Exception(output)\n",
        "    return True\n",
        "\n",
        "\n",
        "manager_agent = CodeAgent(\n",
        "    model=InferenceClientModel(\"deepseek-ai/DeepSeek-R1\", max_tokens=8096),\n",
        "    tools=[calculate_cargo_travel_time],\n",
        "    managed_agents=[web_agent],\n",
        "    additional_authorized_imports=[\n",
        "        \"geopandas\",\n",
        "        \"plotly\",\n",
        "        \"shapely\",\n",
        "        \"json\",\n",
        "        \"pandas\",\n",
        "        \"numpy\",\n",
        "    ],\n",
        "    planning_interval=5,\n",
        "    verbosity_level=2,\n",
        "    final_answer_checks=[check_reasoning_and_plot],\n",
        "    max_steps=15,\n",
        ")"
      ]
    },
    {
      "cell_type": "markdown",
      "metadata": {
        "id": "e9ZX-xdvavwW"
      },
      "source": [
        "Let us inspect what this team looks like:"
      ]
    },
    {
      "cell_type": "code",
      "execution_count": null,
      "metadata": {
        "id": "0jEWXBr-avwW"
      },
      "outputs": [],
      "source": [
        "manager_agent.visualize()"
      ]
    },
    {
      "cell_type": "code",
      "source": [
        "!pip install markdownify requests"
      ],
      "metadata": {
        "id": "Xg1VrU8976ce"
      },
      "execution_count": null,
      "outputs": []
    },
    {
      "cell_type": "code",
      "execution_count": null,
      "metadata": {
        "id": "RyGu4VylavwW"
      },
      "outputs": [],
      "source": [
        "manager_agent.run(\"\"\"\n",
        "Find all Batman filming locations in the world, calculate the time to transfer via cargo plane to here (we're in Gotham, 40.7128° N, 74.0060° W).\n",
        "Also give me some supercar factories with the same cargo plane transfer time. You need at least 6 points in total.\n",
        "Represent this as spatial map of the world, with the locations represented as scatter points with a color that depends on the travel time, and save it to saved_map.png!\n",
        "\n",
        "Here's an example of how to plot and return a map:\n",
        "import plotly.express as px\n",
        "df = px.data.carshare()\n",
        "fig = px.scatter_map(df, lat=\"centroid_lat\", lon=\"centroid_lon\", text=\"name\", color=\"peak_hour\", size=100,\n",
        "     color_continuous_scale=px.colors.sequential.Magma, size_max=15, zoom=1)\n",
        "fig.show()\n",
        "fig.write_image(\"saved_image.png\")\n",
        "final_answer(fig)\n",
        "\n",
        "Never try to process strings using code: when you have a string to read, just print it and you'll see it.\n",
        "\"\"\")"
      ]
    },
    {
      "cell_type": "markdown",
      "metadata": {
        "id": "EGuNy8RJavwX"
      },
      "source": [
        "I don't know how that went in your run, but in mine, the manager agent skilfully divided tasks given to the web agent in `1. Search for Batman filming locations`, then `2. Find supercar factories`, before aggregating the lists and plotting the map.\n",
        "\n",
        "Let's see what the map looks like by inspecting it directly from the agent state:"
      ]
    },
    {
      "cell_type": "code",
      "execution_count": null,
      "metadata": {
        "id": "G0lADQ18avwX"
      },
      "outputs": [],
      "source": [
        "manager_agent.python_executor.state[\"fig\"]"
      ]
    },
    {
      "cell_type": "code",
      "source": [
        "!pip install -U kaleido"
      ],
      "metadata": {
        "id": "CeL5CkRk_nd0"
      },
      "execution_count": null,
      "outputs": []
    },
    {
      "cell_type": "code",
      "source": [
        "import kaleido"
      ],
      "metadata": {
        "id": "eiZ7i07qA_Yu"
      },
      "execution_count": null,
      "outputs": []
    },
    {
      "cell_type": "code",
      "source": [
        "import numpy as np\n",
        "\n",
        "gotham = (40.7128, -74.0060)\n",
        "locations = [\n",
        "      # Batman locations\n",
        "      {'name':'Knebworth House', 'coords':(51.86553, -0.18298), 'type':'Batman'},\n",
        "      {'name':'San Rafael Ave', 'coords':(34.15611, -118.1319), 'type':'Batman'},\n",
        "      {'name':'Bronson Caves', 'coords':(34.13656, -118.2942), 'type':'Batman'},\n",
        "      {'name':'Stearns Wharf', 'coords':(34.24194, -119.89), 'type':'Batman'},\n",
        "      {'name':'Universal Stage', 'coords':(34.13809, -118.35347), 'type':'Batman'},\n",
        "      {'name':'Alcatraz Island', 'coords':(37.77397, -122.4313), 'type':'Batman'},\n",
        "      # Factories\n",
        "      {'name':'Ferrari', 'coords':(44.5328, 10.864), 'type':'Factory'},\n",
        "      {'name':'Lamborghini', 'coords':(44.6587, 11.0678), 'type':'Factory'},\n",
        "      {'name':'Porsche', 'coords':(48.8341, 9.1198), 'type':'Factory'},\n",
        "      {'name':'Bugatti', 'coords':(48.5442,7.4986), 'type':'Factory'},\n",
        "  ]\n",
        "\n",
        "  # [2] CALCULATE HOURS WITH SAFE FUNCTION CALL\n",
        "for loc in locations:\n",
        "    origin_pt = np.array(gotham, dtype=np.float64)\n",
        "    dest_pt = np.array(loc['coords'], dtype=np.float64)\n",
        "    loc['hours'] = calculate_cargo_travel_time(origin_pt, dest_pt, 750)\n",
        "\n",
        "# [3] FILTER FACTORIES MATCHING BATMAN TIMES (10% tolerance)\n",
        "batman_hours = [loc['hours'] for loc in locations if loc['type']=='Batman']\n",
        "valid_factories = []\n",
        "for fac in [loc for loc in locations if loc['type']=='Factory']:\n",
        "    for bh in batman_hours:\n",
        "        if abs(fac['hours'] - bh) <= bh*0.1:\n",
        "            valid_factories.append(fac)\n",
        "            break\n",
        "\n",
        "# [4] BUILD FINAL DATASET >=6 POINTS\n",
        "final_data = [loc for loc in locations if loc['type']=='Batman'] + valid_factories[:2]\n",
        "\n",
        "# [5] CREATE PLOTLY FIGURE VIA DICT STRUCTURE\n",
        "fig = {\n",
        "    \"data\": [{\n",
        "        \"type\": \"scattermapbox\",\n",
        "        \"lat\": [loc['coords'][0] for loc in final_data],\n",
        "        \"lon\": [loc['coords'][1] for loc in final_data],\n",
        "        \"text\": [f\"{loc['name']} ({loc['type']}) - {loc['hours']:.1f}h\" for loc in final_data],\n",
        "        \"mode\": \"markers\",\n",
        "        \"marker\": {\n",
        "            \"size\": 20,\n",
        "            \"color\": [loc['hours'] for loc in final_data],\n",
        "            \"colorscale\": \"Magma\",\n",
        "            \"showscale\": True\n",
        "        }\n",
        "    }],\n",
        "    \"layout\": {\n",
        "        \"mapbox\": {\n",
        "            \"style\": \"open-street-map\",\n",
        "            \"zoom\": 2,\n",
        "            \"center\": {\"lat\":40.7128, \"lon\":-74.0060}\n",
        "        },\n",
        "        \"margin\": {\"r\":0,\"t\":0,\"l\":0,\"b\":0}\n",
        "    }\n",
        "}\n",
        "\n",
        "# [6] USE ALLOWED PLOTLY METHOD TO SAVE\n",
        "import plotly\n",
        "#plotly.Figure(fig).write_image(\"saved_map.png\")\n",
        "import plotly.graph_objects as go\n",
        "\n",
        "fig_obj = go.Figure(fig)\n",
        "fig_obj.write_html(\"saved_map.png\")\n",
        "\n",
        "\n",
        "  # [7] RETURN RESULT"
      ],
      "metadata": {
        "id": "j8o_sMzb-uE7"
      },
      "execution_count": null,
      "outputs": []
    },
    {
      "cell_type": "markdown",
      "metadata": {
        "id": "fzD9OxdVavwY"
      },
      "source": [
        "![output map](https://huggingface.co/datasets/agents-course/course-images/resolve/main/en/unit2/smolagents/output_map.png)"
      ]
    }
  ],
  "metadata": {
    "colab": {
      "provenance": [],
      "include_colab_link": true
    },
    "kernelspec": {
      "display_name": "test",
      "language": "python",
      "name": "test"
    },
    "language_info": {
      "codemirror_mode": {
        "name": "ipython",
        "version": 3
      },
      "file_extension": ".py",
      "mimetype": "text/x-python",
      "name": "python",
      "nbconvert_exporter": "python",
      "pygments_lexer": "ipython3",
      "version": "3.12.0"
    }
  },
  "nbformat": 4,
  "nbformat_minor": 0
}