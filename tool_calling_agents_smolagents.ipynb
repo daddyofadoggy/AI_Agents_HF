{
  "cells": [
    {
      "cell_type": "markdown",
      "metadata": {
        "id": "view-in-github",
        "colab_type": "text"
      },
      "source": [
        "<a href=\"https://colab.research.google.com/github/daddyofadoggy/AI_Agents_HF/blob/main/tool_calling_agents_smolagents.ipynb\" target=\"_parent\"><img src=\"https://colab.research.google.com/assets/colab-badge.svg\" alt=\"Open In Colab\"/></a>"
      ]
    },
    {
      "cell_type": "markdown",
      "metadata": {
        "id": "Pi9CF0391ARI"
      },
      "source": [
        "# Writing actions as code snippets or JSON blobs\n",
        "\n",
        "This notebook is part of the [Hugging Face Agents Course](https://www.hf.co/learn/agents-course), a free Course from beginner to expert, where you learn to build Agents.\n",
        "\n",
        "![Agents course share](https://huggingface.co/datasets/agents-course/course-images/resolve/main/en/communication/share.png)"
      ]
    },
    {
      "cell_type": "code",
      "source": [
        "from google.colab import userdata\n",
        "#userdata.get('HF_TOKEN')"
      ],
      "metadata": {
        "id": "rwjz_LDdKrXL"
      },
      "execution_count": 7,
      "outputs": []
    },
    {
      "cell_type": "markdown",
      "metadata": {
        "id": "9gsYky7F1GzT"
      },
      "source": [
        "## Let's install the dependencies and login to our HF account to access the Inference API\n",
        "\n",
        "If you haven't installed `smolagents` yet, you can do so by running the following command:"
      ]
    },
    {
      "cell_type": "code",
      "execution_count": 8,
      "metadata": {
        "id": "MoFopncp0pnJ"
      },
      "outputs": [],
      "source": [
        "!pip install smolagents -U"
      ]
    },
    {
      "cell_type": "markdown",
      "metadata": {
        "id": "cH-4W1GhYL4T"
      },
      "source": [
        "Let's also login to the Hugging Face Hub to have access to the Inference API."
      ]
    },
    {
      "cell_type": "code",
      "execution_count": 2,
      "metadata": {
        "id": "TFTc-ry70y1f",
        "outputId": "d92e7d95-148a-4f70-d659-09277c426bd8",
        "colab": {
          "base_uri": "https://localhost:8080/",
          "height": 17,
          "referenced_widgets": [
            "ac7d06dd1fab4cf193dfce4e3abffe33",
            "8a78b92dc278412b9a2f70563a703e83",
            "564467371d264de18796df029785aaae",
            "809ac6f58cba4b2b8629605d41a10fdc",
            "e474f82ba18844dbb41e4783fe651adc",
            "dff90c0e8fdc4ca3be1a23a8730a24eb",
            "f7e2dc5bd1664eaf838f7dbeec2c6b5b",
            "6ecc6e7b49954f9e8c1272db4cdf6692",
            "93f815c693154cc782c1669027e357f7",
            "c7a75279beb74429b262f4549389b646",
            "313cc3f5ef6c4a72bcc1029013b060d9",
            "18f15b0dc5284df1a97e1f05567bc115",
            "3720b26021fb45cda4ffd8ba6fe175e8",
            "02308d5d42b44c0ea26b4fe912ea32c4",
            "64f85def72eb4f3881cfbfea3a71d4bb",
            "b83d927dd0cc467bb71c053c7fe4901e",
            "1abb5aaca90a43de9df41127ea19815e",
            "4c61bba283d2431b883e4d059fabb78c",
            "48ba11d65f1c42bb82d052ea26c1b55a",
            "2c2516b125764c268bb6391538c596ff"
          ]
        }
      },
      "outputs": [
        {
          "output_type": "display_data",
          "data": {
            "text/plain": [
              "VBox(children=(HTML(value='<center> <img\\nsrc=https://huggingface.co/front/assets/huggingface_logo-noborder.sv…"
            ],
            "application/vnd.jupyter.widget-view+json": {
              "version_major": 2,
              "version_minor": 0,
              "model_id": "ac7d06dd1fab4cf193dfce4e3abffe33"
            }
          },
          "metadata": {}
        }
      ],
      "source": [
        "from huggingface_hub import notebook_login\n",
        "\n",
        "notebook_login()"
      ]
    },
    {
      "cell_type": "code",
      "source": [
        "!pip install duckduckgo-search"
      ],
      "metadata": {
        "id": "w1KqQ-ypPk7s",
        "outputId": "9b491b70-96bf-40d0-b8a7-bec55081a414",
        "colab": {
          "base_uri": "https://localhost:8080/"
        }
      },
      "execution_count": 5,
      "outputs": [
        {
          "output_type": "stream",
          "name": "stdout",
          "text": [
            "Collecting duckduckgo-search\n",
            "  Downloading duckduckgo_search-8.0.4-py3-none-any.whl.metadata (16 kB)\n",
            "Requirement already satisfied: click>=8.1.8 in /usr/local/lib/python3.11/dist-packages (from duckduckgo-search) (8.2.1)\n",
            "Collecting primp>=0.15.0 (from duckduckgo-search)\n",
            "  Downloading primp-0.15.0-cp38-abi3-manylinux_2_17_x86_64.manylinux2014_x86_64.whl.metadata (13 kB)\n",
            "Requirement already satisfied: lxml>=5.3.0 in /usr/local/lib/python3.11/dist-packages (from duckduckgo-search) (5.4.0)\n",
            "Downloading duckduckgo_search-8.0.4-py3-none-any.whl (18 kB)\n",
            "Downloading primp-0.15.0-cp38-abi3-manylinux_2_17_x86_64.manylinux2014_x86_64.whl (3.3 MB)\n",
            "\u001b[2K   \u001b[90m━━━━━━━━━━━━━━━━━━━━━━━━━━━━━━━━━━━━━━━━\u001b[0m \u001b[32m3.3/3.3 MB\u001b[0m \u001b[31m84.3 MB/s\u001b[0m eta \u001b[36m0:00:00\u001b[0m\n",
            "\u001b[?25hInstalling collected packages: primp, duckduckgo-search\n",
            "Successfully installed duckduckgo-search-8.0.4 primp-0.15.0\n"
          ]
        }
      ]
    },
    {
      "cell_type": "markdown",
      "metadata": {
        "id": "ekKxaZrd1HlB"
      },
      "source": [
        "## Selecting a Playlist for the Party Using `smolagents` and a `ToolCallingAgent`\n",
        "\n",
        "Let's revisit the previous example where Alfred started party preparations, but this time we'll use a `ToolCallingAgent` to highlight the difference. We'll build an agent that can search the web using DuckDuckGo, just like in our Code Agent example. The only difference is the agent type - the framework handles everything else:"
      ]
    },
    {
      "cell_type": "code",
      "execution_count": 6,
      "metadata": {
        "colab": {
          "base_uri": "https://localhost:8080/",
          "height": 1000
        },
        "id": "6IInDOUN01sP",
        "outputId": "be687fb2-6902-4e95-b685-0da92a1b48ad"
      },
      "outputs": [
        {
          "output_type": "display_data",
          "data": {
            "text/plain": [
              "\u001b[38;2;212;183;2m╭─\u001b[0m\u001b[38;2;212;183;2m───────────────────────────────────────────────────\u001b[0m\u001b[38;2;212;183;2m \u001b[0m\u001b[1;38;2;212;183;2mNew run\u001b[0m\u001b[38;2;212;183;2m \u001b[0m\u001b[38;2;212;183;2m───────────────────────────────────────────────────\u001b[0m\u001b[38;2;212;183;2m─╮\u001b[0m\n",
              "\u001b[38;2;212;183;2m│\u001b[0m                                                                                                                 \u001b[38;2;212;183;2m│\u001b[0m\n",
              "\u001b[38;2;212;183;2m│\u001b[0m \u001b[1mSearch for the best music recommendations for a party at the Wayne's mansion.\u001b[0m                                   \u001b[38;2;212;183;2m│\u001b[0m\n",
              "\u001b[38;2;212;183;2m│\u001b[0m                                                                                                                 \u001b[38;2;212;183;2m│\u001b[0m\n",
              "\u001b[38;2;212;183;2m╰─\u001b[0m\u001b[38;2;212;183;2m InferenceClientModel - Qwen/Qwen2.5-Coder-32B-Instruct \u001b[0m\u001b[38;2;212;183;2m───────────────────────────────────────────────────────\u001b[0m\u001b[38;2;212;183;2m─╯\u001b[0m\n"
            ],
            "text/html": [
              "<pre style=\"white-space:pre;overflow-x:auto;line-height:normal;font-family:Menlo,'DejaVu Sans Mono',consolas,'Courier New',monospace\"><span style=\"color: #d4b702; text-decoration-color: #d4b702\">╭──────────────────────────────────────────────────── </span><span style=\"color: #d4b702; text-decoration-color: #d4b702; font-weight: bold\">New run</span><span style=\"color: #d4b702; text-decoration-color: #d4b702\"> ────────────────────────────────────────────────────╮</span>\n",
              "<span style=\"color: #d4b702; text-decoration-color: #d4b702\">│</span>                                                                                                                 <span style=\"color: #d4b702; text-decoration-color: #d4b702\">│</span>\n",
              "<span style=\"color: #d4b702; text-decoration-color: #d4b702\">│</span> <span style=\"font-weight: bold\">Search for the best music recommendations for a party at the Wayne's mansion.</span>                                   <span style=\"color: #d4b702; text-decoration-color: #d4b702\">│</span>\n",
              "<span style=\"color: #d4b702; text-decoration-color: #d4b702\">│</span>                                                                                                                 <span style=\"color: #d4b702; text-decoration-color: #d4b702\">│</span>\n",
              "<span style=\"color: #d4b702; text-decoration-color: #d4b702\">╰─ InferenceClientModel - Qwen/Qwen2.5-Coder-32B-Instruct ────────────────────────────────────────────────────────╯</span>\n",
              "</pre>\n"
            ]
          },
          "metadata": {}
        },
        {
          "output_type": "display_data",
          "data": {
            "text/plain": [
              "\u001b[38;2;212;183;2m━━━━━━━━━━━━━━━━━━━━━━━━━━━━━━━━━━━━━━━━━━━━━━━━━━━━━ \u001b[0m\u001b[1mStep \u001b[0m\u001b[1;36m1\u001b[0m\u001b[38;2;212;183;2m ━━━━━━━━━━━━━━━━━━━━━━━━━━━━━━━━━━━━━━━━━━━━━━━━━━━━━━\u001b[0m\n"
            ],
            "text/html": [
              "<pre style=\"white-space:pre;overflow-x:auto;line-height:normal;font-family:Menlo,'DejaVu Sans Mono',consolas,'Courier New',monospace\"><span style=\"color: #d4b702; text-decoration-color: #d4b702\">━━━━━━━━━━━━━━━━━━━━━━━━━━━━━━━━━━━━━━━━━━━━━━━━━━━━━ </span><span style=\"font-weight: bold\">Step </span><span style=\"color: #008080; text-decoration-color: #008080; font-weight: bold\">1</span><span style=\"color: #d4b702; text-decoration-color: #d4b702\"> ━━━━━━━━━━━━━━━━━━━━━━━━━━━━━━━━━━━━━━━━━━━━━━━━━━━━━━</span>\n",
              "</pre>\n"
            ]
          },
          "metadata": {}
        },
        {
          "output_type": "display_data",
          "data": {
            "text/plain": [
              "╭─────────────────────────────────────────────────────────────────────────────────────────────────────────────────╮\n",
              "│ Calling tool: 'web_search' with arguments: {'query': \"Best music recommendations for a party at Wayne's         │\n",
              "│ mansion\"}                                                                                                       │\n",
              "╰─────────────────────────────────────────────────────────────────────────────────────────────────────────────────╯\n"
            ],
            "text/html": [
              "<pre style=\"white-space:pre;overflow-x:auto;line-height:normal;font-family:Menlo,'DejaVu Sans Mono',consolas,'Courier New',monospace\">╭─────────────────────────────────────────────────────────────────────────────────────────────────────────────────╮\n",
              "│ Calling tool: 'web_search' with arguments: {'query': \"Best music recommendations for a party at Wayne's         │\n",
              "│ mansion\"}                                                                                                       │\n",
              "╰─────────────────────────────────────────────────────────────────────────────────────────────────────────────────╯\n",
              "</pre>\n"
            ]
          },
          "metadata": {}
        },
        {
          "output_type": "display_data",
          "data": {
            "text/plain": [
              "Observations: ## Search Results\n",
              "\n",
              "|The \u001b[1;36m75\u001b[0m Best Party Songs That Will Get Everyone Dancing - \n",
              "Gear4music\u001b[1m]\u001b[0m\u001b[1m(\u001b[0m\u001b[4;94mhttps://www.gear4music.com/blog/best-party-songs/\u001b[0m\u001b[4;94m)\u001b[0m\n",
              "Creating the perfect soundtrack is crucial to getting the right atmosphere at your event. If you're throwing a \n",
              "party, there are countless songs that will get everyone up and dancing; even once you've chosen your mix, you'll \n",
              "probably still think of more later! So, to keep things simple, we've compiled the best party songs of all time, \n",
              "from timeless classics to contemporary hits, giving \u001b[33m...\u001b[0m\n",
              "\n",
              "|late nights in the wayne manor part \u001b[1;36m2\u001b[0m | a bruce wayne rock/blues \u001b[33m...\u001b[0m\u001b[1m]\u001b[0m\u001b[1m(\u001b[0m\u001b[4;94mhttps://www.youtube.com/watch?\u001b[0m\u001b[4;94mv\u001b[0m\u001b[4;94m=\u001b[0m\u001b[4;94mDBRSHk2XpmU\u001b[0m\u001b[4;94m)\u001b[0m\n",
              "these are songs that bruce wayne listens to while wandering the halls of the great wayne manor. this is part \u001b[1;36m2.\u001b[0mfind\n",
              "this playlist on my spotify: \u001b[4;94mhttps://open...\u001b[0m\n",
              "\n",
              "|\u001b[1;36m45\u001b[0m Songs That Get Your Event Guests on the Dance Floor Every \n",
              "Time\u001b[1m]\u001b[0m\u001b[1m(\u001b[0m\u001b[4;94mhttps://hub.theeventplannerexpo.com/entertainment/35-songs-that-get-your-event-guests-on-the-dance-floor-ever\u001b[0m\n",
              "\u001b[4;94my-time\u001b[0m\u001b[4;94m)\u001b[0m\n",
              "From there, the DJ will amp up the tunes and inspire dancing. Top Songs That Work Every Time When you work with \n",
              "your event services providers for music before the event, drill down on some of the best dance-floor songs to have \n",
              "on hand for motivating a dance crowd. You'll know your client's event best, including music genre preferences and \n",
              "\u001b[33m...\u001b[0m\n",
              "\n",
              "|\u001b[1;36m50\u001b[0m Songs on Every Event Planner's Playlist - \n",
              "Eventbrite\u001b[1m]\u001b[0m\u001b[1m(\u001b[0m\u001b[4;94mhttps://www.eventbrite.com/blog/event-planning-playlist-ds00/\u001b[0m\u001b[4;94m)\u001b[0m\n",
              "Need help choosing the perfect event music? Discover how to curate the right playlist with song suggestions from \n",
              "Eventbrite.\n",
              "\n",
              "|Best Songs To Party: DJ's Ultimate Party Songs Playlist\u001b[1m]\u001b[0m\u001b[1m(\u001b[0m\u001b[4;94mhttps://top40weekly.com/best-songs-to-party/\u001b[0m\u001b[4;94m)\u001b[0m\n",
              "Planning a celebration? Don't forget the music! We've compiled the best songs to party that are sure to get \n",
              "everyone in the mood to dance and have a good time.\n",
              "\n",
              "|\u001b[1;36m35\u001b[0m Best Party Songs to Help You Get Down & Boogie - MidderMusic\u001b[1m]\u001b[0m\u001b[1m(\u001b[0m\u001b[4;94mhttps://middermusic.com/best-party-songs/\u001b[0m\u001b[4;94m)\u001b[0m\n",
              "I've put together the best party songs to help you get down and boogie, ensuring your next celebration is an \n",
              "unforgettable dance fest. This article is your ultimate playlist for tunes that guarantee to get everyone on their \n",
              "feet and into the groove.\n",
              "\n",
              "|\u001b[1;36m40\u001b[0m Best Party Songs | Songs To Dance To, Ranked By Our Editors - Time \n",
              "Out\u001b[1m]\u001b[0m\u001b[1m(\u001b[0m\u001b[4;94mhttps://www.timeout.com/music/best-party-songs\u001b[0m\u001b[4;94m)\u001b[0m\n",
              "Looking for dance songs? We've got you covered. From Britney Spears to Diana Ross, Charli XCX to Peggy Gou, here \n",
              "are the best party songs ever written.\n",
              "\n",
              "|Song Lists to help you plan the perfect music for your event!\u001b[1m]\u001b[0m\u001b[1m(\u001b[0m\u001b[4;94mhttp://pianistforparties.com/songs/\u001b[0m\u001b[4;94m)\u001b[0m\n",
              "Song ideas to help you plan music for your wedding, corporate event or memorial service, by Event Pianist, Sharon \n",
              "Planer.\n",
              "\n",
              "|Best Party Playlist: \u001b[1;36m25\u001b[0m High-Energy Songs for the Ultimate \n",
              "Celebration\u001b[1m]\u001b[0m\u001b[1m(\u001b[0m\u001b[4;94mhttps://audioassemble.com/best-party-playlist/\u001b[0m\u001b[4;94m)\u001b[0m\n",
              "Whether you're planning a weekend house party, a birthday bash, or an impromptu dance-off, every celebration \n",
              "deserves the perfect soundtrack. Our selection of \u001b[1;36m25\u001b[0m high-energy songs are tried-and-true crowd pleasers that \n",
              "seamlessly blend different genres and eras, ensuring there's something for everyone.\n",
              "\n",
              "|late nights in the wayne manor - YouTube Music\u001b[1m]\u001b[0m\u001b[1m(\u001b[0m\u001b[4;94mhttps://music.youtube.com/watch?\u001b[0m\u001b[4;94mv\u001b[0m\u001b[4;94m=\u001b[0m\u001b[4;94moOdHCjj3jn4\u001b[0m\u001b[4;94m)\u001b[0m\n",
              "these are songs that bruce wayne listens to while wandering the halls of the great wayne manor. find this playlist \n",
              "on my spotify: \u001b[4;94mhttps://open.spotify.com/u...\u001b[0m\n"
            ],
            "text/html": [
              "<pre style=\"white-space:pre;overflow-x:auto;line-height:normal;font-family:Menlo,'DejaVu Sans Mono',consolas,'Courier New',monospace\">Observations: ## Search Results\n",
              "\n",
              "|The <span style=\"color: #008080; text-decoration-color: #008080; font-weight: bold\">75</span> Best Party Songs That Will Get Everyone Dancing - \n",
              "Gear4music<span style=\"font-weight: bold\">](</span><span style=\"color: #0000ff; text-decoration-color: #0000ff; text-decoration: underline\">https://www.gear4music.com/blog/best-party-songs/)</span>\n",
              "Creating the perfect soundtrack is crucial to getting the right atmosphere at your event. If you're throwing a \n",
              "party, there are countless songs that will get everyone up and dancing; even once you've chosen your mix, you'll \n",
              "probably still think of more later! So, to keep things simple, we've compiled the best party songs of all time, \n",
              "from timeless classics to contemporary hits, giving <span style=\"color: #808000; text-decoration-color: #808000\">...</span>\n",
              "\n",
              "|late nights in the wayne manor part <span style=\"color: #008080; text-decoration-color: #008080; font-weight: bold\">2</span> | a bruce wayne rock/blues <span style=\"color: #808000; text-decoration-color: #808000\">...</span><span style=\"font-weight: bold\">](</span><span style=\"color: #0000ff; text-decoration-color: #0000ff; text-decoration: underline\">https://www.youtube.com/watch?v=DBRSHk2XpmU)</span>\n",
              "these are songs that bruce wayne listens to while wandering the halls of the great wayne manor. this is part <span style=\"color: #008080; text-decoration-color: #008080; font-weight: bold\">2.</span>find\n",
              "this playlist on my spotify: <span style=\"color: #0000ff; text-decoration-color: #0000ff; text-decoration: underline\">https://open...</span>\n",
              "\n",
              "|<span style=\"color: #008080; text-decoration-color: #008080; font-weight: bold\">45</span> Songs That Get Your Event Guests on the Dance Floor Every \n",
              "Time<span style=\"font-weight: bold\">](</span><span style=\"color: #0000ff; text-decoration-color: #0000ff; text-decoration: underline\">https://hub.theeventplannerexpo.com/entertainment/35-songs-that-get-your-event-guests-on-the-dance-floor-ever</span>\n",
              "<span style=\"color: #0000ff; text-decoration-color: #0000ff; text-decoration: underline\">y-time)</span>\n",
              "From there, the DJ will amp up the tunes and inspire dancing. Top Songs That Work Every Time When you work with \n",
              "your event services providers for music before the event, drill down on some of the best dance-floor songs to have \n",
              "on hand for motivating a dance crowd. You'll know your client's event best, including music genre preferences and \n",
              "<span style=\"color: #808000; text-decoration-color: #808000\">...</span>\n",
              "\n",
              "|<span style=\"color: #008080; text-decoration-color: #008080; font-weight: bold\">50</span> Songs on Every Event Planner's Playlist - \n",
              "Eventbrite<span style=\"font-weight: bold\">](</span><span style=\"color: #0000ff; text-decoration-color: #0000ff; text-decoration: underline\">https://www.eventbrite.com/blog/event-planning-playlist-ds00/)</span>\n",
              "Need help choosing the perfect event music? Discover how to curate the right playlist with song suggestions from \n",
              "Eventbrite.\n",
              "\n",
              "|Best Songs To Party: DJ's Ultimate Party Songs Playlist<span style=\"font-weight: bold\">](</span><span style=\"color: #0000ff; text-decoration-color: #0000ff; text-decoration: underline\">https://top40weekly.com/best-songs-to-party/)</span>\n",
              "Planning a celebration? Don't forget the music! We've compiled the best songs to party that are sure to get \n",
              "everyone in the mood to dance and have a good time.\n",
              "\n",
              "|<span style=\"color: #008080; text-decoration-color: #008080; font-weight: bold\">35</span> Best Party Songs to Help You Get Down &amp; Boogie - MidderMusic<span style=\"font-weight: bold\">](</span><span style=\"color: #0000ff; text-decoration-color: #0000ff; text-decoration: underline\">https://middermusic.com/best-party-songs/)</span>\n",
              "I've put together the best party songs to help you get down and boogie, ensuring your next celebration is an \n",
              "unforgettable dance fest. This article is your ultimate playlist for tunes that guarantee to get everyone on their \n",
              "feet and into the groove.\n",
              "\n",
              "|<span style=\"color: #008080; text-decoration-color: #008080; font-weight: bold\">40</span> Best Party Songs | Songs To Dance To, Ranked By Our Editors - Time \n",
              "Out<span style=\"font-weight: bold\">](</span><span style=\"color: #0000ff; text-decoration-color: #0000ff; text-decoration: underline\">https://www.timeout.com/music/best-party-songs)</span>\n",
              "Looking for dance songs? We've got you covered. From Britney Spears to Diana Ross, Charli XCX to Peggy Gou, here \n",
              "are the best party songs ever written.\n",
              "\n",
              "|Song Lists to help you plan the perfect music for your event!<span style=\"font-weight: bold\">](</span><span style=\"color: #0000ff; text-decoration-color: #0000ff; text-decoration: underline\">http://pianistforparties.com/songs/)</span>\n",
              "Song ideas to help you plan music for your wedding, corporate event or memorial service, by Event Pianist, Sharon \n",
              "Planer.\n",
              "\n",
              "|Best Party Playlist: <span style=\"color: #008080; text-decoration-color: #008080; font-weight: bold\">25</span> High-Energy Songs for the Ultimate \n",
              "Celebration<span style=\"font-weight: bold\">](</span><span style=\"color: #0000ff; text-decoration-color: #0000ff; text-decoration: underline\">https://audioassemble.com/best-party-playlist/)</span>\n",
              "Whether you're planning a weekend house party, a birthday bash, or an impromptu dance-off, every celebration \n",
              "deserves the perfect soundtrack. Our selection of <span style=\"color: #008080; text-decoration-color: #008080; font-weight: bold\">25</span> high-energy songs are tried-and-true crowd pleasers that \n",
              "seamlessly blend different genres and eras, ensuring there's something for everyone.\n",
              "\n",
              "|late nights in the wayne manor - YouTube Music<span style=\"font-weight: bold\">](</span><span style=\"color: #0000ff; text-decoration-color: #0000ff; text-decoration: underline\">https://music.youtube.com/watch?v=oOdHCjj3jn4)</span>\n",
              "these are songs that bruce wayne listens to while wandering the halls of the great wayne manor. find this playlist \n",
              "on my spotify: <span style=\"color: #0000ff; text-decoration-color: #0000ff; text-decoration: underline\">https://open.spotify.com/u...</span>\n",
              "</pre>\n"
            ]
          },
          "metadata": {}
        },
        {
          "output_type": "display_data",
          "data": {
            "text/plain": [
              "\u001b[2m[Step 1: Duration 2.11 seconds| Input tokens: 1,138 | Output tokens: 28]\u001b[0m\n"
            ],
            "text/html": [
              "<pre style=\"white-space:pre;overflow-x:auto;line-height:normal;font-family:Menlo,'DejaVu Sans Mono',consolas,'Courier New',monospace\"><span style=\"color: #7f7f7f; text-decoration-color: #7f7f7f\">[Step 1: Duration 2.11 seconds| Input tokens: 1,138 | Output tokens: 28]</span>\n",
              "</pre>\n"
            ]
          },
          "metadata": {}
        },
        {
          "output_type": "display_data",
          "data": {
            "text/plain": [
              "\u001b[38;2;212;183;2m━━━━━━━━━━━━━━━━━━━━━━━━━━━━━━━━━━━━━━━━━━━━━━━━━━━━━ \u001b[0m\u001b[1mStep \u001b[0m\u001b[1;36m2\u001b[0m\u001b[38;2;212;183;2m ━━━━━━━━━━━━━━━━━━━━━━━━━━━━━━━━━━━━━━━━━━━━━━━━━━━━━━\u001b[0m\n"
            ],
            "text/html": [
              "<pre style=\"white-space:pre;overflow-x:auto;line-height:normal;font-family:Menlo,'DejaVu Sans Mono',consolas,'Courier New',monospace\"><span style=\"color: #d4b702; text-decoration-color: #d4b702\">━━━━━━━━━━━━━━━━━━━━━━━━━━━━━━━━━━━━━━━━━━━━━━━━━━━━━ </span><span style=\"font-weight: bold\">Step </span><span style=\"color: #008080; text-decoration-color: #008080; font-weight: bold\">2</span><span style=\"color: #d4b702; text-decoration-color: #d4b702\"> ━━━━━━━━━━━━━━━━━━━━━━━━━━━━━━━━━━━━━━━━━━━━━━━━━━━━━━</span>\n",
              "</pre>\n"
            ]
          },
          "metadata": {}
        },
        {
          "output_type": "display_data",
          "data": {
            "text/plain": [
              "╭─────────────────────────────────────────────────────────────────────────────────────────────────────────────────╮\n",
              "│ Calling tool: 'web_search' with arguments: {'query': 'Best party playbacks for a Batman theme'}                 │\n",
              "╰─────────────────────────────────────────────────────────────────────────────────────────────────────────────────╯\n"
            ],
            "text/html": [
              "<pre style=\"white-space:pre;overflow-x:auto;line-height:normal;font-family:Menlo,'DejaVu Sans Mono',consolas,'Courier New',monospace\">╭─────────────────────────────────────────────────────────────────────────────────────────────────────────────────╮\n",
              "│ Calling tool: 'web_search' with arguments: {'query': 'Best party playbacks for a Batman theme'}                 │\n",
              "╰─────────────────────────────────────────────────────────────────────────────────────────────────────────────────╯\n",
              "</pre>\n"
            ]
          },
          "metadata": {}
        },
        {
          "output_type": "display_data",
          "data": {
            "text/plain": [
              "╭─────────────────────────────────────────────────────────────────────────────────────────────────────────────────╮\n",
              "│ Calling tool: 'web_search' with arguments: {'query': 'Energetic dance songs for parties'}                       │\n",
              "╰─────────────────────────────────────────────────────────────────────────────────────────────────────────────────╯\n"
            ],
            "text/html": [
              "<pre style=\"white-space:pre;overflow-x:auto;line-height:normal;font-family:Menlo,'DejaVu Sans Mono',consolas,'Courier New',monospace\">╭─────────────────────────────────────────────────────────────────────────────────────────────────────────────────╮\n",
              "│ Calling tool: 'web_search' with arguments: {'query': 'Energetic dance songs for parties'}                       │\n",
              "╰─────────────────────────────────────────────────────────────────────────────────────────────────────────────────╯\n",
              "</pre>\n"
            ]
          },
          "metadata": {}
        },
        {
          "output_type": "display_data",
          "data": {
            "text/plain": [
              "╭─────────────────────────────────────────────────────────────────────────────────────────────────────────────────╮\n",
              "│ Calling tool: 'web_search' with arguments: {'query': 'High-energy party music mixtape'}                         │\n",
              "╰─────────────────────────────────────────────────────────────────────────────────────────────────────────────────╯\n"
            ],
            "text/html": [
              "<pre style=\"white-space:pre;overflow-x:auto;line-height:normal;font-family:Menlo,'DejaVu Sans Mono',consolas,'Courier New',monospace\">╭─────────────────────────────────────────────────────────────────────────────────────────────────────────────────╮\n",
              "│ Calling tool: 'web_search' with arguments: {'query': 'High-energy party music mixtape'}                         │\n",
              "╰─────────────────────────────────────────────────────────────────────────────────────────────────────────────────╯\n",
              "</pre>\n"
            ]
          },
          "metadata": {}
        },
        {
          "output_type": "display_data",
          "data": {
            "text/plain": [
              "Observations: ## Search Results\n",
              "\n",
              "|Ultimate EDM Party Mix | High-Energy Dance Music for House Parties \n",
              "\u001b[33m...\u001b[0m\u001b[1m]\u001b[0m\u001b[1m(\u001b[0m\u001b[4;94mhttps://www.youtube.com/watch?\u001b[0m\u001b[4;94mv\u001b[0m\u001b[4;94m=\u001b[0m\u001b[4;94mkHKkCTR4EVw\u001b[0m\u001b[4;94m)\u001b[0m\n",
              "Get ready to turn up the volume and ignite the dance floor with this high-energy EDM party mix! 🔥 Packed with \n",
              "electrifying beats, powerful drops, and non-st\u001b[33m...\u001b[0m\n",
              "\n",
              "|MixTape - BeatMix Music\u001b[1m]\u001b[0m\u001b[1m(\u001b[0m\u001b[4;94mhttps://www.beatmixmusic.com/our-music/mixtape/\u001b[0m\u001b[4;94m)\u001b[0m\n",
              "This high-energy band makes every party feel like your own perfectly curated mixtape. \u001b[33m...\u001b[0m MixTape injects a \n",
              "vibrant, youthful energy into a repertoire spanning time-tested classics to the latest Top \u001b[1;36m40\u001b[0m hits. Ideal for \n",
              "modern weddings, sleek corporate celebrations, and trendy events, their infectious energy and keen feel for today's\n",
              "music will \u001b[33m...\u001b[0m\n",
              "\n",
              "|High Energy Party Music EDM Mixtape - \n",
              "SoundCloud\u001b[1m]\u001b[0m\u001b[1m(\u001b[0m\u001b[4;94mhttps://soundcloud.com/user-118688524/high-energy-party-music-edm-mixtape\u001b[0m\u001b[4;94m)\u001b[0m\n",
              "Stream High Energy Party Music EDM Mixtape by MEGABOYMIXTAPE on desktop and mobile. Play over \u001b[1;36m320\u001b[0m million tracks \n",
              "for free on SoundCloud.\n",
              "\n",
              "|Best Party Playlist: \u001b[1;36m25\u001b[0m High-Energy Songs for the Ultimate \n",
              "Celebration\u001b[1m]\u001b[0m\u001b[1m(\u001b[0m\u001b[4;94mhttps://audioassemble.com/best-party-playlist/\u001b[0m\u001b[4;94m)\u001b[0m\n",
              "Whether you're planning a weekend house party, a birthday bash, or an impromptu dance-off, every celebration \n",
              "deserves the perfect soundtrack. Our selection of \u001b[1;36m25\u001b[0m high-energy songs are tried-and-true crowd pleasers that \n",
              "seamlessly blend different genres and eras, ensuring there's something for everyone.\n",
              "\n",
              "|DJ OP Dot Mixtapes | Turn Up the Party Vibes - Stream Now\u001b[1m]\u001b[0m\u001b[1m(\u001b[0m\u001b[4;94mhttps://energydjopdot.com/blog/mixtape/\u001b[0m\u001b[4;94m)\u001b[0m\n",
              "Ready to ignite the party? Dive into DJ OP Dot's electrifying mixtapes—curated for peak energy and unstoppable \n",
              "vibes. Whether pre-gaming, hosting, or just needing a soundtrack to turn the day up, press play and let the beats \n",
              "take over. Stream, download, and experience the mix that keeps the crowd moving!\n",
              "\n",
              "|Best DJ Mixtapes April \u001b[1;36m2025\u001b[0m: Naija, RNB, Reggae, Afrobeat, Hiphop \n",
              "\u001b[33m...\u001b[0m\u001b[1m]\u001b[0m\u001b[1m(\u001b[0m\u001b[4;94mhttps://www.nairaland.com/8417404/best-dj-mixtapes-april-2025\u001b[0m\u001b[4;94m)\u001b[0m\n",
              "Here's a roundup of some standout mixtapes and singles that have been making waves: \u001b[1;36m1\u001b[0m. DJ Spark - \u001b[1;36m2025\u001b[0m Best \n",
              "Afrobeats Party Mixtape DJ Spark delivers a high-energy mix featuring the latest Naija Afrosounds and Amapiano \n",
              "hits. This mixtape is perfect for those looking to keep the party going with the freshest tracks. \u001b[1;36m2\u001b[0m.\n",
              "\n",
              "|Jadui Varta - Bollywood EDM Remix Mixtape \u001b[1;36m2025\u001b[0m | High-Energy Party \n",
              "Mix\u001b[1m]\u001b[0m\u001b[1m(\u001b[0m\u001b[4;94mhttps://www.youtube.com/watch?\u001b[0m\u001b[4;94mv\u001b[0m\u001b[4;94m=\u001b[0m\u001b[4;94maWw1GEoXau4\u001b[0m\u001b[4;94m)\u001b[0m\n",
              "🎧 **Jadui Varta** presents: A high-energy **Remix Mixtape**!Get ready for a **sonic journey** through the best of \n",
              "**reimagined Bollywood classics**, **club \u001b[33m...\u001b[0m\n",
              "\n",
              "|Global Party Anthems: The Ultimate High Energy Mixtape \u001b[1m(\u001b[0m\u001b[1;36m2000\u001b[0m's Hits \n",
              "\u001b[33m...\u001b[0m\u001b[1m]\u001b[0m\u001b[1m(\u001b[0m\u001b[4;94mhttps://djbeazypodcast.buzzsprout.com/1364371/episodes/12940258-global-party-anthems-the-ultimate-high-energy-\u001b[0m\n",
              "\u001b[4;94mmixtape-2000-s-hits-pitbull-sean-paul-rihanna-lmfao-dj-class-t-pain-florida\u001b[0m\u001b[4;94m)\u001b[0m\n",
              "Global Party Anthems: High-Energy Mixtape is a non-stop journey through the best hits of the \u001b[1;36m2000\u001b[0m's, featuring \n",
              "chart topping artist that dominated the global music scene. DJ B-EAZY expertly blends the high-octane tracks, \n",
              "creating a seamless fusion of hip hop, pop, and dance that unites people on dance floors and parties.\n",
              "\n",
              "|Top Songs for a High-Energy Dance Party - Candiria \n",
              "Music\u001b[1m]\u001b[0m\u001b[1m(\u001b[0m\u001b[4;94mhttps://candiriamusic.com/top-songs-for-a-high-energy-dance-party/\u001b[0m\u001b[4;94m)\u001b[0m\n",
              "Whether you're hosting a big celebration or a more intimate gathering, these songs will ensure that your party has \n",
              "the perfect rhythm to keep everyone dancing all night long. Here's a list of the top songs that should be on every \n",
              "high-energy dance party playlist. \u001b[1;36m1\u001b[0m. \u001b[32m\"Can't Stop the Feeling!\"\u001b[0m - Justin Timberlake\n",
              "\n",
              "|Mixtape - Naijaloaded | Nigeria's Most Visited Music & Entertainment \n",
              "\u001b[33m...\u001b[0m\u001b[1m]\u001b[0m\u001b[1m(\u001b[0m\u001b[4;94mhttps://www.naijaloaded.com.ng/category/mixtape\u001b[0m\u001b[4;94m)\u001b[0m\n",
              "Mixtape \u001b[35m/\u001b[0m Naijaloaded \u001b[1;36m001\u001b[0m - \u001b[1;36m4\u001b[0m months ago |Mixtape\u001b[1m]\u001b[0m Alaba Reports Promotions Ft. DJ Max \u001b[1m(\u001b[0mKing Of DJs\u001b[1m)\u001b[0m - Battle Mix. \n",
              "Alaba Reports Promotions teams up with the legendary DJ Max \u001b[1m(\u001b[0mKing of DJs\u001b[1m)\u001b[0m to drop a fire mixtape titled \u001b[32m\"Battle \u001b[0m\n",
              "\u001b[32mMix\"\u001b[0m A high-energy compilation packed with the hottest hits…\n"
            ],
            "text/html": [
              "<pre style=\"white-space:pre;overflow-x:auto;line-height:normal;font-family:Menlo,'DejaVu Sans Mono',consolas,'Courier New',monospace\">Observations: ## Search Results\n",
              "\n",
              "|Ultimate EDM Party Mix | High-Energy Dance Music for House Parties \n",
              "<span style=\"color: #808000; text-decoration-color: #808000\">...</span><span style=\"font-weight: bold\">](</span><span style=\"color: #0000ff; text-decoration-color: #0000ff; text-decoration: underline\">https://www.youtube.com/watch?v=kHKkCTR4EVw)</span>\n",
              "Get ready to turn up the volume and ignite the dance floor with this high-energy EDM party mix! 🔥 Packed with \n",
              "electrifying beats, powerful drops, and non-st<span style=\"color: #808000; text-decoration-color: #808000\">...</span>\n",
              "\n",
              "|MixTape - BeatMix Music<span style=\"font-weight: bold\">](</span><span style=\"color: #0000ff; text-decoration-color: #0000ff; text-decoration: underline\">https://www.beatmixmusic.com/our-music/mixtape/)</span>\n",
              "This high-energy band makes every party feel like your own perfectly curated mixtape. <span style=\"color: #808000; text-decoration-color: #808000\">...</span> MixTape injects a \n",
              "vibrant, youthful energy into a repertoire spanning time-tested classics to the latest Top <span style=\"color: #008080; text-decoration-color: #008080; font-weight: bold\">40</span> hits. Ideal for \n",
              "modern weddings, sleek corporate celebrations, and trendy events, their infectious energy and keen feel for today's\n",
              "music will <span style=\"color: #808000; text-decoration-color: #808000\">...</span>\n",
              "\n",
              "|High Energy Party Music EDM Mixtape - \n",
              "SoundCloud<span style=\"font-weight: bold\">](</span><span style=\"color: #0000ff; text-decoration-color: #0000ff; text-decoration: underline\">https://soundcloud.com/user-118688524/high-energy-party-music-edm-mixtape)</span>\n",
              "Stream High Energy Party Music EDM Mixtape by MEGABOYMIXTAPE on desktop and mobile. Play over <span style=\"color: #008080; text-decoration-color: #008080; font-weight: bold\">320</span> million tracks \n",
              "for free on SoundCloud.\n",
              "\n",
              "|Best Party Playlist: <span style=\"color: #008080; text-decoration-color: #008080; font-weight: bold\">25</span> High-Energy Songs for the Ultimate \n",
              "Celebration<span style=\"font-weight: bold\">](</span><span style=\"color: #0000ff; text-decoration-color: #0000ff; text-decoration: underline\">https://audioassemble.com/best-party-playlist/)</span>\n",
              "Whether you're planning a weekend house party, a birthday bash, or an impromptu dance-off, every celebration \n",
              "deserves the perfect soundtrack. Our selection of <span style=\"color: #008080; text-decoration-color: #008080; font-weight: bold\">25</span> high-energy songs are tried-and-true crowd pleasers that \n",
              "seamlessly blend different genres and eras, ensuring there's something for everyone.\n",
              "\n",
              "|DJ OP Dot Mixtapes | Turn Up the Party Vibes - Stream Now<span style=\"font-weight: bold\">](</span><span style=\"color: #0000ff; text-decoration-color: #0000ff; text-decoration: underline\">https://energydjopdot.com/blog/mixtape/)</span>\n",
              "Ready to ignite the party? Dive into DJ OP Dot's electrifying mixtapes—curated for peak energy and unstoppable \n",
              "vibes. Whether pre-gaming, hosting, or just needing a soundtrack to turn the day up, press play and let the beats \n",
              "take over. Stream, download, and experience the mix that keeps the crowd moving!\n",
              "\n",
              "|Best DJ Mixtapes April <span style=\"color: #008080; text-decoration-color: #008080; font-weight: bold\">2025</span>: Naija, RNB, Reggae, Afrobeat, Hiphop \n",
              "<span style=\"color: #808000; text-decoration-color: #808000\">...</span><span style=\"font-weight: bold\">](</span><span style=\"color: #0000ff; text-decoration-color: #0000ff; text-decoration: underline\">https://www.nairaland.com/8417404/best-dj-mixtapes-april-2025)</span>\n",
              "Here's a roundup of some standout mixtapes and singles that have been making waves: <span style=\"color: #008080; text-decoration-color: #008080; font-weight: bold\">1</span>. DJ Spark - <span style=\"color: #008080; text-decoration-color: #008080; font-weight: bold\">2025</span> Best \n",
              "Afrobeats Party Mixtape DJ Spark delivers a high-energy mix featuring the latest Naija Afrosounds and Amapiano \n",
              "hits. This mixtape is perfect for those looking to keep the party going with the freshest tracks. <span style=\"color: #008080; text-decoration-color: #008080; font-weight: bold\">2</span>.\n",
              "\n",
              "|Jadui Varta - Bollywood EDM Remix Mixtape <span style=\"color: #008080; text-decoration-color: #008080; font-weight: bold\">2025</span> | High-Energy Party \n",
              "Mix<span style=\"font-weight: bold\">](</span><span style=\"color: #0000ff; text-decoration-color: #0000ff; text-decoration: underline\">https://www.youtube.com/watch?v=aWw1GEoXau4)</span>\n",
              "🎧 **Jadui Varta** presents: A high-energy **Remix Mixtape**!Get ready for a **sonic journey** through the best of \n",
              "**reimagined Bollywood classics**, **club <span style=\"color: #808000; text-decoration-color: #808000\">...</span>\n",
              "\n",
              "|Global Party Anthems: The Ultimate High Energy Mixtape <span style=\"font-weight: bold\">(</span><span style=\"color: #008080; text-decoration-color: #008080; font-weight: bold\">2000</span>'s Hits \n",
              "<span style=\"color: #808000; text-decoration-color: #808000\">...</span><span style=\"font-weight: bold\">](</span><span style=\"color: #0000ff; text-decoration-color: #0000ff; text-decoration: underline\">https://djbeazypodcast.buzzsprout.com/1364371/episodes/12940258-global-party-anthems-the-ultimate-high-energy-</span>\n",
              "<span style=\"color: #0000ff; text-decoration-color: #0000ff; text-decoration: underline\">mixtape-2000-s-hits-pitbull-sean-paul-rihanna-lmfao-dj-class-t-pain-florida)</span>\n",
              "Global Party Anthems: High-Energy Mixtape is a non-stop journey through the best hits of the <span style=\"color: #008080; text-decoration-color: #008080; font-weight: bold\">2000</span>'s, featuring \n",
              "chart topping artist that dominated the global music scene. DJ B-EAZY expertly blends the high-octane tracks, \n",
              "creating a seamless fusion of hip hop, pop, and dance that unites people on dance floors and parties.\n",
              "\n",
              "|Top Songs for a High-Energy Dance Party - Candiria \n",
              "Music<span style=\"font-weight: bold\">](</span><span style=\"color: #0000ff; text-decoration-color: #0000ff; text-decoration: underline\">https://candiriamusic.com/top-songs-for-a-high-energy-dance-party/)</span>\n",
              "Whether you're hosting a big celebration or a more intimate gathering, these songs will ensure that your party has \n",
              "the perfect rhythm to keep everyone dancing all night long. Here's a list of the top songs that should be on every \n",
              "high-energy dance party playlist. <span style=\"color: #008080; text-decoration-color: #008080; font-weight: bold\">1</span>. <span style=\"color: #008000; text-decoration-color: #008000\">\"Can't Stop the Feeling!\"</span> - Justin Timberlake\n",
              "\n",
              "|Mixtape - Naijaloaded | Nigeria's Most Visited Music &amp; Entertainment \n",
              "<span style=\"color: #808000; text-decoration-color: #808000\">...</span><span style=\"font-weight: bold\">](</span><span style=\"color: #0000ff; text-decoration-color: #0000ff; text-decoration: underline\">https://www.naijaloaded.com.ng/category/mixtape)</span>\n",
              "Mixtape <span style=\"color: #800080; text-decoration-color: #800080\">/</span> Naijaloaded <span style=\"color: #008080; text-decoration-color: #008080; font-weight: bold\">001</span> - <span style=\"color: #008080; text-decoration-color: #008080; font-weight: bold\">4</span> months ago |Mixtape<span style=\"font-weight: bold\">]</span> Alaba Reports Promotions Ft. DJ Max <span style=\"font-weight: bold\">(</span>King Of DJs<span style=\"font-weight: bold\">)</span> - Battle Mix. \n",
              "Alaba Reports Promotions teams up with the legendary DJ Max <span style=\"font-weight: bold\">(</span>King of DJs<span style=\"font-weight: bold\">)</span> to drop a fire mixtape titled <span style=\"color: #008000; text-decoration-color: #008000\">\"Battle </span>\n",
              "<span style=\"color: #008000; text-decoration-color: #008000\">Mix\"</span> A high-energy compilation packed with the hottest hits…\n",
              "</pre>\n"
            ]
          },
          "metadata": {}
        },
        {
          "output_type": "display_data",
          "data": {
            "text/plain": [
              "\u001b[1;31mError executing tool \u001b[0m\u001b[32m'web_search'\u001b[0m\u001b[1;31m with arguments \u001b[0m\u001b[1;31m{\u001b[0m\u001b[32m\"query\"\u001b[0m\u001b[1;31m: \u001b[0m\u001b[32m\"Energetic dance songs for parties\"\u001b[0m\u001b[1;31m}\u001b[0m\u001b[1;31m: \u001b[0m\n",
              "\u001b[1;31mDuckDuckGoSearchException: \u001b[0m\u001b[4;94mhttps://html.duckduckgo.com/html\u001b[0m\u001b[1;31m \u001b[0m\u001b[1;36m202\u001b[0m\u001b[1;31m Ratelimit\u001b[0m\n",
              "\u001b[1;31mPlease try again or use another tool\u001b[0m\n"
            ],
            "text/html": [
              "<pre style=\"white-space:pre;overflow-x:auto;line-height:normal;font-family:Menlo,'DejaVu Sans Mono',consolas,'Courier New',monospace\"><span style=\"color: #800000; text-decoration-color: #800000; font-weight: bold\">Error executing tool </span><span style=\"color: #008000; text-decoration-color: #008000\">'web_search'</span><span style=\"color: #800000; text-decoration-color: #800000; font-weight: bold\"> with arguments {</span><span style=\"color: #008000; text-decoration-color: #008000\">\"query\"</span><span style=\"color: #800000; text-decoration-color: #800000; font-weight: bold\">: </span><span style=\"color: #008000; text-decoration-color: #008000\">\"Energetic dance songs for parties\"</span><span style=\"color: #800000; text-decoration-color: #800000; font-weight: bold\">}: </span>\n",
              "<span style=\"color: #800000; text-decoration-color: #800000; font-weight: bold\">DuckDuckGoSearchException: </span><span style=\"color: #0000ff; text-decoration-color: #0000ff; text-decoration: underline\">https://html.duckduckgo.com/html</span><span style=\"color: #800000; text-decoration-color: #800000; font-weight: bold\"> </span><span style=\"color: #008080; text-decoration-color: #008080; font-weight: bold\">202</span><span style=\"color: #800000; text-decoration-color: #800000; font-weight: bold\"> Ratelimit</span>\n",
              "<span style=\"color: #800000; text-decoration-color: #800000; font-weight: bold\">Please try again or use another tool</span>\n",
              "</pre>\n"
            ]
          },
          "metadata": {}
        },
        {
          "output_type": "display_data",
          "data": {
            "text/plain": [
              "\u001b[1;31mError executing tool \u001b[0m\u001b[32m'web_search'\u001b[0m\u001b[1;31m with arguments \u001b[0m\u001b[1;31m{\u001b[0m\u001b[32m\"query\"\u001b[0m\u001b[1;31m: \u001b[0m\u001b[32m\"Best party playbacks for a Batman theme\"\u001b[0m\u001b[1;31m}\u001b[0m\u001b[1;31m: \u001b[0m\n",
              "\u001b[1;31mDuckDuckGoSearchException: \u001b[0m\u001b[4;94mhttps://html.duckduckgo.com/html\u001b[0m\u001b[1;31m \u001b[0m\u001b[1;36m202\u001b[0m\u001b[1;31m Ratelimit\u001b[0m\n",
              "\u001b[1;31mPlease try again or use another tool\u001b[0m\n"
            ],
            "text/html": [
              "<pre style=\"white-space:pre;overflow-x:auto;line-height:normal;font-family:Menlo,'DejaVu Sans Mono',consolas,'Courier New',monospace\"><span style=\"color: #800000; text-decoration-color: #800000; font-weight: bold\">Error executing tool </span><span style=\"color: #008000; text-decoration-color: #008000\">'web_search'</span><span style=\"color: #800000; text-decoration-color: #800000; font-weight: bold\"> with arguments {</span><span style=\"color: #008000; text-decoration-color: #008000\">\"query\"</span><span style=\"color: #800000; text-decoration-color: #800000; font-weight: bold\">: </span><span style=\"color: #008000; text-decoration-color: #008000\">\"Best party playbacks for a Batman theme\"</span><span style=\"color: #800000; text-decoration-color: #800000; font-weight: bold\">}: </span>\n",
              "<span style=\"color: #800000; text-decoration-color: #800000; font-weight: bold\">DuckDuckGoSearchException: </span><span style=\"color: #0000ff; text-decoration-color: #0000ff; text-decoration: underline\">https://html.duckduckgo.com/html</span><span style=\"color: #800000; text-decoration-color: #800000; font-weight: bold\"> </span><span style=\"color: #008080; text-decoration-color: #008080; font-weight: bold\">202</span><span style=\"color: #800000; text-decoration-color: #800000; font-weight: bold\"> Ratelimit</span>\n",
              "<span style=\"color: #800000; text-decoration-color: #800000; font-weight: bold\">Please try again or use another tool</span>\n",
              "</pre>\n"
            ]
          },
          "metadata": {}
        },
        {
          "output_type": "display_data",
          "data": {
            "text/plain": [
              "\u001b[2m[Step 2: Duration 3.01 seconds| Input tokens: 3,175 | Output tokens: 98]\u001b[0m\n"
            ],
            "text/html": [
              "<pre style=\"white-space:pre;overflow-x:auto;line-height:normal;font-family:Menlo,'DejaVu Sans Mono',consolas,'Courier New',monospace\"><span style=\"color: #7f7f7f; text-decoration-color: #7f7f7f\">[Step 2: Duration 3.01 seconds| Input tokens: 3,175 | Output tokens: 98]</span>\n",
              "</pre>\n"
            ]
          },
          "metadata": {}
        },
        {
          "output_type": "display_data",
          "data": {
            "text/plain": [
              "\u001b[38;2;212;183;2m━━━━━━━━━━━━━━━━━━━━━━━━━━━━━━━━━━━━━━━━━━━━━━━━━━━━━ \u001b[0m\u001b[1mStep \u001b[0m\u001b[1;36m3\u001b[0m\u001b[38;2;212;183;2m ━━━━━━━━━━━━━━━━━━━━━━━━━━━━━━━━━━━━━━━━━━━━━━━━━━━━━━\u001b[0m\n"
            ],
            "text/html": [
              "<pre style=\"white-space:pre;overflow-x:auto;line-height:normal;font-family:Menlo,'DejaVu Sans Mono',consolas,'Courier New',monospace\"><span style=\"color: #d4b702; text-decoration-color: #d4b702\">━━━━━━━━━━━━━━━━━━━━━━━━━━━━━━━━━━━━━━━━━━━━━━━━━━━━━ </span><span style=\"font-weight: bold\">Step </span><span style=\"color: #008080; text-decoration-color: #008080; font-weight: bold\">3</span><span style=\"color: #d4b702; text-decoration-color: #d4b702\"> ━━━━━━━━━━━━━━━━━━━━━━━━━━━━━━━━━━━━━━━━━━━━━━━━━━━━━━</span>\n",
              "</pre>\n"
            ]
          },
          "metadata": {}
        },
        {
          "output_type": "display_data",
          "data": {
            "text/plain": [
              "╭─────────────────────────────────────────────────────────────────────────────────────────────────────────────────╮\n",
              "│ Calling tool: 'web_search' with arguments: {'query': 'Classic rock songs for parties'}                          │\n",
              "╰─────────────────────────────────────────────────────────────────────────────────────────────────────────────────╯\n"
            ],
            "text/html": [
              "<pre style=\"white-space:pre;overflow-x:auto;line-height:normal;font-family:Menlo,'DejaVu Sans Mono',consolas,'Courier New',monospace\">╭─────────────────────────────────────────────────────────────────────────────────────────────────────────────────╮\n",
              "│ Calling tool: 'web_search' with arguments: {'query': 'Classic rock songs for parties'}                          │\n",
              "╰─────────────────────────────────────────────────────────────────────────────────────────────────────────────────╯\n",
              "</pre>\n"
            ]
          },
          "metadata": {}
        },
        {
          "output_type": "display_data",
          "data": {
            "text/plain": [
              "Observations: ## Search Results\n",
              "\n",
              "|\u001b[1;36m10\u001b[0m Classic Rock Songs To Start A \n",
              "Party\u001b[1m]\u001b[0m\u001b[1m(\u001b[0m\u001b[4;94mhttps://www.classicrockhistory.com/10-classic-rock-songs-to-start-a-party/\u001b[0m\u001b[4;94m)\u001b[0m\n",
              "Our \u001b[32m\"10 Classic Rock Songs to Start a Party\"\u001b[0m article is more than just an entertaining guide to party-starting \n",
              "tunes; it's an essential resource for those looking to get the party started right from the beginning. I spent many\n",
              "years playing in party bands that performed in nightclubs, weddings, and any event that wanted live music. \u001b[33m...\u001b[0m\n",
              "\n",
              "|\u001b[1;36m10\u001b[0m Classic Rock Songs To Play At Every \n",
              "Party\u001b[1m]\u001b[0m\u001b[1m(\u001b[0m\u001b[4;94mhttps://www.classicrockhistory.com/10-classic-rock-songs-to-play-at-every-party/\u001b[0m\u001b[4;94m)\u001b[0m\n",
              "The top \u001b[1;36m10\u001b[0m classic rock songs to play at every party feature a list of songs that focus on having a good time. \n",
              "These are songs that opt to keep the troubles of the world out while inviting rockers who want to party in without \n",
              "having to worry about political and social prejudice. Usually, when people go to parties the desire is to enjoy \n",
              "good \u001b[33m...\u001b[0m\n",
              "\n",
              "|\u001b[1;36m50\u001b[0m+ Classic Rock & Roll Songs to get you Dancing - Party DJ Hire \n",
              "Melbourne\u001b[1m]\u001b[0m\u001b[1m(\u001b[0m\u001b[4;94mhttps://djhire.melbourne/blog/50-best-rock-dance-songs/\u001b[0m\u001b[4;94m)\u001b[0m\n",
              "The song's punchy, staccato riff was perfect and has continued to receive regular play on classic rock radio. \n",
              "FOOTLOOSE - Kenny Loggins . If you're having a bad day, or a crowd begins to nod off, \u001b[33m...\u001b[0m \u001b[1;36m125\u001b[0m Rockin' Dance Songs \n",
              "from the 50s & 60s and The Best 80s Rock Party Songs.\n",
              "\n",
              "|\u001b[1;36m57\u001b[0m Rock Songs That'll Get Your Guests Onto the Dance \n",
              "Floor\u001b[1m]\u001b[0m\u001b[1m(\u001b[0m\u001b[4;94mhttps://www.weddingwire.ca/wedding-ideas/30-rock-songs-thatll-get-your-guests-onto-the-dance-floor--c881\u001b[0m\u001b[4;94m)\u001b[0m\n",
              "Consider adding some good \u001b[32m'ol rock '\u001b[0mn' roll hits to the mix. The Rolling Stones, Red Hot Chili Peppers, The Clash \n",
              "and more have plenty of dance songs that'll get your guests moving and grooving \u001b[1m(\u001b[0mor tapping their feet, at the very\n",
              "least\u001b[1m)\u001b[0m.\n",
              "\n",
              "|Rock Party Music Playlist | The Best Party Rock Songs of All Time \n",
              "\u001b[33m...\u001b[0m\u001b[1m]\u001b[0m\u001b[1m(\u001b[0m\u001b[4;94mhttps://open.spotify.com/playlist/0BU3je38yvktxVvATyP9Rp\u001b[0m\u001b[4;94m)\u001b[0m\n",
              "Playlist · Rock Party Music Playlist | The Best Party Rock Songs of All Time | Rock Hits | Rock Classics · \u001b[1;36m104\u001b[0m \n",
              "items · \u001b[1;36m764\u001b[0m likes\n",
              "\n",
              "|Top \u001b[1;36m10\u001b[0m Classic Rock Party Songs - \n",
              "ClassicRockHistory.com\u001b[1m]\u001b[0m\u001b[1m(\u001b[0m\u001b[4;94mhttps://www.classicrockhistory.com/top-10-classic-rock-party-songs/\u001b[0m\u001b[4;94m)\u001b[0m\n",
              "Our Top \u001b[1;36m10\u001b[0m Classic Rock Party Songs list looks at the best Classic Rock Party Songs that bands turn to when it's \n",
              "time to get a crowd on its feet. These are the Classic Rock Party songs that wedding bands, bar bands, and concert \n",
              "bands keep in their pocket just in case a performance is not going as well as hoped. These Classic Rock Rock Party \n",
              "\u001b[33m...\u001b[0m\n",
              "\n",
              "|\u001b[1;36m35\u001b[0m Awesome Rock Dance Songs - Music Grotto\u001b[1m]\u001b[0m\u001b[1m(\u001b[0m\u001b[4;94mhttps://www.musicgrotto.com/rock-dance-songs/\u001b[0m\u001b[4;94m)\u001b[0m\n",
              "What really makes a good rock dance song is an energizing guitar riff and an uptempo pace. You Shook Me All Night \n",
              "Long is the perfect song to get your guests howling at the rafters and moving around at your next party. It's also \n",
              "one of those classic rock tracks that pretty much everyone knows, whether they're into rock or not. \u001b[1;36m2\u001b[0m.\n",
              "\n",
              "|Best Party Rock Songs of All Time - Greatest Rock Music for Dancing \n",
              "\u001b[33m...\u001b[0m\u001b[1m]\u001b[0m\u001b[1m(\u001b[0m\u001b[4;94mhttps://www.youtube.com/playlist?\u001b[0m\u001b[4;94mlist\u001b[0m\u001b[4;94m=\u001b[0m\u001b[4;94mPLYprZm_QUbGXZl54pVQRlDV3mrA_jbgRa\u001b[0m\u001b[4;94m)\u001b[0m\n",
              "Best Party Rock Songs of All Time - Greatest Rock Music for Dancing \u001b[1m(\u001b[0mTop Party Rock Anthem\u001b[1m)\u001b[0m Dive into the ultimate \n",
              "party rock mix featuring iconic artists li\u001b[33m...\u001b[0m\n",
              "\n",
              "|Classic Rock Party - YouTube\u001b[1m]\u001b[0m\u001b[1m(\u001b[0m\u001b[4;94mhttps://www.youtube.com/playlist?\u001b[0m\u001b[4;94mlist\u001b[0m\u001b[4;94m=\u001b[0m\u001b[4;94mRDCLAK5uy_klY80tDUG8t6V0eXb5ttfGqRZZb8c5JZg\u001b[0m\u001b[4;94m)\u001b[0m\n",
              "Turn it up to \u001b[1;36m11\u001b[0m and give your party that extra push with this scrappy mix of classic rock from the \u001b[32m'60s, '\u001b[0m70s, \n",
              "\u001b[32m'80s, and beyond. #rock #essentials #party ... '\u001b[0m80s, and beyond. #rock #essentials # \u001b[33m...\u001b[0m\n",
              "\n",
              "|Top \u001b[1;36m100\u001b[0m Classic Rock Songs\u001b[1m]\u001b[0m\u001b[1m(\u001b[0m\u001b[4;94mhttps://ultimateclassicrock.com/top-100-classic-rock-songs/\u001b[0m\u001b[4;94m)\u001b[0m\n",
              "A list of the \u001b[1;36m100\u001b[0m best classic rock songs, but each legendary band only gets one selection. \u001b[33m...\u001b[0m The tune's \u001b[32m\"I wanna\u001b[0m\n",
              "\u001b[32mrock and roll all nite / And party every day\"\u001b[0m chorus became not just an anthem \u001b[33m...\u001b[0m\n"
            ],
            "text/html": [
              "<pre style=\"white-space:pre;overflow-x:auto;line-height:normal;font-family:Menlo,'DejaVu Sans Mono',consolas,'Courier New',monospace\">Observations: ## Search Results\n",
              "\n",
              "|<span style=\"color: #008080; text-decoration-color: #008080; font-weight: bold\">10</span> Classic Rock Songs To Start A \n",
              "Party<span style=\"font-weight: bold\">](</span><span style=\"color: #0000ff; text-decoration-color: #0000ff; text-decoration: underline\">https://www.classicrockhistory.com/10-classic-rock-songs-to-start-a-party/)</span>\n",
              "Our <span style=\"color: #008000; text-decoration-color: #008000\">\"10 Classic Rock Songs to Start a Party\"</span> article is more than just an entertaining guide to party-starting \n",
              "tunes; it's an essential resource for those looking to get the party started right from the beginning. I spent many\n",
              "years playing in party bands that performed in nightclubs, weddings, and any event that wanted live music. <span style=\"color: #808000; text-decoration-color: #808000\">...</span>\n",
              "\n",
              "|<span style=\"color: #008080; text-decoration-color: #008080; font-weight: bold\">10</span> Classic Rock Songs To Play At Every \n",
              "Party<span style=\"font-weight: bold\">](</span><span style=\"color: #0000ff; text-decoration-color: #0000ff; text-decoration: underline\">https://www.classicrockhistory.com/10-classic-rock-songs-to-play-at-every-party/)</span>\n",
              "The top <span style=\"color: #008080; text-decoration-color: #008080; font-weight: bold\">10</span> classic rock songs to play at every party feature a list of songs that focus on having a good time. \n",
              "These are songs that opt to keep the troubles of the world out while inviting rockers who want to party in without \n",
              "having to worry about political and social prejudice. Usually, when people go to parties the desire is to enjoy \n",
              "good <span style=\"color: #808000; text-decoration-color: #808000\">...</span>\n",
              "\n",
              "|<span style=\"color: #008080; text-decoration-color: #008080; font-weight: bold\">50</span>+ Classic Rock &amp; Roll Songs to get you Dancing - Party DJ Hire \n",
              "Melbourne<span style=\"font-weight: bold\">](</span><span style=\"color: #0000ff; text-decoration-color: #0000ff; text-decoration: underline\">https://djhire.melbourne/blog/50-best-rock-dance-songs/)</span>\n",
              "The song's punchy, staccato riff was perfect and has continued to receive regular play on classic rock radio. \n",
              "FOOTLOOSE - Kenny Loggins . If you're having a bad day, or a crowd begins to nod off, <span style=\"color: #808000; text-decoration-color: #808000\">...</span> <span style=\"color: #008080; text-decoration-color: #008080; font-weight: bold\">125</span> Rockin' Dance Songs \n",
              "from the 50s &amp; 60s and The Best 80s Rock Party Songs.\n",
              "\n",
              "|<span style=\"color: #008080; text-decoration-color: #008080; font-weight: bold\">57</span> Rock Songs That'll Get Your Guests Onto the Dance \n",
              "Floor<span style=\"font-weight: bold\">](</span><span style=\"color: #0000ff; text-decoration-color: #0000ff; text-decoration: underline\">https://www.weddingwire.ca/wedding-ideas/30-rock-songs-thatll-get-your-guests-onto-the-dance-floor--c881)</span>\n",
              "Consider adding some good <span style=\"color: #008000; text-decoration-color: #008000\">'ol rock '</span>n' roll hits to the mix. The Rolling Stones, Red Hot Chili Peppers, The Clash \n",
              "and more have plenty of dance songs that'll get your guests moving and grooving <span style=\"font-weight: bold\">(</span>or tapping their feet, at the very\n",
              "least<span style=\"font-weight: bold\">)</span>.\n",
              "\n",
              "|Rock Party Music Playlist | The Best Party Rock Songs of All Time \n",
              "<span style=\"color: #808000; text-decoration-color: #808000\">...</span><span style=\"font-weight: bold\">](</span><span style=\"color: #0000ff; text-decoration-color: #0000ff; text-decoration: underline\">https://open.spotify.com/playlist/0BU3je38yvktxVvATyP9Rp)</span>\n",
              "Playlist · Rock Party Music Playlist | The Best Party Rock Songs of All Time | Rock Hits | Rock Classics · <span style=\"color: #008080; text-decoration-color: #008080; font-weight: bold\">104</span> \n",
              "items · <span style=\"color: #008080; text-decoration-color: #008080; font-weight: bold\">764</span> likes\n",
              "\n",
              "|Top <span style=\"color: #008080; text-decoration-color: #008080; font-weight: bold\">10</span> Classic Rock Party Songs - \n",
              "ClassicRockHistory.com<span style=\"font-weight: bold\">](</span><span style=\"color: #0000ff; text-decoration-color: #0000ff; text-decoration: underline\">https://www.classicrockhistory.com/top-10-classic-rock-party-songs/)</span>\n",
              "Our Top <span style=\"color: #008080; text-decoration-color: #008080; font-weight: bold\">10</span> Classic Rock Party Songs list looks at the best Classic Rock Party Songs that bands turn to when it's \n",
              "time to get a crowd on its feet. These are the Classic Rock Party songs that wedding bands, bar bands, and concert \n",
              "bands keep in their pocket just in case a performance is not going as well as hoped. These Classic Rock Rock Party \n",
              "<span style=\"color: #808000; text-decoration-color: #808000\">...</span>\n",
              "\n",
              "|<span style=\"color: #008080; text-decoration-color: #008080; font-weight: bold\">35</span> Awesome Rock Dance Songs - Music Grotto<span style=\"font-weight: bold\">](</span><span style=\"color: #0000ff; text-decoration-color: #0000ff; text-decoration: underline\">https://www.musicgrotto.com/rock-dance-songs/)</span>\n",
              "What really makes a good rock dance song is an energizing guitar riff and an uptempo pace. You Shook Me All Night \n",
              "Long is the perfect song to get your guests howling at the rafters and moving around at your next party. It's also \n",
              "one of those classic rock tracks that pretty much everyone knows, whether they're into rock or not. <span style=\"color: #008080; text-decoration-color: #008080; font-weight: bold\">2</span>.\n",
              "\n",
              "|Best Party Rock Songs of All Time - Greatest Rock Music for Dancing \n",
              "<span style=\"color: #808000; text-decoration-color: #808000\">...</span><span style=\"font-weight: bold\">](</span><span style=\"color: #0000ff; text-decoration-color: #0000ff; text-decoration: underline\">https://www.youtube.com/playlist?list=PLYprZm_QUbGXZl54pVQRlDV3mrA_jbgRa)</span>\n",
              "Best Party Rock Songs of All Time - Greatest Rock Music for Dancing <span style=\"font-weight: bold\">(</span>Top Party Rock Anthem<span style=\"font-weight: bold\">)</span> Dive into the ultimate \n",
              "party rock mix featuring iconic artists li<span style=\"color: #808000; text-decoration-color: #808000\">...</span>\n",
              "\n",
              "|Classic Rock Party - YouTube<span style=\"font-weight: bold\">](</span><span style=\"color: #0000ff; text-decoration-color: #0000ff; text-decoration: underline\">https://www.youtube.com/playlist?list=RDCLAK5uy_klY80tDUG8t6V0eXb5ttfGqRZZb8c5JZg)</span>\n",
              "Turn it up to <span style=\"color: #008080; text-decoration-color: #008080; font-weight: bold\">11</span> and give your party that extra push with this scrappy mix of classic rock from the <span style=\"color: #008000; text-decoration-color: #008000\">'60s, '</span>70s, \n",
              "<span style=\"color: #008000; text-decoration-color: #008000\">'80s, and beyond. #rock #essentials #party ... '</span>80s, and beyond. #rock #essentials # <span style=\"color: #808000; text-decoration-color: #808000\">...</span>\n",
              "\n",
              "|Top <span style=\"color: #008080; text-decoration-color: #008080; font-weight: bold\">100</span> Classic Rock Songs<span style=\"font-weight: bold\">](</span><span style=\"color: #0000ff; text-decoration-color: #0000ff; text-decoration: underline\">https://ultimateclassicrock.com/top-100-classic-rock-songs/)</span>\n",
              "A list of the <span style=\"color: #008080; text-decoration-color: #008080; font-weight: bold\">100</span> best classic rock songs, but each legendary band only gets one selection. <span style=\"color: #808000; text-decoration-color: #808000\">...</span> The tune's <span style=\"color: #008000; text-decoration-color: #008000\">\"I wanna</span>\n",
              "<span style=\"color: #008000; text-decoration-color: #008000\">rock and roll all nite / And party every day\"</span> chorus became not just an anthem <span style=\"color: #808000; text-decoration-color: #808000\">...</span>\n",
              "</pre>\n"
            ]
          },
          "metadata": {}
        },
        {
          "output_type": "display_data",
          "data": {
            "text/plain": [
              "\u001b[2m[Step 3: Duration 2.87 seconds| Input tokens: 5,305 | Output tokens: 121]\u001b[0m\n"
            ],
            "text/html": [
              "<pre style=\"white-space:pre;overflow-x:auto;line-height:normal;font-family:Menlo,'DejaVu Sans Mono',consolas,'Courier New',monospace\"><span style=\"color: #7f7f7f; text-decoration-color: #7f7f7f\">[Step 3: Duration 2.87 seconds| Input tokens: 5,305 | Output tokens: 121]</span>\n",
              "</pre>\n"
            ]
          },
          "metadata": {}
        },
        {
          "output_type": "display_data",
          "data": {
            "text/plain": [
              "\u001b[38;2;212;183;2m━━━━━━━━━━━━━━━━━━━━━━━━━━━━━━━━━━━━━━━━━━━━━━━━━━━━━ \u001b[0m\u001b[1mStep \u001b[0m\u001b[1;36m4\u001b[0m\u001b[38;2;212;183;2m ━━━━━━━━━━━━━━━━━━━━━━━━━━━━━━━━━━━━━━━━━━━━━━━━━━━━━━\u001b[0m\n"
            ],
            "text/html": [
              "<pre style=\"white-space:pre;overflow-x:auto;line-height:normal;font-family:Menlo,'DejaVu Sans Mono',consolas,'Courier New',monospace\"><span style=\"color: #d4b702; text-decoration-color: #d4b702\">━━━━━━━━━━━━━━━━━━━━━━━━━━━━━━━━━━━━━━━━━━━━━━━━━━━━━ </span><span style=\"font-weight: bold\">Step </span><span style=\"color: #008080; text-decoration-color: #008080; font-weight: bold\">4</span><span style=\"color: #d4b702; text-decoration-color: #d4b702\"> ━━━━━━━━━━━━━━━━━━━━━━━━━━━━━━━━━━━━━━━━━━━━━━━━━━━━━━</span>\n",
              "</pre>\n"
            ]
          },
          "metadata": {}
        },
        {
          "output_type": "display_data",
          "data": {
            "text/plain": [
              "╭─────────────────────────────────────────────────────────────────────────────────────────────────────────────────╮\n",
              "│ Calling tool: 'web_search' with arguments: {'query': 'Pop Hits for Parties'}                                    │\n",
              "╰─────────────────────────────────────────────────────────────────────────────────────────────────────────────────╯\n"
            ],
            "text/html": [
              "<pre style=\"white-space:pre;overflow-x:auto;line-height:normal;font-family:Menlo,'DejaVu Sans Mono',consolas,'Courier New',monospace\">╭─────────────────────────────────────────────────────────────────────────────────────────────────────────────────╮\n",
              "│ Calling tool: 'web_search' with arguments: {'query': 'Pop Hits for Parties'}                                    │\n",
              "╰─────────────────────────────────────────────────────────────────────────────────────────────────────────────────╯\n",
              "</pre>\n"
            ]
          },
          "metadata": {}
        },
        {
          "output_type": "display_data",
          "data": {
            "text/plain": [
              "╭─────────────────────────────────────────────────────────────────────────────────────────────────────────────────╮\n",
              "│ Calling tool: 'web_search' with arguments: {'query': 'Dance Music Recommendations for Parties'}                 │\n",
              "╰─────────────────────────────────────────────────────────────────────────────────────────────────────────────────╯\n"
            ],
            "text/html": [
              "<pre style=\"white-space:pre;overflow-x:auto;line-height:normal;font-family:Menlo,'DejaVu Sans Mono',consolas,'Courier New',monospace\">╭─────────────────────────────────────────────────────────────────────────────────────────────────────────────────╮\n",
              "│ Calling tool: 'web_search' with arguments: {'query': 'Dance Music Recommendations for Parties'}                 │\n",
              "╰─────────────────────────────────────────────────────────────────────────────────────────────────────────────────╯\n",
              "</pre>\n"
            ]
          },
          "metadata": {}
        },
        {
          "output_type": "display_data",
          "data": {
            "text/plain": [
              "Observations: ## Search Results\n",
              "\n",
              "|The \u001b[1;36m75\u001b[0m Best Party Songs That Will Get Everyone Dancing - \n",
              "Gear4music\u001b[1m]\u001b[0m\u001b[1m(\u001b[0m\u001b[4;94mhttps://www.gear4music.com/blog/best-party-songs/\u001b[0m\u001b[4;94m)\u001b[0m\n",
              "So, to keep things simple, we've compiled the best party songs of all time, from timeless classics to contemporary \n",
              "hits, giving you a diverse, \u001b[33m...\u001b[0m this song features vibrant synths and Lauper's iconic voice, making it a \n",
              "celebratory staple in pop culture and one of the best party songs. \u001b[1;36m12\u001b[0m. \u001b[32m\"As It Was\"\u001b[0m - Harry Styles \u001b[1m(\u001b[0m\u001b[1;36m2022\u001b[0m\u001b[1m)\u001b[0m \u001b[33m...\u001b[0m\n",
              "\n",
              "|Best Songs To Party: DJ's Ultimate Party Songs Playlist - \n",
              "Top40Weekly.com\u001b[1m]\u001b[0m\u001b[1m(\u001b[0m\u001b[4;94mhttps://top40weekly.com/best-songs-to-party/\u001b[0m\u001b[4;94m)\u001b[0m\n",
              "We've compiled the best songs to party that are sure to get everyone in the mood to dance and have a good time. \n",
              "Skip to content. Search for: \u001b[1;36m1950\u001b[0m. Top Songs from \u001b[1;36m1955\u001b[0m; Top Songs of \u001b[1;36m1956\u001b[0m; Top Songs of \u001b[1;36m1957\u001b[0m; Top Songs of \u001b[1;36m1958\u001b[0m; \n",
              "Top Songs of \u001b[1;36m1959\u001b[0m; \u001b[33m...\u001b[0m Technotronic's \u001b[32m\"Pump Up the Jam\"\u001b[0m has remained a popular party starter since its release in \n",
              "\u001b[33m...\u001b[0m\n",
              "\n",
              "|\u001b[1;36m100\u001b[0m Best Party Songs: The Ultimate Party Playlist\u001b[1m]\u001b[0m\u001b[1m(\u001b[0m\u001b[4;94mhttps://audiocaptain.com/best-party-songs/\u001b[0m\u001b[4;94m)\u001b[0m\n",
              "Best Party Songs: The Ultimate Party Playlist. Here's the \u001b[1;36m100\u001b[0m best party songs of all time you can use to create \n",
              "your ultimate party playlist in \u001b[1;36m2025\u001b[0m. \u001b[33m...\u001b[0m Dance-pop songs dominated the US market while hip-hop garnered fans in a \n",
              "strong underground movement.\n",
              "\n",
              "|The Top \u001b[1;36m100\u001b[0m Best Party Songs of All Time - \n",
              "LiveAbout\u001b[1m]\u001b[0m\u001b[1m(\u001b[0m\u001b[4;94mhttps://www.liveabout.com/top-best-party-songs-of-all-time-3248355\u001b[0m\u001b[4;94m)\u001b[0m\n",
              "Here's a list of the top \u001b[1;36m100\u001b[0m party songs of all time. These are the starting point for creating a soundtrack to the\n",
              "best events. \u001b[33m...\u001b[0m Unlike some of the other pop hits from the film, \u001b[32m\"Greased Lightnin'\"\u001b[0m did originate with the \n",
              "Broadway musical version of \u001b[32m\"Grease.\"\u001b[0m \u001b[1;36m82\u001b[0m. of \u001b[1;36m100\u001b[0m. Wild Cherry: \u001b[32m'Play That Funky Music'\u001b[0m \u001b[1m(\u001b[0m\u001b[1;36m1976\u001b[0m\u001b[1m)\u001b[0m\n",
              "\n",
              "|\u001b[1;36m40\u001b[0m Best Party Songs | Songs To Dance To, Ranked By Our Editors - Time \n",
              "Out\u001b[1m]\u001b[0m\u001b[1m(\u001b[0m\u001b[4;94mhttps://www.timeout.com/music/best-party-songs\u001b[0m\u001b[4;94m)\u001b[0m\n",
              "From Britney Spears to Diana Ross, Charli XCX to Peggy Gou, here are the best party songs ever written. Time to don\n",
              "your dancing shoes. \u001b[33m...\u001b[0m 🎶 The best '80s songs 🎊 The best pop songs.\n",
              "\n",
              "|Best Party Songs That Always Get People Dancing \u001b[1;36m2025\u001b[0m\u001b[1m]\u001b[0m\u001b[1m(\u001b[0m\u001b[4;94mhttps://yourmusicdepot.com/party-songs/\u001b[0m\u001b[4;94m)\u001b[0m\n",
              "Popular party songs often have a fast tempo and catchy lyrics. Party songs often have a \u001b[32m\"call and response\"\u001b[0m \n",
              "structure, where the singer or rapper will call out a phrase and the crowd will respond. Party songs can be used to\n",
              "get people on the dance floor and create a fun atmosphere.\n",
              "\n",
              "|Top \u001b[1;36m200\u001b[0m Most Requested Songs - DJ Event Planner\u001b[1m]\u001b[0m\u001b[1m(\u001b[0m\u001b[4;94mhttps://djeventplanner.com/mostrequested.htm\u001b[0m\u001b[4;94m)\u001b[0m\n",
              "Icona Pop: I Love It: \u001b[1;36m179\u001b[0m: R. Kelly: Ignition \u001b[1m(\u001b[0mRemix\u001b[1m)\u001b[0m \u001b[1;36m180\u001b[0m: Diddy feat. Keyshia Cole: Last Night: \u001b[1;36m181\u001b[0m: Drake: One \n",
              "Dance: \u001b[1;36m182\u001b[0m: Carly Rae Jepsen: Call Me Maybe: \u001b[1;36m183\u001b[0m: Wheatus: Teenage Dirtbag: \u001b[1;36m184\u001b[0m: \u001b[33m...\u001b[0m Top \u001b[1;36m30\u001b[0m Most Requested Songs \n",
              "For Wedding Party Dance. This list is compiled based on over \u001b[1;36m2\u001b[0m million song requests made using the DJ Event \n",
              "Planner \u001b[33m...\u001b[0m\n",
              "\n",
              "|The \u001b[1;36m50\u001b[0m Best Music Playlists for Parties |\u001b[1;36m2025\u001b[0m\u001b[1m]\u001b[0m - Playlist \n",
              "Names\u001b[1m]\u001b[0m\u001b[1m(\u001b[0m\u001b[4;94mhttps://www.playlistnames.org/best-music-playlists-for-parties/\u001b[0m\u001b[4;94m)\u001b[0m\n",
              "Slow Songs \u001b[1m(\u001b[0m\u001b[1;36m60\u001b[0m-\u001b[1;36m90\u001b[0m BPM\u001b[1m)\u001b[0m: Great for chill moments or when guests are arriving. Moderate Songs \u001b[1m(\u001b[0m\u001b[1;36m90\u001b[0m-\u001b[1;36m120\u001b[0m BPM\u001b[1m)\u001b[0m: Perfect \n",
              "for conversations and mingling. Fast Songs \u001b[1m(\u001b[0m\u001b[1;36m120\u001b[0m-\u001b[1;36m140\u001b[0m BPM\u001b[1m)\u001b[0m: Ideal for dancing and getting everyone hyped! Key \n",
              "Takeaway. The right beats can elevate the mood and keep the party alive! Party Playlist Essentials: Must-Have Songs\n",
              "and Artists\n",
              "\n",
              "|The \u001b[1;36m101\u001b[0m Best Party Songs Of All Time - Music Grotto\u001b[1m]\u001b[0m\u001b[1m(\u001b[0m\u001b[4;94mhttps://www.musicgrotto.com/best-party-songs/\u001b[0m\u001b[4;94m)\u001b[0m\n",
              "A pop hit straight out of the early 2000s that still holds its own, the song has an earworm of a hook sang by \n",
              "Beyoncé and a verse from the legendary rapper who was her collaborator \u001b[1m(\u001b[0mand future husband\u001b[1m)\u001b[0m as of \u001b[1;36m2003\u001b[0m, Jay-Z. The \n",
              "\u001b[1;36m2003\u001b[0m party banger was released as the A-side of a single with \u001b[32m\"Summertime\"\u001b[0m as the B-side.\n",
              "\n",
              "|\u001b[1;36m516\u001b[0m Best Party Songs of All Time |\u001b[1;36m2024\u001b[0m Ultimate Playlist\u001b[1m]\u001b[0m - Cueup Blog\u001b[1m]\u001b[0m\u001b[1m(\u001b[0m\u001b[4;94mhttps://cueup.io/blog/best-party-songs\u001b[0m\u001b[4;94m)\u001b[0m\n",
              "We've curated the ultimate playlist for your party with everything from timeless classics to the newest pop hits \n",
              "that'll make your guests wonder where their voices went by the end of the night. Cueup is an online platform \n",
              "connecting DJs and event organizers - the easiest way for you to book a great DJ for your event.\n"
            ],
            "text/html": [
              "<pre style=\"white-space:pre;overflow-x:auto;line-height:normal;font-family:Menlo,'DejaVu Sans Mono',consolas,'Courier New',monospace\">Observations: ## Search Results\n",
              "\n",
              "|The <span style=\"color: #008080; text-decoration-color: #008080; font-weight: bold\">75</span> Best Party Songs That Will Get Everyone Dancing - \n",
              "Gear4music<span style=\"font-weight: bold\">](</span><span style=\"color: #0000ff; text-decoration-color: #0000ff; text-decoration: underline\">https://www.gear4music.com/blog/best-party-songs/)</span>\n",
              "So, to keep things simple, we've compiled the best party songs of all time, from timeless classics to contemporary \n",
              "hits, giving you a diverse, <span style=\"color: #808000; text-decoration-color: #808000\">...</span> this song features vibrant synths and Lauper's iconic voice, making it a \n",
              "celebratory staple in pop culture and one of the best party songs. <span style=\"color: #008080; text-decoration-color: #008080; font-weight: bold\">12</span>. <span style=\"color: #008000; text-decoration-color: #008000\">\"As It Was\"</span> - Harry Styles <span style=\"font-weight: bold\">(</span><span style=\"color: #008080; text-decoration-color: #008080; font-weight: bold\">2022</span><span style=\"font-weight: bold\">)</span> <span style=\"color: #808000; text-decoration-color: #808000\">...</span>\n",
              "\n",
              "|Best Songs To Party: DJ's Ultimate Party Songs Playlist - \n",
              "Top40Weekly.com<span style=\"font-weight: bold\">](</span><span style=\"color: #0000ff; text-decoration-color: #0000ff; text-decoration: underline\">https://top40weekly.com/best-songs-to-party/)</span>\n",
              "We've compiled the best songs to party that are sure to get everyone in the mood to dance and have a good time. \n",
              "Skip to content. Search for: <span style=\"color: #008080; text-decoration-color: #008080; font-weight: bold\">1950</span>. Top Songs from <span style=\"color: #008080; text-decoration-color: #008080; font-weight: bold\">1955</span>; Top Songs of <span style=\"color: #008080; text-decoration-color: #008080; font-weight: bold\">1956</span>; Top Songs of <span style=\"color: #008080; text-decoration-color: #008080; font-weight: bold\">1957</span>; Top Songs of <span style=\"color: #008080; text-decoration-color: #008080; font-weight: bold\">1958</span>; \n",
              "Top Songs of <span style=\"color: #008080; text-decoration-color: #008080; font-weight: bold\">1959</span>; <span style=\"color: #808000; text-decoration-color: #808000\">...</span> Technotronic's <span style=\"color: #008000; text-decoration-color: #008000\">\"Pump Up the Jam\"</span> has remained a popular party starter since its release in \n",
              "<span style=\"color: #808000; text-decoration-color: #808000\">...</span>\n",
              "\n",
              "|<span style=\"color: #008080; text-decoration-color: #008080; font-weight: bold\">100</span> Best Party Songs: The Ultimate Party Playlist<span style=\"font-weight: bold\">](</span><span style=\"color: #0000ff; text-decoration-color: #0000ff; text-decoration: underline\">https://audiocaptain.com/best-party-songs/)</span>\n",
              "Best Party Songs: The Ultimate Party Playlist. Here's the <span style=\"color: #008080; text-decoration-color: #008080; font-weight: bold\">100</span> best party songs of all time you can use to create \n",
              "your ultimate party playlist in <span style=\"color: #008080; text-decoration-color: #008080; font-weight: bold\">2025</span>. <span style=\"color: #808000; text-decoration-color: #808000\">...</span> Dance-pop songs dominated the US market while hip-hop garnered fans in a \n",
              "strong underground movement.\n",
              "\n",
              "|The Top <span style=\"color: #008080; text-decoration-color: #008080; font-weight: bold\">100</span> Best Party Songs of All Time - \n",
              "LiveAbout<span style=\"font-weight: bold\">](</span><span style=\"color: #0000ff; text-decoration-color: #0000ff; text-decoration: underline\">https://www.liveabout.com/top-best-party-songs-of-all-time-3248355)</span>\n",
              "Here's a list of the top <span style=\"color: #008080; text-decoration-color: #008080; font-weight: bold\">100</span> party songs of all time. These are the starting point for creating a soundtrack to the\n",
              "best events. <span style=\"color: #808000; text-decoration-color: #808000\">...</span> Unlike some of the other pop hits from the film, <span style=\"color: #008000; text-decoration-color: #008000\">\"Greased Lightnin'\"</span> did originate with the \n",
              "Broadway musical version of <span style=\"color: #008000; text-decoration-color: #008000\">\"Grease.\"</span> <span style=\"color: #008080; text-decoration-color: #008080; font-weight: bold\">82</span>. of <span style=\"color: #008080; text-decoration-color: #008080; font-weight: bold\">100</span>. Wild Cherry: <span style=\"color: #008000; text-decoration-color: #008000\">'Play That Funky Music'</span> <span style=\"font-weight: bold\">(</span><span style=\"color: #008080; text-decoration-color: #008080; font-weight: bold\">1976</span><span style=\"font-weight: bold\">)</span>\n",
              "\n",
              "|<span style=\"color: #008080; text-decoration-color: #008080; font-weight: bold\">40</span> Best Party Songs | Songs To Dance To, Ranked By Our Editors - Time \n",
              "Out<span style=\"font-weight: bold\">](</span><span style=\"color: #0000ff; text-decoration-color: #0000ff; text-decoration: underline\">https://www.timeout.com/music/best-party-songs)</span>\n",
              "From Britney Spears to Diana Ross, Charli XCX to Peggy Gou, here are the best party songs ever written. Time to don\n",
              "your dancing shoes. <span style=\"color: #808000; text-decoration-color: #808000\">...</span> 🎶 The best '80s songs 🎊 The best pop songs.\n",
              "\n",
              "|Best Party Songs That Always Get People Dancing <span style=\"color: #008080; text-decoration-color: #008080; font-weight: bold\">2025</span><span style=\"font-weight: bold\">](</span><span style=\"color: #0000ff; text-decoration-color: #0000ff; text-decoration: underline\">https://yourmusicdepot.com/party-songs/)</span>\n",
              "Popular party songs often have a fast tempo and catchy lyrics. Party songs often have a <span style=\"color: #008000; text-decoration-color: #008000\">\"call and response\"</span> \n",
              "structure, where the singer or rapper will call out a phrase and the crowd will respond. Party songs can be used to\n",
              "get people on the dance floor and create a fun atmosphere.\n",
              "\n",
              "|Top <span style=\"color: #008080; text-decoration-color: #008080; font-weight: bold\">200</span> Most Requested Songs - DJ Event Planner<span style=\"font-weight: bold\">](</span><span style=\"color: #0000ff; text-decoration-color: #0000ff; text-decoration: underline\">https://djeventplanner.com/mostrequested.htm)</span>\n",
              "Icona Pop: I Love It: <span style=\"color: #008080; text-decoration-color: #008080; font-weight: bold\">179</span>: R. Kelly: Ignition <span style=\"font-weight: bold\">(</span>Remix<span style=\"font-weight: bold\">)</span> <span style=\"color: #008080; text-decoration-color: #008080; font-weight: bold\">180</span>: Diddy feat. Keyshia Cole: Last Night: <span style=\"color: #008080; text-decoration-color: #008080; font-weight: bold\">181</span>: Drake: One \n",
              "Dance: <span style=\"color: #008080; text-decoration-color: #008080; font-weight: bold\">182</span>: Carly Rae Jepsen: Call Me Maybe: <span style=\"color: #008080; text-decoration-color: #008080; font-weight: bold\">183</span>: Wheatus: Teenage Dirtbag: <span style=\"color: #008080; text-decoration-color: #008080; font-weight: bold\">184</span>: <span style=\"color: #808000; text-decoration-color: #808000\">...</span> Top <span style=\"color: #008080; text-decoration-color: #008080; font-weight: bold\">30</span> Most Requested Songs \n",
              "For Wedding Party Dance. This list is compiled based on over <span style=\"color: #008080; text-decoration-color: #008080; font-weight: bold\">2</span> million song requests made using the DJ Event \n",
              "Planner <span style=\"color: #808000; text-decoration-color: #808000\">...</span>\n",
              "\n",
              "|The <span style=\"color: #008080; text-decoration-color: #008080; font-weight: bold\">50</span> Best Music Playlists for Parties |<span style=\"color: #008080; text-decoration-color: #008080; font-weight: bold\">2025</span><span style=\"font-weight: bold\">]</span> - Playlist \n",
              "Names<span style=\"font-weight: bold\">](</span><span style=\"color: #0000ff; text-decoration-color: #0000ff; text-decoration: underline\">https://www.playlistnames.org/best-music-playlists-for-parties/)</span>\n",
              "Slow Songs <span style=\"font-weight: bold\">(</span><span style=\"color: #008080; text-decoration-color: #008080; font-weight: bold\">60</span>-<span style=\"color: #008080; text-decoration-color: #008080; font-weight: bold\">90</span> BPM<span style=\"font-weight: bold\">)</span>: Great for chill moments or when guests are arriving. Moderate Songs <span style=\"font-weight: bold\">(</span><span style=\"color: #008080; text-decoration-color: #008080; font-weight: bold\">90</span>-<span style=\"color: #008080; text-decoration-color: #008080; font-weight: bold\">120</span> BPM<span style=\"font-weight: bold\">)</span>: Perfect \n",
              "for conversations and mingling. Fast Songs <span style=\"font-weight: bold\">(</span><span style=\"color: #008080; text-decoration-color: #008080; font-weight: bold\">120</span>-<span style=\"color: #008080; text-decoration-color: #008080; font-weight: bold\">140</span> BPM<span style=\"font-weight: bold\">)</span>: Ideal for dancing and getting everyone hyped! Key \n",
              "Takeaway. The right beats can elevate the mood and keep the party alive! Party Playlist Essentials: Must-Have Songs\n",
              "and Artists\n",
              "\n",
              "|The <span style=\"color: #008080; text-decoration-color: #008080; font-weight: bold\">101</span> Best Party Songs Of All Time - Music Grotto<span style=\"font-weight: bold\">](</span><span style=\"color: #0000ff; text-decoration-color: #0000ff; text-decoration: underline\">https://www.musicgrotto.com/best-party-songs/)</span>\n",
              "A pop hit straight out of the early 2000s that still holds its own, the song has an earworm of a hook sang by \n",
              "Beyoncé and a verse from the legendary rapper who was her collaborator <span style=\"font-weight: bold\">(</span>and future husband<span style=\"font-weight: bold\">)</span> as of <span style=\"color: #008080; text-decoration-color: #008080; font-weight: bold\">2003</span>, Jay-Z. The \n",
              "<span style=\"color: #008080; text-decoration-color: #008080; font-weight: bold\">2003</span> party banger was released as the A-side of a single with <span style=\"color: #008000; text-decoration-color: #008000\">\"Summertime\"</span> as the B-side.\n",
              "\n",
              "|<span style=\"color: #008080; text-decoration-color: #008080; font-weight: bold\">516</span> Best Party Songs of All Time |<span style=\"color: #008080; text-decoration-color: #008080; font-weight: bold\">2024</span> Ultimate Playlist<span style=\"font-weight: bold\">]</span> - Cueup Blog<span style=\"font-weight: bold\">](</span><span style=\"color: #0000ff; text-decoration-color: #0000ff; text-decoration: underline\">https://cueup.io/blog/best-party-songs)</span>\n",
              "We've curated the ultimate playlist for your party with everything from timeless classics to the newest pop hits \n",
              "that'll make your guests wonder where their voices went by the end of the night. Cueup is an online platform \n",
              "connecting DJs and event organizers - the easiest way for you to book a great DJ for your event.\n",
              "</pre>\n"
            ]
          },
          "metadata": {}
        },
        {
          "output_type": "display_data",
          "data": {
            "text/plain": [
              "Observations: ## Search Results\n",
              "\n",
              "|The \u001b[1;36m75\u001b[0m Best Party Songs That Will Get Everyone Dancing - \n",
              "Gear4music\u001b[1m]\u001b[0m\u001b[1m(\u001b[0m\u001b[4;94mhttps://www.gear4music.com/blog/best-party-songs/\u001b[0m\u001b[4;94m)\u001b[0m\n",
              "Lighting can dramatically transform the atmosphere of your party. Consider incorporating various lighting solutions\n",
              "like light bars and LED par cans to enhance the mood. A classic mirror ball can add a touch of retro glamour, \n",
              "creating dazzling light patterns that dance along with the music.\n",
              "\n",
              "|\u001b[1;36m40\u001b[0m Best Party Songs | Songs To Dance To, Ranked By Our Editors - Time \n",
              "Out\u001b[1m]\u001b[0m\u001b[1m(\u001b[0m\u001b[4;94mhttps://www.timeout.com/music/best-party-songs\u001b[0m\u001b[4;94m)\u001b[0m\n",
              "Release date: \u001b[1;36m2017\u001b[0m. A modern classic house track from the effortlessly cool DJ-producer Yaeji, \u001b[32m'Raingurl'\u001b[0m is \n",
              "effectively a loop of infectiously catchy chanting - 'Make it rain girl, make \u001b[33m...\u001b[0m\n",
              "\n",
              "|\u001b[1;36m45\u001b[0m Songs That Get Your Event Guests on the Dance Floor Every \n",
              "Time\u001b[1m]\u001b[0m\u001b[1m(\u001b[0m\u001b[4;94mhttps://hub.theeventplannerexpo.com/entertainment/35-songs-that-get-your-event-guests-on-the-dance-floor-ever\u001b[0m\n",
              "\u001b[4;94my-time\u001b[0m\u001b[4;94m)\u001b[0m\n",
              "You'll know your client's event best, including music genre preferences and styles. But these songs are wildly \n",
              "popular among many generations and are always great to have on standby should your dance guests need a boost. Party\n",
              "Songs \u001b[32m\"Flowers\"\u001b[0m by Miley Cyrus \u001b[1m(\u001b[0m\u001b[1;36m2023\u001b[0m\u001b[1m)\u001b[0m \u001b[32m\"TQG\"\u001b[0m by KAROL G & Shakira \u001b[1m(\u001b[0m\u001b[1;36m2023\u001b[0m\u001b[1m)\u001b[0m \u001b[32m\"TRUSTFALL\"\u001b[0m by P!nk \u001b[1m(\u001b[0m\u001b[1;36m2023\u001b[0m\u001b[1m)\u001b[0m\n",
              "\n",
              "|Best Songs To Party: DJ's Ultimate Party Songs Playlist - \n",
              "Top40Weekly.com\u001b[1m]\u001b[0m\u001b[1m(\u001b[0m\u001b[4;94mhttps://top40weekly.com/best-songs-to-party/\u001b[0m\u001b[4;94m)\u001b[0m\n",
              "Lady Gaga's \u001b[32m\"Just Dance\"\u001b[0m is a hit that remains a go-to choice for worldwide party playlists. This dance-pop track, \n",
              "released in \u001b[1;36m2008\u001b[0m, features pulsating beats and high-energy vocals that instantly capture the attention of anyone on\n",
              "the dance floor.\n",
              "\n",
              "|Best Party Songs That Always Get People Dancing \u001b[1;36m2025\u001b[0m\u001b[1m]\u001b[0m\u001b[1m(\u001b[0m\u001b[4;94mhttps://yourmusicdepot.com/party-songs/\u001b[0m\u001b[4;94m)\u001b[0m\n",
              "In the 2000s, many gifted artists put in their efforts to make incredible dance party music in the form of club \n",
              "music that you might hear playing in your local clubs to high-class clubs as well. The top \u001b[1;36m5\u001b[0m most popular party \n",
              "songs of all time are \u001b[32m\"I Gotta Feeling\"\u001b[0m by the Black Eyed Peas, \u001b[32m\"Party Rock Anthem\"\u001b[0m by LMFAO, \"We Found Love \u001b[33m...\u001b[0m\n",
              "\n",
              "|\u001b[1;36m50\u001b[0m Dance Party Songs to Get People on Their Feet - \n",
              "LoveToKnow\u001b[1m]\u001b[0m\u001b[1m(\u001b[0m\u001b[4;94mhttps://www.lovetoknow.com/celebrations/parties/dance-party-song\u001b[0m\u001b[4;94m)\u001b[0m\n",
              "Burning Love by Elvis Presley. You'll get your blood pumping by dancing to one of the King's biggest hit singles \n",
              "from the 1970s - Burning Love.Entering his jumpsuit era, Elvis began making music filled with complex layers and \n",
              "strong back beats that could compete with just about any top \u001b[1;36m10\u001b[0m song on the radio at the time.\n",
              "\n",
              "|\u001b[1;36m35\u001b[0m Best Party Songs to Help You Get Down & Boogie - MidderMusic\u001b[1m]\u001b[0m\u001b[1m(\u001b[0m\u001b[4;94mhttps://middermusic.com/best-party-songs/\u001b[0m\u001b[4;94m)\u001b[0m\n",
              "Best Party Songs - Final Thoughts . It wasn't easy to pick the best party songs, but we tried to cover different \n",
              "styles and genres so there's something for everyone. Nevertheless, all of the songs we mentioned today are the \n",
              "world's top party songs. And they will certainly get you in the party mood! Similar Playlists: Best Sing-Along \n",
              "Songs\n",
              "\n",
              "|The \u001b[1;36m101\u001b[0m Best Party Songs Of All Time \u001b[1m(\u001b[0mDance Songs\u001b[1m)\u001b[0m - MG - Music \n",
              "Grotto\u001b[1m]\u001b[0m\u001b[1m(\u001b[0m\u001b[4;94mhttps://www.musicgrotto.com/best-party-songs/\u001b[0m\u001b[4;94m)\u001b[0m\n",
              "It was released in \u001b[1;36m2011\u001b[0m on the Universal Music Group label and Tim Berling \u001b[1m(\u001b[0ma.k.a. Avicii\u001b[1m)\u001b[0m began composing the song\n",
              "in \u001b[1;36m2010\u001b[0m. \u001b[32m\"Levels\"\u001b[0m reached the 32nd spot on Billboard's US Dance Club Songs list for \u001b[1;36m2012\u001b[0m. Next: Our ultimate list \n",
              "of the top dance songs on TikTok. \u001b[1;36m39\u001b[0m. \u001b[32m\"Clarity\"\u001b[0m - DJ Zedd\n",
              "\n",
              "|The \u001b[1;36m50\u001b[0m Best Music Playlists for Parties |\u001b[1;36m2025\u001b[0m\u001b[1m]\u001b[0m - Playlist \n",
              "Names\u001b[1m]\u001b[0m\u001b[1m(\u001b[0m\u001b[4;94mhttps://www.playlistnames.org/best-music-playlists-for-parties/\u001b[0m\u001b[4;94m)\u001b[0m\n",
              "Party Starters: Apple Music: A killer soundtrack to elevate any party. Dance Party: Spotify: Perfect for getting \n",
              "everyone on their feet! Ultimate Party Playlist: YouTube Music: A mix of all the best party anthems. Throwback \n",
              "Jams: Pandora: Nostalgic hits that everyone will love! Hip-Hop Party: Tidal: The latest and greatest in hip-hop to \n",
              "keep \u001b[33m...\u001b[0m\n",
              "\n",
              "|The \u001b[1;36m40\u001b[0m Best Party Songs - Party Music - Dance Party Songs\u001b[1m]\u001b[0m\u001b[1m(\u001b[0m\u001b[4;94mhttps://www.songlineup.com/the-40-best-party-songs/\u001b[0m\u001b[4;94m)\u001b[0m\n",
              "Classic Party Anthems \u001b[32m\"Don't Stop Believin'\"\u001b[0m - Journey: An iconic anthem that gets everyone belting out the chorus.\n",
              "\u001b[32m\"Sweet Caroline\"\u001b[0m - Neil Diamond: Perfect for creating a moment of group singalong magic. \u001b[32m\"Dancing Queen\"\u001b[0m - ABBA: \n",
              "The ultimate disco hit that always fills the dancefloor. \u001b[32m\"Shout\"\u001b[0m - The Isley Brothers: A lively classic to get the \n",
              "party hopping.\n"
            ],
            "text/html": [
              "<pre style=\"white-space:pre;overflow-x:auto;line-height:normal;font-family:Menlo,'DejaVu Sans Mono',consolas,'Courier New',monospace\">Observations: ## Search Results\n",
              "\n",
              "|The <span style=\"color: #008080; text-decoration-color: #008080; font-weight: bold\">75</span> Best Party Songs That Will Get Everyone Dancing - \n",
              "Gear4music<span style=\"font-weight: bold\">](</span><span style=\"color: #0000ff; text-decoration-color: #0000ff; text-decoration: underline\">https://www.gear4music.com/blog/best-party-songs/)</span>\n",
              "Lighting can dramatically transform the atmosphere of your party. Consider incorporating various lighting solutions\n",
              "like light bars and LED par cans to enhance the mood. A classic mirror ball can add a touch of retro glamour, \n",
              "creating dazzling light patterns that dance along with the music.\n",
              "\n",
              "|<span style=\"color: #008080; text-decoration-color: #008080; font-weight: bold\">40</span> Best Party Songs | Songs To Dance To, Ranked By Our Editors - Time \n",
              "Out<span style=\"font-weight: bold\">](</span><span style=\"color: #0000ff; text-decoration-color: #0000ff; text-decoration: underline\">https://www.timeout.com/music/best-party-songs)</span>\n",
              "Release date: <span style=\"color: #008080; text-decoration-color: #008080; font-weight: bold\">2017</span>. A modern classic house track from the effortlessly cool DJ-producer Yaeji, <span style=\"color: #008000; text-decoration-color: #008000\">'Raingurl'</span> is \n",
              "effectively a loop of infectiously catchy chanting - 'Make it rain girl, make <span style=\"color: #808000; text-decoration-color: #808000\">...</span>\n",
              "\n",
              "|<span style=\"color: #008080; text-decoration-color: #008080; font-weight: bold\">45</span> Songs That Get Your Event Guests on the Dance Floor Every \n",
              "Time<span style=\"font-weight: bold\">](</span><span style=\"color: #0000ff; text-decoration-color: #0000ff; text-decoration: underline\">https://hub.theeventplannerexpo.com/entertainment/35-songs-that-get-your-event-guests-on-the-dance-floor-ever</span>\n",
              "<span style=\"color: #0000ff; text-decoration-color: #0000ff; text-decoration: underline\">y-time)</span>\n",
              "You'll know your client's event best, including music genre preferences and styles. But these songs are wildly \n",
              "popular among many generations and are always great to have on standby should your dance guests need a boost. Party\n",
              "Songs <span style=\"color: #008000; text-decoration-color: #008000\">\"Flowers\"</span> by Miley Cyrus <span style=\"font-weight: bold\">(</span><span style=\"color: #008080; text-decoration-color: #008080; font-weight: bold\">2023</span><span style=\"font-weight: bold\">)</span> <span style=\"color: #008000; text-decoration-color: #008000\">\"TQG\"</span> by KAROL G &amp; Shakira <span style=\"font-weight: bold\">(</span><span style=\"color: #008080; text-decoration-color: #008080; font-weight: bold\">2023</span><span style=\"font-weight: bold\">)</span> <span style=\"color: #008000; text-decoration-color: #008000\">\"TRUSTFALL\"</span> by P!nk <span style=\"font-weight: bold\">(</span><span style=\"color: #008080; text-decoration-color: #008080; font-weight: bold\">2023</span><span style=\"font-weight: bold\">)</span>\n",
              "\n",
              "|Best Songs To Party: DJ's Ultimate Party Songs Playlist - \n",
              "Top40Weekly.com<span style=\"font-weight: bold\">](</span><span style=\"color: #0000ff; text-decoration-color: #0000ff; text-decoration: underline\">https://top40weekly.com/best-songs-to-party/)</span>\n",
              "Lady Gaga's <span style=\"color: #008000; text-decoration-color: #008000\">\"Just Dance\"</span> is a hit that remains a go-to choice for worldwide party playlists. This dance-pop track, \n",
              "released in <span style=\"color: #008080; text-decoration-color: #008080; font-weight: bold\">2008</span>, features pulsating beats and high-energy vocals that instantly capture the attention of anyone on\n",
              "the dance floor.\n",
              "\n",
              "|Best Party Songs That Always Get People Dancing <span style=\"color: #008080; text-decoration-color: #008080; font-weight: bold\">2025</span><span style=\"font-weight: bold\">](</span><span style=\"color: #0000ff; text-decoration-color: #0000ff; text-decoration: underline\">https://yourmusicdepot.com/party-songs/)</span>\n",
              "In the 2000s, many gifted artists put in their efforts to make incredible dance party music in the form of club \n",
              "music that you might hear playing in your local clubs to high-class clubs as well. The top <span style=\"color: #008080; text-decoration-color: #008080; font-weight: bold\">5</span> most popular party \n",
              "songs of all time are <span style=\"color: #008000; text-decoration-color: #008000\">\"I Gotta Feeling\"</span> by the Black Eyed Peas, <span style=\"color: #008000; text-decoration-color: #008000\">\"Party Rock Anthem\"</span> by LMFAO, \"We Found Love <span style=\"color: #808000; text-decoration-color: #808000\">...</span>\n",
              "\n",
              "|<span style=\"color: #008080; text-decoration-color: #008080; font-weight: bold\">50</span> Dance Party Songs to Get People on Their Feet - \n",
              "LoveToKnow<span style=\"font-weight: bold\">](</span><span style=\"color: #0000ff; text-decoration-color: #0000ff; text-decoration: underline\">https://www.lovetoknow.com/celebrations/parties/dance-party-song)</span>\n",
              "Burning Love by Elvis Presley. You'll get your blood pumping by dancing to one of the King's biggest hit singles \n",
              "from the 1970s - Burning Love.Entering his jumpsuit era, Elvis began making music filled with complex layers and \n",
              "strong back beats that could compete with just about any top <span style=\"color: #008080; text-decoration-color: #008080; font-weight: bold\">10</span> song on the radio at the time.\n",
              "\n",
              "|<span style=\"color: #008080; text-decoration-color: #008080; font-weight: bold\">35</span> Best Party Songs to Help You Get Down &amp; Boogie - MidderMusic<span style=\"font-weight: bold\">](</span><span style=\"color: #0000ff; text-decoration-color: #0000ff; text-decoration: underline\">https://middermusic.com/best-party-songs/)</span>\n",
              "Best Party Songs - Final Thoughts . It wasn't easy to pick the best party songs, but we tried to cover different \n",
              "styles and genres so there's something for everyone. Nevertheless, all of the songs we mentioned today are the \n",
              "world's top party songs. And they will certainly get you in the party mood! Similar Playlists: Best Sing-Along \n",
              "Songs\n",
              "\n",
              "|The <span style=\"color: #008080; text-decoration-color: #008080; font-weight: bold\">101</span> Best Party Songs Of All Time <span style=\"font-weight: bold\">(</span>Dance Songs<span style=\"font-weight: bold\">)</span> - MG - Music \n",
              "Grotto<span style=\"font-weight: bold\">](</span><span style=\"color: #0000ff; text-decoration-color: #0000ff; text-decoration: underline\">https://www.musicgrotto.com/best-party-songs/)</span>\n",
              "It was released in <span style=\"color: #008080; text-decoration-color: #008080; font-weight: bold\">2011</span> on the Universal Music Group label and Tim Berling <span style=\"font-weight: bold\">(</span>a.k.a. Avicii<span style=\"font-weight: bold\">)</span> began composing the song\n",
              "in <span style=\"color: #008080; text-decoration-color: #008080; font-weight: bold\">2010</span>. <span style=\"color: #008000; text-decoration-color: #008000\">\"Levels\"</span> reached the 32nd spot on Billboard's US Dance Club Songs list for <span style=\"color: #008080; text-decoration-color: #008080; font-weight: bold\">2012</span>. Next: Our ultimate list \n",
              "of the top dance songs on TikTok. <span style=\"color: #008080; text-decoration-color: #008080; font-weight: bold\">39</span>. <span style=\"color: #008000; text-decoration-color: #008000\">\"Clarity\"</span> - DJ Zedd\n",
              "\n",
              "|The <span style=\"color: #008080; text-decoration-color: #008080; font-weight: bold\">50</span> Best Music Playlists for Parties |<span style=\"color: #008080; text-decoration-color: #008080; font-weight: bold\">2025</span><span style=\"font-weight: bold\">]</span> - Playlist \n",
              "Names<span style=\"font-weight: bold\">](</span><span style=\"color: #0000ff; text-decoration-color: #0000ff; text-decoration: underline\">https://www.playlistnames.org/best-music-playlists-for-parties/)</span>\n",
              "Party Starters: Apple Music: A killer soundtrack to elevate any party. Dance Party: Spotify: Perfect for getting \n",
              "everyone on their feet! Ultimate Party Playlist: YouTube Music: A mix of all the best party anthems. Throwback \n",
              "Jams: Pandora: Nostalgic hits that everyone will love! Hip-Hop Party: Tidal: The latest and greatest in hip-hop to \n",
              "keep <span style=\"color: #808000; text-decoration-color: #808000\">...</span>\n",
              "\n",
              "|The <span style=\"color: #008080; text-decoration-color: #008080; font-weight: bold\">40</span> Best Party Songs - Party Music - Dance Party Songs<span style=\"font-weight: bold\">](</span><span style=\"color: #0000ff; text-decoration-color: #0000ff; text-decoration: underline\">https://www.songlineup.com/the-40-best-party-songs/)</span>\n",
              "Classic Party Anthems <span style=\"color: #008000; text-decoration-color: #008000\">\"Don't Stop Believin'\"</span> - Journey: An iconic anthem that gets everyone belting out the chorus.\n",
              "<span style=\"color: #008000; text-decoration-color: #008000\">\"Sweet Caroline\"</span> - Neil Diamond: Perfect for creating a moment of group singalong magic. <span style=\"color: #008000; text-decoration-color: #008000\">\"Dancing Queen\"</span> - ABBA: \n",
              "The ultimate disco hit that always fills the dancefloor. <span style=\"color: #008000; text-decoration-color: #008000\">\"Shout\"</span> - The Isley Brothers: A lively classic to get the \n",
              "party hopping.\n",
              "</pre>\n"
            ]
          },
          "metadata": {}
        },
        {
          "output_type": "display_data",
          "data": {
            "text/plain": [
              "\u001b[2m[Step 4: Duration 2.78 seconds| Input tokens: 8,539 | Output tokens: 165]\u001b[0m\n"
            ],
            "text/html": [
              "<pre style=\"white-space:pre;overflow-x:auto;line-height:normal;font-family:Menlo,'DejaVu Sans Mono',consolas,'Courier New',monospace\"><span style=\"color: #7f7f7f; text-decoration-color: #7f7f7f\">[Step 4: Duration 2.78 seconds| Input tokens: 8,539 | Output tokens: 165]</span>\n",
              "</pre>\n"
            ]
          },
          "metadata": {}
        },
        {
          "output_type": "display_data",
          "data": {
            "text/plain": [
              "\u001b[38;2;212;183;2m━━━━━━━━━━━━━━━━━━━━━━━━━━━━━━━━━━━━━━━━━━━━━━━━━━━━━ \u001b[0m\u001b[1mStep \u001b[0m\u001b[1;36m5\u001b[0m\u001b[38;2;212;183;2m ━━━━━━━━━━━━━━━━━━━━━━━━━━━━━━━━━━━━━━━━━━━━━━━━━━━━━━\u001b[0m\n"
            ],
            "text/html": [
              "<pre style=\"white-space:pre;overflow-x:auto;line-height:normal;font-family:Menlo,'DejaVu Sans Mono',consolas,'Courier New',monospace\"><span style=\"color: #d4b702; text-decoration-color: #d4b702\">━━━━━━━━━━━━━━━━━━━━━━━━━━━━━━━━━━━━━━━━━━━━━━━━━━━━━ </span><span style=\"font-weight: bold\">Step </span><span style=\"color: #008080; text-decoration-color: #008080; font-weight: bold\">5</span><span style=\"color: #d4b702; text-decoration-color: #d4b702\"> ━━━━━━━━━━━━━━━━━━━━━━━━━━━━━━━━━━━━━━━━━━━━━━━━━━━━━━</span>\n",
              "</pre>\n"
            ]
          },
          "metadata": {}
        },
        {
          "output_type": "display_data",
          "data": {
            "text/plain": [
              "╭─────────────────────────────────────────────────────────────────────────────────────────────────────────────────╮\n",
              "│ Calling tool: 'final_answer' with arguments: {'answer': 'Given the theme of a party at Wayne\\'s mansion, here   │\n",
              "│ are some mixed recommendations incorporating both classic rock, pop hits, and dance music that should set the   │\n",
              "│ right tone:\\n\\n- \"Sweet Child O\\' Mine\" - Guns N\\' Roses\\n- \"Start Me Up\" - The Rolling Stones\\n- \"Like a       │\n",
              "│ Prayer\" - Madonna\\n- \"I Wanna Dance with Somebody\" - Whitney Houston\\n- \"Bohemian Rhapsody\" - Queen\\n- \"Billie  │\n",
              "│ Jean\" - Michael Jackson\\n- \"Stay With Me\" - Sam Smith\\n- \"Pacifiers\" - Muse\\n- \"Pump Up the Jam\" - Tech N9ne    │\n",
              "│ feat. Sirah\\n- \"Dance Monkey\" - Tones and I\\n- \"Wannabe\" - Spice Girls\\n- \"Shape of You\" - Ed Sheeran\\n- \"Shake │\n",
              "│ It Off\" - Taylor Swift\\n- \"Can\\'t Stop the Feeling!\" - Justin Timberlake\\n- \"Get It On\" - Al Green\\n- \"Levels\"  │\n",
              "│ - Avicii\\n- \"Uptown Funk\" - Mark Ronson feat. Bruno Mars\\n- \"Party Rock Anthem\" - LMFAO\\n- \"Shout\" - The        │\n",
              "│ Isleys\\n- \"Burning Love\" - Elvis Presley\\n- \"Rolling in the Deep\" - Adele\\n\\nThese songs cater to a variety of  │\n",
              "│ tastes and tempos, which should work well for a party atmosphere at the grand Wayne\\'s mansion.'}               │\n",
              "╰─────────────────────────────────────────────────────────────────────────────────────────────────────────────────╯\n"
            ],
            "text/html": [
              "<pre style=\"white-space:pre;overflow-x:auto;line-height:normal;font-family:Menlo,'DejaVu Sans Mono',consolas,'Courier New',monospace\">╭─────────────────────────────────────────────────────────────────────────────────────────────────────────────────╮\n",
              "│ Calling tool: 'final_answer' with arguments: {'answer': 'Given the theme of a party at Wayne\\'s mansion, here   │\n",
              "│ are some mixed recommendations incorporating both classic rock, pop hits, and dance music that should set the   │\n",
              "│ right tone:\\n\\n- \"Sweet Child O\\' Mine\" - Guns N\\' Roses\\n- \"Start Me Up\" - The Rolling Stones\\n- \"Like a       │\n",
              "│ Prayer\" - Madonna\\n- \"I Wanna Dance with Somebody\" - Whitney Houston\\n- \"Bohemian Rhapsody\" - Queen\\n- \"Billie  │\n",
              "│ Jean\" - Michael Jackson\\n- \"Stay With Me\" - Sam Smith\\n- \"Pacifiers\" - Muse\\n- \"Pump Up the Jam\" - Tech N9ne    │\n",
              "│ feat. Sirah\\n- \"Dance Monkey\" - Tones and I\\n- \"Wannabe\" - Spice Girls\\n- \"Shape of You\" - Ed Sheeran\\n- \"Shake │\n",
              "│ It Off\" - Taylor Swift\\n- \"Can\\'t Stop the Feeling!\" - Justin Timberlake\\n- \"Get It On\" - Al Green\\n- \"Levels\"  │\n",
              "│ - Avicii\\n- \"Uptown Funk\" - Mark Ronson feat. Bruno Mars\\n- \"Party Rock Anthem\" - LMFAO\\n- \"Shout\" - The        │\n",
              "│ Isleys\\n- \"Burning Love\" - Elvis Presley\\n- \"Rolling in the Deep\" - Adele\\n\\nThese songs cater to a variety of  │\n",
              "│ tastes and tempos, which should work well for a party atmosphere at the grand Wayne\\'s mansion.'}               │\n",
              "╰─────────────────────────────────────────────────────────────────────────────────────────────────────────────────╯\n",
              "</pre>\n"
            ]
          },
          "metadata": {}
        },
        {
          "output_type": "display_data",
          "data": {
            "text/plain": [
              "\u001b[1;38;2;212;183;2mFinal answer: Given the theme of a party at Wayne's mansion, here are some mixed recommendations incorporating both\u001b[0m\n",
              "\u001b[1;38;2;212;183;2mclassic rock, pop hits, and dance music that should set the right tone:\u001b[0m\n",
              "\n",
              "\u001b[1;38;2;212;183;2m- \"Sweet Child O' Mine\" - Guns N' Roses\u001b[0m\n",
              "\u001b[1;38;2;212;183;2m- \"Start Me Up\" - The Rolling Stones\u001b[0m\n",
              "\u001b[1;38;2;212;183;2m- \"Like a Prayer\" - Madonna\u001b[0m\n",
              "\u001b[1;38;2;212;183;2m- \"I Wanna Dance with Somebody\" - Whitney Houston\u001b[0m\n",
              "\u001b[1;38;2;212;183;2m- \"Bohemian Rhapsody\" - Queen\u001b[0m\n",
              "\u001b[1;38;2;212;183;2m- \"Billie Jean\" - Michael Jackson\u001b[0m\n",
              "\u001b[1;38;2;212;183;2m- \"Stay With Me\" - Sam Smith\u001b[0m\n",
              "\u001b[1;38;2;212;183;2m- \"Pacifiers\" - Muse\u001b[0m\n",
              "\u001b[1;38;2;212;183;2m- \"Pump Up the Jam\" - Tech N9ne feat. Sirah\u001b[0m\n",
              "\u001b[1;38;2;212;183;2m- \"Dance Monkey\" - Tones and I\u001b[0m\n",
              "\u001b[1;38;2;212;183;2m- \"Wannabe\" - Spice Girls\u001b[0m\n",
              "\u001b[1;38;2;212;183;2m- \"Shape of You\" - Ed Sheeran\u001b[0m\n",
              "\u001b[1;38;2;212;183;2m- \"Shake It Off\" - Taylor Swift\u001b[0m\n",
              "\u001b[1;38;2;212;183;2m- \"Can't Stop the Feeling!\" - Justin Timberlake\u001b[0m\n",
              "\u001b[1;38;2;212;183;2m- \"Get It On\" - Al Green\u001b[0m\n",
              "\u001b[1;38;2;212;183;2m- \"Levels\" - Avicii\u001b[0m\n",
              "\u001b[1;38;2;212;183;2m- \"Uptown Funk\" - Mark Ronson feat. Bruno Mars\u001b[0m\n",
              "\u001b[1;38;2;212;183;2m- \"Party Rock Anthem\" - LMFAO\u001b[0m\n",
              "\u001b[1;38;2;212;183;2m- \"Shout\" - The Isleys\u001b[0m\n",
              "\u001b[1;38;2;212;183;2m- \"Burning Love\" - Elvis Presley\u001b[0m\n",
              "\u001b[1;38;2;212;183;2m- \"Rolling in the Deep\" - Adele\u001b[0m\n",
              "\n",
              "\u001b[1;38;2;212;183;2mThese songs cater to a variety of tastes and tempos, which should work well for a party atmosphere at the grand \u001b[0m\n",
              "\u001b[1;38;2;212;183;2mWayne's mansion.\u001b[0m\n"
            ],
            "text/html": [
              "<pre style=\"white-space:pre;overflow-x:auto;line-height:normal;font-family:Menlo,'DejaVu Sans Mono',consolas,'Courier New',monospace\"><span style=\"color: #d4b702; text-decoration-color: #d4b702; font-weight: bold\">Final answer: Given the theme of a party at Wayne's mansion, here are some mixed recommendations incorporating both</span>\n",
              "<span style=\"color: #d4b702; text-decoration-color: #d4b702; font-weight: bold\">classic rock, pop hits, and dance music that should set the right tone:</span>\n",
              "\n",
              "<span style=\"color: #d4b702; text-decoration-color: #d4b702; font-weight: bold\">- \"Sweet Child O' Mine\" - Guns N' Roses</span>\n",
              "<span style=\"color: #d4b702; text-decoration-color: #d4b702; font-weight: bold\">- \"Start Me Up\" - The Rolling Stones</span>\n",
              "<span style=\"color: #d4b702; text-decoration-color: #d4b702; font-weight: bold\">- \"Like a Prayer\" - Madonna</span>\n",
              "<span style=\"color: #d4b702; text-decoration-color: #d4b702; font-weight: bold\">- \"I Wanna Dance with Somebody\" - Whitney Houston</span>\n",
              "<span style=\"color: #d4b702; text-decoration-color: #d4b702; font-weight: bold\">- \"Bohemian Rhapsody\" - Queen</span>\n",
              "<span style=\"color: #d4b702; text-decoration-color: #d4b702; font-weight: bold\">- \"Billie Jean\" - Michael Jackson</span>\n",
              "<span style=\"color: #d4b702; text-decoration-color: #d4b702; font-weight: bold\">- \"Stay With Me\" - Sam Smith</span>\n",
              "<span style=\"color: #d4b702; text-decoration-color: #d4b702; font-weight: bold\">- \"Pacifiers\" - Muse</span>\n",
              "<span style=\"color: #d4b702; text-decoration-color: #d4b702; font-weight: bold\">- \"Pump Up the Jam\" - Tech N9ne feat. Sirah</span>\n",
              "<span style=\"color: #d4b702; text-decoration-color: #d4b702; font-weight: bold\">- \"Dance Monkey\" - Tones and I</span>\n",
              "<span style=\"color: #d4b702; text-decoration-color: #d4b702; font-weight: bold\">- \"Wannabe\" - Spice Girls</span>\n",
              "<span style=\"color: #d4b702; text-decoration-color: #d4b702; font-weight: bold\">- \"Shape of You\" - Ed Sheeran</span>\n",
              "<span style=\"color: #d4b702; text-decoration-color: #d4b702; font-weight: bold\">- \"Shake It Off\" - Taylor Swift</span>\n",
              "<span style=\"color: #d4b702; text-decoration-color: #d4b702; font-weight: bold\">- \"Can't Stop the Feeling!\" - Justin Timberlake</span>\n",
              "<span style=\"color: #d4b702; text-decoration-color: #d4b702; font-weight: bold\">- \"Get It On\" - Al Green</span>\n",
              "<span style=\"color: #d4b702; text-decoration-color: #d4b702; font-weight: bold\">- \"Levels\" - Avicii</span>\n",
              "<span style=\"color: #d4b702; text-decoration-color: #d4b702; font-weight: bold\">- \"Uptown Funk\" - Mark Ronson feat. Bruno Mars</span>\n",
              "<span style=\"color: #d4b702; text-decoration-color: #d4b702; font-weight: bold\">- \"Party Rock Anthem\" - LMFAO</span>\n",
              "<span style=\"color: #d4b702; text-decoration-color: #d4b702; font-weight: bold\">- \"Shout\" - The Isleys</span>\n",
              "<span style=\"color: #d4b702; text-decoration-color: #d4b702; font-weight: bold\">- \"Burning Love\" - Elvis Presley</span>\n",
              "<span style=\"color: #d4b702; text-decoration-color: #d4b702; font-weight: bold\">- \"Rolling in the Deep\" - Adele</span>\n",
              "\n",
              "<span style=\"color: #d4b702; text-decoration-color: #d4b702; font-weight: bold\">These songs cater to a variety of tastes and tempos, which should work well for a party atmosphere at the grand </span>\n",
              "<span style=\"color: #d4b702; text-decoration-color: #d4b702; font-weight: bold\">Wayne's mansion.</span>\n",
              "</pre>\n"
            ]
          },
          "metadata": {}
        },
        {
          "output_type": "display_data",
          "data": {
            "text/plain": [
              "\u001b[2m[Step 5: Duration 4.76 seconds| Input tokens: 14,175 | Output tokens: 490]\u001b[0m\n"
            ],
            "text/html": [
              "<pre style=\"white-space:pre;overflow-x:auto;line-height:normal;font-family:Menlo,'DejaVu Sans Mono',consolas,'Courier New',monospace\"><span style=\"color: #7f7f7f; text-decoration-color: #7f7f7f\">[Step 5: Duration 4.76 seconds| Input tokens: 14,175 | Output tokens: 490]</span>\n",
              "</pre>\n"
            ]
          },
          "metadata": {}
        },
        {
          "output_type": "execute_result",
          "data": {
            "text/plain": [
              "'Given the theme of a party at Wayne\\'s mansion, here are some mixed recommendations incorporating both classic rock, pop hits, and dance music that should set the right tone:\\n\\n- \"Sweet Child O\\' Mine\" - Guns N\\' Roses\\n- \"Start Me Up\" - The Rolling Stones\\n- \"Like a Prayer\" - Madonna\\n- \"I Wanna Dance with Somebody\" - Whitney Houston\\n- \"Bohemian Rhapsody\" - Queen\\n- \"Billie Jean\" - Michael Jackson\\n- \"Stay With Me\" - Sam Smith\\n- \"Pacifiers\" - Muse\\n- \"Pump Up the Jam\" - Tech N9ne feat. Sirah\\n- \"Dance Monkey\" - Tones and I\\n- \"Wannabe\" - Spice Girls\\n- \"Shape of You\" - Ed Sheeran\\n- \"Shake It Off\" - Taylor Swift\\n- \"Can\\'t Stop the Feeling!\" - Justin Timberlake\\n- \"Get It On\" - Al Green\\n- \"Levels\" - Avicii\\n- \"Uptown Funk\" - Mark Ronson feat. Bruno Mars\\n- \"Party Rock Anthem\" - LMFAO\\n- \"Shout\" - The Isleys\\n- \"Burning Love\" - Elvis Presley\\n- \"Rolling in the Deep\" - Adele\\n\\nThese songs cater to a variety of tastes and tempos, which should work well for a party atmosphere at the grand Wayne\\'s mansion.'"
            ],
            "application/vnd.google.colaboratory.intrinsic+json": {
              "type": "string"
            }
          },
          "metadata": {},
          "execution_count": 6
        }
      ],
      "source": [
        "from smolagents import ToolCallingAgent, DuckDuckGoSearchTool, InferenceClientModel\n",
        "\n",
        "agent = ToolCallingAgent(tools=[DuckDuckGoSearchTool()], model=InferenceClientModel())\n",
        "\n",
        "agent.run(\"Search for the best music recommendations for a party at the Wayne's mansion.\")"
      ]
    },
    {
      "cell_type": "markdown",
      "metadata": {
        "id": "Cl19VWGRYXrr"
      },
      "source": [
        "\n",
        "When you examine the agent's trace, instead of seeing `Executing parsed code:`, you'll see something like:\n",
        "\n",
        "```text\n",
        "╭─────────────────────────────────────────────────────────────────────────────────────────────────────────────────╮\n",
        "│ Calling tool: 'web_search' with arguments: {'query': \"best music recommendations for a party at Wayne's         │\n",
        "│ mansion\"}                                                                                                       │\n",
        "╰─────────────────────────────────────────────────────────────────────────────────────────────────────────────────╯\n",
        "```  \n",
        "\n",
        "The agent generates a structured tool call that the system processes to produce the output, rather than directly executing code like a `CodeAgent`.\n",
        "\n",
        "Now that we understand both agent types, we can choose the right one for our needs. Let's continue exploring `smolagents` to make Alfred's party a success! 🎉"
      ]
    }
  ],
  "metadata": {
    "colab": {
      "provenance": [],
      "include_colab_link": true
    },
    "kernelspec": {
      "display_name": "Python 3",
      "name": "python3"
    },
    "language_info": {
      "name": "python"
    },
    "widgets": {
      "application/vnd.jupyter.widget-state+json": {
        "ac7d06dd1fab4cf193dfce4e3abffe33": {
          "model_module": "@jupyter-widgets/controls",
          "model_name": "VBoxModel",
          "model_module_version": "1.5.0",
          "state": {
            "_dom_classes": [],
            "_model_module": "@jupyter-widgets/controls",
            "_model_module_version": "1.5.0",
            "_model_name": "VBoxModel",
            "_view_count": null,
            "_view_module": "@jupyter-widgets/controls",
            "_view_module_version": "1.5.0",
            "_view_name": "VBoxView",
            "box_style": "",
            "children": [],
            "layout": "IPY_MODEL_f7e2dc5bd1664eaf838f7dbeec2c6b5b"
          }
        },
        "8a78b92dc278412b9a2f70563a703e83": {
          "model_module": "@jupyter-widgets/controls",
          "model_name": "HTMLModel",
          "model_module_version": "1.5.0",
          "state": {
            "_dom_classes": [],
            "_model_module": "@jupyter-widgets/controls",
            "_model_module_version": "1.5.0",
            "_model_name": "HTMLModel",
            "_view_count": null,
            "_view_module": "@jupyter-widgets/controls",
            "_view_module_version": "1.5.0",
            "_view_name": "HTMLView",
            "description": "",
            "description_tooltip": null,
            "layout": "IPY_MODEL_6ecc6e7b49954f9e8c1272db4cdf6692",
            "placeholder": "​",
            "style": "IPY_MODEL_93f815c693154cc782c1669027e357f7",
            "value": "<center> <img\nsrc=https://huggingface.co/front/assets/huggingface_logo-noborder.svg\nalt='Hugging Face'> <br> Copy a token from <a\nhref=\"https://huggingface.co/settings/tokens\" target=\"_blank\">your Hugging Face\ntokens page</a> and paste it below. <br> Immediately click login after copying\nyour token or it might be stored in plain text in this notebook file. </center>"
          }
        },
        "564467371d264de18796df029785aaae": {
          "model_module": "@jupyter-widgets/controls",
          "model_name": "PasswordModel",
          "model_module_version": "1.5.0",
          "state": {
            "_dom_classes": [],
            "_model_module": "@jupyter-widgets/controls",
            "_model_module_version": "1.5.0",
            "_model_name": "PasswordModel",
            "_view_count": null,
            "_view_module": "@jupyter-widgets/controls",
            "_view_module_version": "1.5.0",
            "_view_name": "PasswordView",
            "continuous_update": true,
            "description": "Token:",
            "description_tooltip": null,
            "disabled": false,
            "layout": "IPY_MODEL_c7a75279beb74429b262f4549389b646",
            "placeholder": "​",
            "style": "IPY_MODEL_313cc3f5ef6c4a72bcc1029013b060d9",
            "value": ""
          }
        },
        "809ac6f58cba4b2b8629605d41a10fdc": {
          "model_module": "@jupyter-widgets/controls",
          "model_name": "CheckboxModel",
          "model_module_version": "1.5.0",
          "state": {
            "_dom_classes": [],
            "_model_module": "@jupyter-widgets/controls",
            "_model_module_version": "1.5.0",
            "_model_name": "CheckboxModel",
            "_view_count": null,
            "_view_module": "@jupyter-widgets/controls",
            "_view_module_version": "1.5.0",
            "_view_name": "CheckboxView",
            "description": "Add token as git credential?",
            "description_tooltip": null,
            "disabled": false,
            "indent": true,
            "layout": "IPY_MODEL_18f15b0dc5284df1a97e1f05567bc115",
            "style": "IPY_MODEL_3720b26021fb45cda4ffd8ba6fe175e8",
            "value": true
          }
        },
        "e474f82ba18844dbb41e4783fe651adc": {
          "model_module": "@jupyter-widgets/controls",
          "model_name": "ButtonModel",
          "model_module_version": "1.5.0",
          "state": {
            "_dom_classes": [],
            "_model_module": "@jupyter-widgets/controls",
            "_model_module_version": "1.5.0",
            "_model_name": "ButtonModel",
            "_view_count": null,
            "_view_module": "@jupyter-widgets/controls",
            "_view_module_version": "1.5.0",
            "_view_name": "ButtonView",
            "button_style": "",
            "description": "Login",
            "disabled": false,
            "icon": "",
            "layout": "IPY_MODEL_02308d5d42b44c0ea26b4fe912ea32c4",
            "style": "IPY_MODEL_64f85def72eb4f3881cfbfea3a71d4bb",
            "tooltip": ""
          }
        },
        "dff90c0e8fdc4ca3be1a23a8730a24eb": {
          "model_module": "@jupyter-widgets/controls",
          "model_name": "HTMLModel",
          "model_module_version": "1.5.0",
          "state": {
            "_dom_classes": [],
            "_model_module": "@jupyter-widgets/controls",
            "_model_module_version": "1.5.0",
            "_model_name": "HTMLModel",
            "_view_count": null,
            "_view_module": "@jupyter-widgets/controls",
            "_view_module_version": "1.5.0",
            "_view_name": "HTMLView",
            "description": "",
            "description_tooltip": null,
            "layout": "IPY_MODEL_b83d927dd0cc467bb71c053c7fe4901e",
            "placeholder": "​",
            "style": "IPY_MODEL_1abb5aaca90a43de9df41127ea19815e",
            "value": "\n<b>Pro Tip:</b> If you don't already have one, you can create a dedicated\n'notebooks' token with 'write' access, that you can then easily reuse for all\nnotebooks. </center>"
          }
        },
        "f7e2dc5bd1664eaf838f7dbeec2c6b5b": {
          "model_module": "@jupyter-widgets/base",
          "model_name": "LayoutModel",
          "model_module_version": "1.2.0",
          "state": {
            "_model_module": "@jupyter-widgets/base",
            "_model_module_version": "1.2.0",
            "_model_name": "LayoutModel",
            "_view_count": null,
            "_view_module": "@jupyter-widgets/base",
            "_view_module_version": "1.2.0",
            "_view_name": "LayoutView",
            "align_content": null,
            "align_items": "center",
            "align_self": null,
            "border": null,
            "bottom": null,
            "display": "flex",
            "flex": null,
            "flex_flow": "column",
            "grid_area": null,
            "grid_auto_columns": null,
            "grid_auto_flow": null,
            "grid_auto_rows": null,
            "grid_column": null,
            "grid_gap": null,
            "grid_row": null,
            "grid_template_areas": null,
            "grid_template_columns": null,
            "grid_template_rows": null,
            "height": null,
            "justify_content": null,
            "justify_items": null,
            "left": null,
            "margin": null,
            "max_height": null,
            "max_width": null,
            "min_height": null,
            "min_width": null,
            "object_fit": null,
            "object_position": null,
            "order": null,
            "overflow": null,
            "overflow_x": null,
            "overflow_y": null,
            "padding": null,
            "right": null,
            "top": null,
            "visibility": null,
            "width": "50%"
          }
        },
        "6ecc6e7b49954f9e8c1272db4cdf6692": {
          "model_module": "@jupyter-widgets/base",
          "model_name": "LayoutModel",
          "model_module_version": "1.2.0",
          "state": {
            "_model_module": "@jupyter-widgets/base",
            "_model_module_version": "1.2.0",
            "_model_name": "LayoutModel",
            "_view_count": null,
            "_view_module": "@jupyter-widgets/base",
            "_view_module_version": "1.2.0",
            "_view_name": "LayoutView",
            "align_content": null,
            "align_items": null,
            "align_self": null,
            "border": null,
            "bottom": null,
            "display": null,
            "flex": null,
            "flex_flow": null,
            "grid_area": null,
            "grid_auto_columns": null,
            "grid_auto_flow": null,
            "grid_auto_rows": null,
            "grid_column": null,
            "grid_gap": null,
            "grid_row": null,
            "grid_template_areas": null,
            "grid_template_columns": null,
            "grid_template_rows": null,
            "height": null,
            "justify_content": null,
            "justify_items": null,
            "left": null,
            "margin": null,
            "max_height": null,
            "max_width": null,
            "min_height": null,
            "min_width": null,
            "object_fit": null,
            "object_position": null,
            "order": null,
            "overflow": null,
            "overflow_x": null,
            "overflow_y": null,
            "padding": null,
            "right": null,
            "top": null,
            "visibility": null,
            "width": null
          }
        },
        "93f815c693154cc782c1669027e357f7": {
          "model_module": "@jupyter-widgets/controls",
          "model_name": "DescriptionStyleModel",
          "model_module_version": "1.5.0",
          "state": {
            "_model_module": "@jupyter-widgets/controls",
            "_model_module_version": "1.5.0",
            "_model_name": "DescriptionStyleModel",
            "_view_count": null,
            "_view_module": "@jupyter-widgets/base",
            "_view_module_version": "1.2.0",
            "_view_name": "StyleView",
            "description_width": ""
          }
        },
        "c7a75279beb74429b262f4549389b646": {
          "model_module": "@jupyter-widgets/base",
          "model_name": "LayoutModel",
          "model_module_version": "1.2.0",
          "state": {
            "_model_module": "@jupyter-widgets/base",
            "_model_module_version": "1.2.0",
            "_model_name": "LayoutModel",
            "_view_count": null,
            "_view_module": "@jupyter-widgets/base",
            "_view_module_version": "1.2.0",
            "_view_name": "LayoutView",
            "align_content": null,
            "align_items": null,
            "align_self": null,
            "border": null,
            "bottom": null,
            "display": null,
            "flex": null,
            "flex_flow": null,
            "grid_area": null,
            "grid_auto_columns": null,
            "grid_auto_flow": null,
            "grid_auto_rows": null,
            "grid_column": null,
            "grid_gap": null,
            "grid_row": null,
            "grid_template_areas": null,
            "grid_template_columns": null,
            "grid_template_rows": null,
            "height": null,
            "justify_content": null,
            "justify_items": null,
            "left": null,
            "margin": null,
            "max_height": null,
            "max_width": null,
            "min_height": null,
            "min_width": null,
            "object_fit": null,
            "object_position": null,
            "order": null,
            "overflow": null,
            "overflow_x": null,
            "overflow_y": null,
            "padding": null,
            "right": null,
            "top": null,
            "visibility": null,
            "width": null
          }
        },
        "313cc3f5ef6c4a72bcc1029013b060d9": {
          "model_module": "@jupyter-widgets/controls",
          "model_name": "DescriptionStyleModel",
          "model_module_version": "1.5.0",
          "state": {
            "_model_module": "@jupyter-widgets/controls",
            "_model_module_version": "1.5.0",
            "_model_name": "DescriptionStyleModel",
            "_view_count": null,
            "_view_module": "@jupyter-widgets/base",
            "_view_module_version": "1.2.0",
            "_view_name": "StyleView",
            "description_width": ""
          }
        },
        "18f15b0dc5284df1a97e1f05567bc115": {
          "model_module": "@jupyter-widgets/base",
          "model_name": "LayoutModel",
          "model_module_version": "1.2.0",
          "state": {
            "_model_module": "@jupyter-widgets/base",
            "_model_module_version": "1.2.0",
            "_model_name": "LayoutModel",
            "_view_count": null,
            "_view_module": "@jupyter-widgets/base",
            "_view_module_version": "1.2.0",
            "_view_name": "LayoutView",
            "align_content": null,
            "align_items": null,
            "align_self": null,
            "border": null,
            "bottom": null,
            "display": null,
            "flex": null,
            "flex_flow": null,
            "grid_area": null,
            "grid_auto_columns": null,
            "grid_auto_flow": null,
            "grid_auto_rows": null,
            "grid_column": null,
            "grid_gap": null,
            "grid_row": null,
            "grid_template_areas": null,
            "grid_template_columns": null,
            "grid_template_rows": null,
            "height": null,
            "justify_content": null,
            "justify_items": null,
            "left": null,
            "margin": null,
            "max_height": null,
            "max_width": null,
            "min_height": null,
            "min_width": null,
            "object_fit": null,
            "object_position": null,
            "order": null,
            "overflow": null,
            "overflow_x": null,
            "overflow_y": null,
            "padding": null,
            "right": null,
            "top": null,
            "visibility": null,
            "width": null
          }
        },
        "3720b26021fb45cda4ffd8ba6fe175e8": {
          "model_module": "@jupyter-widgets/controls",
          "model_name": "DescriptionStyleModel",
          "model_module_version": "1.5.0",
          "state": {
            "_model_module": "@jupyter-widgets/controls",
            "_model_module_version": "1.5.0",
            "_model_name": "DescriptionStyleModel",
            "_view_count": null,
            "_view_module": "@jupyter-widgets/base",
            "_view_module_version": "1.2.0",
            "_view_name": "StyleView",
            "description_width": ""
          }
        },
        "02308d5d42b44c0ea26b4fe912ea32c4": {
          "model_module": "@jupyter-widgets/base",
          "model_name": "LayoutModel",
          "model_module_version": "1.2.0",
          "state": {
            "_model_module": "@jupyter-widgets/base",
            "_model_module_version": "1.2.0",
            "_model_name": "LayoutModel",
            "_view_count": null,
            "_view_module": "@jupyter-widgets/base",
            "_view_module_version": "1.2.0",
            "_view_name": "LayoutView",
            "align_content": null,
            "align_items": null,
            "align_self": null,
            "border": null,
            "bottom": null,
            "display": null,
            "flex": null,
            "flex_flow": null,
            "grid_area": null,
            "grid_auto_columns": null,
            "grid_auto_flow": null,
            "grid_auto_rows": null,
            "grid_column": null,
            "grid_gap": null,
            "grid_row": null,
            "grid_template_areas": null,
            "grid_template_columns": null,
            "grid_template_rows": null,
            "height": null,
            "justify_content": null,
            "justify_items": null,
            "left": null,
            "margin": null,
            "max_height": null,
            "max_width": null,
            "min_height": null,
            "min_width": null,
            "object_fit": null,
            "object_position": null,
            "order": null,
            "overflow": null,
            "overflow_x": null,
            "overflow_y": null,
            "padding": null,
            "right": null,
            "top": null,
            "visibility": null,
            "width": null
          }
        },
        "64f85def72eb4f3881cfbfea3a71d4bb": {
          "model_module": "@jupyter-widgets/controls",
          "model_name": "ButtonStyleModel",
          "model_module_version": "1.5.0",
          "state": {
            "_model_module": "@jupyter-widgets/controls",
            "_model_module_version": "1.5.0",
            "_model_name": "ButtonStyleModel",
            "_view_count": null,
            "_view_module": "@jupyter-widgets/base",
            "_view_module_version": "1.2.0",
            "_view_name": "StyleView",
            "button_color": null,
            "font_weight": ""
          }
        },
        "b83d927dd0cc467bb71c053c7fe4901e": {
          "model_module": "@jupyter-widgets/base",
          "model_name": "LayoutModel",
          "model_module_version": "1.2.0",
          "state": {
            "_model_module": "@jupyter-widgets/base",
            "_model_module_version": "1.2.0",
            "_model_name": "LayoutModel",
            "_view_count": null,
            "_view_module": "@jupyter-widgets/base",
            "_view_module_version": "1.2.0",
            "_view_name": "LayoutView",
            "align_content": null,
            "align_items": null,
            "align_self": null,
            "border": null,
            "bottom": null,
            "display": null,
            "flex": null,
            "flex_flow": null,
            "grid_area": null,
            "grid_auto_columns": null,
            "grid_auto_flow": null,
            "grid_auto_rows": null,
            "grid_column": null,
            "grid_gap": null,
            "grid_row": null,
            "grid_template_areas": null,
            "grid_template_columns": null,
            "grid_template_rows": null,
            "height": null,
            "justify_content": null,
            "justify_items": null,
            "left": null,
            "margin": null,
            "max_height": null,
            "max_width": null,
            "min_height": null,
            "min_width": null,
            "object_fit": null,
            "object_position": null,
            "order": null,
            "overflow": null,
            "overflow_x": null,
            "overflow_y": null,
            "padding": null,
            "right": null,
            "top": null,
            "visibility": null,
            "width": null
          }
        },
        "1abb5aaca90a43de9df41127ea19815e": {
          "model_module": "@jupyter-widgets/controls",
          "model_name": "DescriptionStyleModel",
          "model_module_version": "1.5.0",
          "state": {
            "_model_module": "@jupyter-widgets/controls",
            "_model_module_version": "1.5.0",
            "_model_name": "DescriptionStyleModel",
            "_view_count": null,
            "_view_module": "@jupyter-widgets/base",
            "_view_module_version": "1.2.0",
            "_view_name": "StyleView",
            "description_width": ""
          }
        },
        "4c61bba283d2431b883e4d059fabb78c": {
          "model_module": "@jupyter-widgets/controls",
          "model_name": "LabelModel",
          "model_module_version": "1.5.0",
          "state": {
            "_dom_classes": [],
            "_model_module": "@jupyter-widgets/controls",
            "_model_module_version": "1.5.0",
            "_model_name": "LabelModel",
            "_view_count": null,
            "_view_module": "@jupyter-widgets/controls",
            "_view_module_version": "1.5.0",
            "_view_name": "LabelView",
            "description": "",
            "description_tooltip": null,
            "layout": "IPY_MODEL_48ba11d65f1c42bb82d052ea26c1b55a",
            "placeholder": "​",
            "style": "IPY_MODEL_2c2516b125764c268bb6391538c596ff",
            "value": "Connecting..."
          }
        },
        "48ba11d65f1c42bb82d052ea26c1b55a": {
          "model_module": "@jupyter-widgets/base",
          "model_name": "LayoutModel",
          "model_module_version": "1.2.0",
          "state": {
            "_model_module": "@jupyter-widgets/base",
            "_model_module_version": "1.2.0",
            "_model_name": "LayoutModel",
            "_view_count": null,
            "_view_module": "@jupyter-widgets/base",
            "_view_module_version": "1.2.0",
            "_view_name": "LayoutView",
            "align_content": null,
            "align_items": null,
            "align_self": null,
            "border": null,
            "bottom": null,
            "display": null,
            "flex": null,
            "flex_flow": null,
            "grid_area": null,
            "grid_auto_columns": null,
            "grid_auto_flow": null,
            "grid_auto_rows": null,
            "grid_column": null,
            "grid_gap": null,
            "grid_row": null,
            "grid_template_areas": null,
            "grid_template_columns": null,
            "grid_template_rows": null,
            "height": null,
            "justify_content": null,
            "justify_items": null,
            "left": null,
            "margin": null,
            "max_height": null,
            "max_width": null,
            "min_height": null,
            "min_width": null,
            "object_fit": null,
            "object_position": null,
            "order": null,
            "overflow": null,
            "overflow_x": null,
            "overflow_y": null,
            "padding": null,
            "right": null,
            "top": null,
            "visibility": null,
            "width": null
          }
        },
        "2c2516b125764c268bb6391538c596ff": {
          "model_module": "@jupyter-widgets/controls",
          "model_name": "DescriptionStyleModel",
          "model_module_version": "1.5.0",
          "state": {
            "_model_module": "@jupyter-widgets/controls",
            "_model_module_version": "1.5.0",
            "_model_name": "DescriptionStyleModel",
            "_view_count": null,
            "_view_module": "@jupyter-widgets/base",
            "_view_module_version": "1.2.0",
            "_view_name": "StyleView",
            "description_width": ""
          }
        }
      }
    }
  },
  "nbformat": 4,
  "nbformat_minor": 0
}